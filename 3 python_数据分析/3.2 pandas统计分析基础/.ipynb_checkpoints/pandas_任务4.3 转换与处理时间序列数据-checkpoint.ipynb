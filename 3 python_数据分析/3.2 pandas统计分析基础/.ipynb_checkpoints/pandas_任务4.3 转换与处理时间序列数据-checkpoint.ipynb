{
 "cells": [
  {
   "cell_type": "markdown",
   "metadata": {},
   "source": [
    "## 代码 4-41 转换字符串时间为标准时间"
   ]
  },
  {
   "cell_type": "code",
   "execution_count": 12,
   "metadata": {},
   "outputs": [
    {
     "name": "stdout",
     "output_type": "stream",
     "text": [
      "进行转换前订单信息表lock_time的类型为: object\n",
      "进行转换后订单信息表lock_time的类型为: datetime64[ns]\n"
     ]
    }
   ],
   "source": [
    "import pandas as pd\n",
    "path = '../data'\n",
    "order = pd.read_table(path+'/meal_order_info.csv',sep = ',',encoding = 'gbk')\n",
    "print('进行转换前订单信息表lock_time的类型为:',order['lock_time'] .dtypes)\n",
    "order['lock_time'] = pd.to_datetime(order['lock_time'])\n",
    "print('进行转换后订单信息表lock_time的类型为:',order['lock_time'].dtypes)"
   ]
  },
  {
   "cell_type": "markdown",
   "metadata": {},
   "source": [
    "## 代码 4-42 Timestamp的最小时间和最大时间"
   ]
  },
  {
   "cell_type": "code",
   "execution_count": 14,
   "metadata": {},
   "outputs": [
    {
     "name": "stdout",
     "output_type": "stream",
     "text": [
      "最小时间为： 1677-09-21 00:12:43.145225\n",
      "最大时间为： 2262-04-11 23:47:16.854775807\n"
     ]
    }
   ],
   "source": [
    "print('最小时间为：', pd.Timestamp.min)\n",
    "print('最大时间为：', pd.Timestamp.max)"
   ]
  },
  {
   "cell_type": "markdown",
   "metadata": {},
   "source": [
    "## 代码 4-43 时间字符串转换为DatatimeIndex和PeriodIndex"
   ]
  },
  {
   "cell_type": "code",
   "execution_count": 21,
   "metadata": {},
   "outputs": [
    {
     "name": "stdout",
     "output_type": "stream",
     "text": [
      "转换为DatetimeIndex后数据的类型为：\n",
      " <class 'pandas.core.indexes.datetimes.DatetimeIndex'>\n",
      "转换为DatetimeIndex后数据的类型为：\n",
      " <class 'pandas.core.indexes.period.PeriodIndex'>\n"
     ]
    }
   ],
   "source": [
    "dateIndex = pd.DatetimeIndex(order['lock_time'])\n",
    "print('转换为DatetimeIndex后数据的类型为：\\n',type(dateIndex))\n",
    "periodIndex = pd.PeriodIndex(order['lock_time'],freq = 'S')\n",
    "print('转换为DatetimeIndex后数据的类型为：\\n',type(periodIndex))"
   ]
  },
  {
   "cell_type": "markdown",
   "metadata": {},
   "source": [
    "## 代码 4-44 提取datetime数据中的时间序列数据"
   ]
  },
  {
   "cell_type": "code",
   "execution_count": 38,
   "metadata": {},
   "outputs": [
    {
     "name": "stdout",
     "output_type": "stream",
     "text": [
      "lock_time中的年份数据前5个为： [2016, 2016, 2016, 2016, 2016]\n",
      "lock_time中的月份数据前5个为： [8, 8, 8, 8, 8]\n",
      "lock_time中的日期数据前5个为： [1, 1, 1, 1, 1]\n",
      "lock_time中的星期名称数据前5个为： ['Monday', 'Monday', 'Monday', 'Monday', 'Monday']\n"
     ]
    }
   ],
   "source": [
    "year1 = [i.year for i in order['lock_time']]\n",
    "print('lock_time中的年份数据前5个为：',year1[:5])\n",
    "month1 = [i.month for i in order['lock_time']]\n",
    "print('lock_time中的月份数据前5个为：',month1[:5])\n",
    "day1 = [i.day for i in order['lock_time']]\n",
    "print('lock_time中的日期数据前5个为：',day1[:5])\n",
    "weekday1 = [i.day_name() for i in order['lock_time']]\n",
    "print('lock_time中的星期名称数据前5个为：',weekday1[:5])"
   ]
  },
  {
   "cell_type": "markdown",
   "metadata": {},
   "source": [
    "# 代码 4-45 提取DatetimeIndex和PeriodIndex中的数据"
   ]
  },
  {
   "cell_type": "code",
   "execution_count": 44,
   "metadata": {},
   "outputs": [
    {
     "name": "stdout",
     "output_type": "stream",
     "text": [
      "dataIndex中的星期名称数据前5个为:\n",
      " Index(['Monday', 'Monday', 'Monday', 'Monday', 'Monday'], dtype='object', name='lock_time')\n",
      "periodIndex中的星期标号数据前5个为： Int64Index([0, 0, 0, 0, 0], dtype='int64', name='lock_time')\n"
     ]
    }
   ],
   "source": [
    "print('dataIndex中的星期名称数据前5个为:\\n',dateIndex.day_name() [:5])\n",
    "print('periodIndex中的星期标号数据前5个为：',\n",
    "      periodIndex.weekday[:5])"
   ]
  },
  {
   "cell_type": "markdown",
   "metadata": {},
   "source": [
    "## 代码 4-46 使用Timedelta 实现时间数据的加运算"
   ]
  },
  {
   "cell_type": "code",
   "execution_count": 46,
   "metadata": {},
   "outputs": [
    {
     "name": "stdout",
     "output_type": "stream",
     "text": [
      "lock_time在加上一天前前5行数据为：\n",
      " 0   2016-08-01 11:11:46\n",
      "1   2016-08-01 11:31:55\n",
      "2   2016-08-01 12:54:37\n",
      "3   2016-08-01 13:08:20\n",
      "4   2016-08-01 13:07:16\n",
      "Name: lock_time, dtype: datetime64[ns]\n",
      "lock_time在加上一天前前5行数据为：\n",
      " 0   2016-08-02 11:11:46\n",
      "1   2016-08-02 11:31:55\n",
      "2   2016-08-02 12:54:37\n",
      "3   2016-08-02 13:08:20\n",
      "4   2016-08-02 13:07:16\n",
      "Name: lock_time, dtype: datetime64[ns]\n"
     ]
    }
   ],
   "source": [
    "time1 = order['lock_time']+pd.Timedelta(days = 1) \n",
    "print('lock_time在加上一天前前5行数据为：\\n',order['lock_time'][:5])\n",
    "print('lock_time在加上一天前前5行数据为：\\n',time1[:5])"
   ]
  },
  {
   "cell_type": "markdown",
   "metadata": {},
   "source": [
    "## 代码 4-47 使用Timedelta实现时间数据的减运算"
   ]
  },
  {
   "cell_type": "code",
   "execution_count": 48,
   "metadata": {},
   "outputs": [
    {
     "name": "stdout",
     "output_type": "stream",
     "text": [
      "lock_time减去2017年1月1日0点0时0分后的数据：\n",
      " 0   -153 days +11:11:46\n",
      "1   -153 days +11:31:55\n",
      "2   -153 days +12:54:37\n",
      "3   -153 days +13:08:20\n",
      "4   -153 days +13:07:16\n",
      "Name: lock_time, dtype: timedelta64[ns]\n",
      "lock_time减去time1后的数据类型为： timedelta64[ns]\n"
     ]
    }
   ],
   "source": [
    "timeDelta = order['lock_time'] - pd.to_datetime('2017-1-1')\n",
    "print('lock_time减去2017年1月1日0点0时0分后的数据：\\n',\n",
    "      timeDelta[:5])\n",
    "print('lock_time减去time1后的数据类型为：',timeDelta.dtypes)"
   ]
  },
  {
   "cell_type": "markdown",
   "metadata": {},
   "source": [
    "# 代码 4-48 订单信息表时间数据转换"
   ]
  },
  {
   "cell_type": "code",
   "execution_count": 49,
   "metadata": {},
   "outputs": [
    {
     "name": "stdout",
     "output_type": "stream",
     "text": [
      "进行转换后订单信息表use_start_time和lock_time的类型为：\n",
      " use_start_time    datetime64[ns]\n",
      "lock_time         datetime64[ns]\n",
      "dtype: object\n"
     ]
    }
   ],
   "source": [
    "order = pd.read_table('../data/meal_order_info.csv',\n",
    "      sep = ',',encoding = 'gbk')\n",
    "order['use_start_time'] = pd.to_datetime(order['use_start_time'])\n",
    "order['lock_time'] = pd.to_datetime(order['lock_time'])\n",
    "print('进行转换后订单信息表use_start_time和lock_time的类型为：\\n', \n",
    "      order[['use_start_time','lock_time']].dtypes)"
   ]
  },
  {
   "cell_type": "markdown",
   "metadata": {},
   "source": [
    "## 代码 4-49 订单信息表时间信息提取"
   ]
  },
  {
   "cell_type": "code",
   "execution_count": 52,
   "metadata": {},
   "outputs": [
    {
     "name": "stdout",
     "output_type": "stream",
     "text": [
      "订单详情表中的前5条数据的年份信息为： [2016, 2016, 2016, 2016, 2016]\n",
      "订单详情表中的前5条数据的月份信息为： [8, 8, 8, 8, 8]\n",
      "订单详情表中的前5条数据的日期信息为： [1, 1, 1, 1, 1]\n",
      "订单详情表中的前5条数据的周信息为： [31, 31, 31, 31, 31]\n",
      "订单详情表中的前5条数据的星期信息为： [0, 0, 0, 0, 0]\n",
      "订单详情表中的前5条数据的星期名称信息为： ['Monday', 'Monday', 'Monday', 'Monday', 'Monday']\n"
     ]
    }
   ],
   "source": [
    "year = [i.year for i in order['lock_time']]## 提取年份信息\n",
    "month = [i.month for i in order['lock_time']]## 提取月份信息\n",
    "day = [i.day for i in  order['lock_time']]## 提取日期信息\n",
    "week = [i.week for i in  order['lock_time']]## 提取周信息\n",
    "weekday = [i.weekday() for i in  order['lock_time']]##提取星期信息\n",
    "## 提取星期名称信息\n",
    "weekname = [i.day_name() for i in  order['lock_time']]\n",
    "print('订单详情表中的前5条数据的年份信息为：',year[:5])\n",
    "print('订单详情表中的前5条数据的月份信息为：',month[:5])\n",
    "print('订单详情表中的前5条数据的日期信息为：',day[:5])\n",
    "print('订单详情表中的前5条数据的周信息为：',week[:5])\n",
    "print('订单详情表中的前5条数据的星期信息为：',weekday[:5])\n",
    "print('订单详情表中的前5条数据的星期名称信息为：',weekname[:5])"
   ]
  },
  {
   "cell_type": "markdown",
   "metadata": {},
   "source": [
    "## 代码 4-50 查看订单信息表时间统计信息"
   ]
  },
  {
   "cell_type": "code",
   "execution_count": 54,
   "metadata": {},
   "outputs": [
    {
     "name": "stdout",
     "output_type": "stream",
     "text": [
      "订单最早的时间为： 2016-08-01 11:11:46\n",
      "订单最晚的时间为： 2016-08-31 21:56:12\n",
      "订单持续的时间为： 30 days 10:44:26\n",
      "平均点餐时间为： 0 days 01:12:10.326923\n",
      "最小点餐时间为： -1 days +00:05:03\n",
      "最大点餐时间为： 16 days 00:08:00\n"
     ]
    }
   ],
   "source": [
    "timemin = order['lock_time'].min()\n",
    "timemax = order['lock_time'].max()\n",
    "print('订单最早的时间为：',timemin)\n",
    "print('订单最晚的时间为：',timemax)\n",
    "print('订单持续的时间为：',timemax-timemin)\n",
    "\n",
    "chekTime = order['lock_time'] - order['use_start_time']\n",
    "print('平均点餐时间为：',chekTime.mean())\n",
    "print('最小点餐时间为：',chekTime.min())\n",
    "print('最大点餐时间为：',chekTime.max())"
   ]
  }
 ],
 "metadata": {
  "kernelspec": {
   "display_name": "Python 3",
   "language": "python",
   "name": "python3"
  },
  "language_info": {
   "codemirror_mode": {
    "name": "ipython",
    "version": 3
   },
   "file_extension": ".py",
   "mimetype": "text/x-python",
   "name": "python",
   "nbconvert_exporter": "python",
   "pygments_lexer": "ipython3",
   "version": "3.7.6"
  }
 },
 "nbformat": 4,
 "nbformat_minor": 4
}
