{
 "cells": [
  {
   "cell_type": "markdown",
   "metadata": {},
   "source": [
    "# 任务 6.1 使用sklearn 转换器处理数据\n",
    "## 6.1.1 加载datasets模块中的数据集\n",
    "sklearn库的datasets模块集成了部分数据分析的经典数据集，可以使用这些数据集进行数据预处理，建模等操作，熟悉sklearn的数据处理流程和建模流程。\n",
    "#### datasets模块常用数据集的加载函数与解释如下表所示。\n"
   ]
  },
  {
   "cell_type": "code",
   "execution_count": 2,
   "metadata": {},
   "outputs": [
    {
     "data": {
      "text/html": [
       "<img src = './image/6-1-1.png',title = '11',width=100,height=100>\n"
      ],
      "text/plain": [
       "<IPython.core.display.HTML object>"
      ]
     },
     "metadata": {},
     "output_type": "display_data"
    }
   ],
   "source": [
    "%%html\n",
    "<img src = './image/6-1-1.png',title = '11',width=100,height=100>"
   ]
  },
  {
   "cell_type": "markdown",
   "metadata": {},
   "source": [
    "### 代码 6-1 加载breast_cancer 数据集\n",
    "加载后的数据集可以视为一个字典，几乎所有的sklearn数据集均可以使用data，target，feature_names，DESCR分别获取数据集的数据，标签，特征名称和描述信息。\n"
   ]
  },
  {
   "cell_type": "code",
   "execution_count": 7,
   "metadata": {},
   "outputs": [
    {
     "name": "stdout",
     "output_type": "stream",
     "text": [
      "breast_cancer数据集的长度为： 6\n",
      "breast_cancer数据集的类型为： <class 'sklearn.utils.Bunch'>\n"
     ]
    }
   ],
   "source": [
    "from sklearn.datasets import load_breast_cancer\n",
    "cancer = load_breast_cancer()  ## 将数据集赋值给iris变量\n",
    "print('breast_cancer数据集的长度为：',len(cancer))\n",
    "print('breast_cancer数据集的类型为：',type(cancer))"
   ]
  },
  {
   "cell_type": "markdown",
   "metadata": {},
   "source": [
    "### 代码 6-2 sklearn 自带数据集内部消息获取"
   ]
  },
  {
   "cell_type": "code",
   "execution_count": 17,
   "metadata": {},
   "outputs": [
    {
     "name": "stdout",
     "output_type": "stream",
     "text": [
      "breast_cancer数据集的数据为： \n",
      " [[1.799e+01 1.038e+01 1.228e+02 ... 2.654e-01 4.601e-01 1.189e-01]\n",
      " [2.057e+01 1.777e+01 1.329e+02 ... 1.860e-01 2.750e-01 8.902e-02]\n",
      " [1.969e+01 2.125e+01 1.300e+02 ... 2.430e-01 3.613e-01 8.758e-02]\n",
      " ...\n",
      " [1.660e+01 2.808e+01 1.083e+02 ... 1.418e-01 2.218e-01 7.820e-02]\n",
      " [2.060e+01 2.933e+01 1.401e+02 ... 2.650e-01 4.087e-01 1.240e-01]\n",
      " [7.760e+00 2.454e+01 4.792e+01 ... 0.000e+00 2.871e-01 7.039e-02]]\n",
      "breast_cancer数据集的标签为：\n",
      " [0 0 0 0 0 0 0 0 0 0 0 0 0 0 0 0 0 0 0 1 1 1 0 0 0 0 0 0 0 0 0 0 0 0 0 0 0\n",
      " 1 0 0 0 0 0 0 0 0 1 0 1 1 1 1 1 0 0 1 0 0 1 1 1 1 0 1 0 0 1 1 1 1 0 1 0 0\n",
      " 1 0 1 0 0 1 1 1 0 0 1 0 0 0 1 1 1 0 1 1 0 0 1 1 1 0 0 1 1 1 1 0 1 1 0 1 1\n",
      " 1 1 1 1 1 1 0 0 0 1 0 0 1 1 1 0 0 1 0 1 0 0 1 0 0 1 1 0 1 1 0 1 1 1 1 0 1\n",
      " 1 1 1 1 1 1 1 1 0 1 1 1 1 0 0 1 0 1 1 0 0 1 1 0 0 1 1 1 1 0 1 1 0 0 0 1 0\n",
      " 1 0 1 1 1 0 1 1 0 0 1 0 0 0 0 1 0 0 0 1 0 1 0 1 1 0 1 0 0 0 0 1 1 0 0 1 1\n",
      " 1 0 1 1 1 1 1 0 0 1 1 0 1 1 0 0 1 0 1 1 1 1 0 1 1 1 1 1 0 1 0 0 0 0 0 0 0\n",
      " 0 0 0 0 0 0 0 1 1 1 1 1 1 0 1 0 1 1 0 1 1 0 1 0 0 1 1 1 1 1 1 1 1 1 1 1 1\n",
      " 1 0 1 1 0 1 0 1 1 1 1 1 1 1 1 1 1 1 1 1 1 0 1 1 1 0 1 0 1 1 1 1 0 0 0 1 1\n",
      " 1 1 0 1 0 1 0 1 1 1 0 1 1 1 1 1 1 1 0 0 0 1 1 1 1 1 1 1 1 1 1 1 0 0 1 0 0\n",
      " 0 1 0 0 1 1 1 1 1 0 1 1 1 1 1 0 1 1 1 0 1 1 0 0 1 1 1 1 1 1 0 1 1 1 1 1 1\n",
      " 1 0 1 1 1 1 1 0 1 1 0 1 1 1 1 1 1 1 1 1 1 1 1 0 1 0 0 1 0 1 1 1 1 1 0 1 1\n",
      " 0 1 0 1 1 0 1 0 1 1 1 1 1 1 1 1 0 0 1 1 1 1 1 1 0 1 1 1 1 1 1 1 1 1 1 0 1\n",
      " 1 1 1 1 1 1 0 1 0 1 1 0 1 1 1 1 1 0 0 1 0 1 0 1 1 1 1 1 0 1 1 0 1 0 1 0 0\n",
      " 1 1 1 0 1 1 1 1 1 1 1 1 1 1 1 0 1 0 0 1 1 1 1 1 1 1 1 1 1 1 1 1 1 1 1 1 1\n",
      " 1 1 1 1 1 1 1 0 0 0 0 0 0 1]\n",
      "breast_cancer数据集的特征名为：\n",
      " ['mean radius' 'mean texture' 'mean perimeter' 'mean area'\n",
      " 'mean smoothness' 'mean compactness' 'mean concavity'\n",
      " 'mean concave points' 'mean symmetry' 'mean fractal dimension'\n",
      " 'radius error' 'texture error' 'perimeter error' 'area error'\n",
      " 'smoothness error' 'compactness error' 'concavity error'\n",
      " 'concave points error' 'symmetry error' 'fractal dimension error'\n",
      " 'worst radius' 'worst texture' 'worst perimeter' 'worst area'\n",
      " 'worst smoothness' 'worst compactness' 'worst concavity'\n",
      " 'worst concave points' 'worst symmetry' 'worst fractal dimension']\n",
      "breast_cancer数据集的描述信息为：\n",
      " .. _breast_cancer_dataset:\n",
      "\n",
      "Breast cancer wisconsin (diagnostic) dataset\n",
      "--------------------------------------------\n",
      "\n",
      "**Data Set Characteristics:**\n",
      "\n",
      "    :Number of Instances: 569\n",
      "\n",
      "    :Number of Attributes: 30 numeric, predictive attributes and the class\n",
      "\n",
      "    :Attribute Information:\n",
      "        - radius (mean of distances from center to points on the perimeter)\n",
      "        - texture (standard deviation of gray-scale values)\n",
      "        - perimeter\n",
      "        - area\n",
      "        - smoothness (local variation in radius lengths)\n",
      "        - compactness (perimeter^2 / area - 1.0)\n",
      "        - concavity (severity of concave portions of the contour)\n",
      "        - concave points (number of concave portions of the contour)\n",
      "        - symmetry \n",
      "        - fractal dimension (\"coastline approximation\" - 1)\n",
      "\n",
      "        The mean, standard error, and \"worst\" or largest (mean of the three\n",
      "        largest values) of these features were computed for each image,\n",
      "        resulting in 30 features.  For instance, field 3 is Mean Radius, field\n",
      "        13 is Radius SE, field 23 is Worst Radius.\n",
      "\n",
      "        - class:\n",
      "                - WDBC-Malignant\n",
      "                - WDBC-Benign\n",
      "\n",
      "    :Summary Statistics:\n",
      "\n",
      "    ===================================== ====== ======\n",
      "                                           Min    Max\n",
      "    ===================================== ====== ======\n",
      "    radius (mean):                        6.981  28.11\n",
      "    texture (mean):                       9.71   39.28\n",
      "    perimeter (mean):                     43.79  188.5\n",
      "    area (mean):                          143.5  2501.0\n",
      "    smoothness (mean):                    0.053  0.163\n",
      "    compactness (mean):                   0.019  0.345\n",
      "    concavity (mean):                     0.0    0.427\n",
      "    concave points (mean):                0.0    0.201\n",
      "    symmetry (mean):                      0.106  0.304\n",
      "    fractal dimension (mean):             0.05   0.097\n",
      "    radius (standard error):              0.112  2.873\n",
      "    texture (standard error):             0.36   4.885\n",
      "    perimeter (standard error):           0.757  21.98\n",
      "    area (standard error):                6.802  542.2\n",
      "    smoothness (standard error):          0.002  0.031\n",
      "    compactness (standard error):         0.002  0.135\n",
      "    concavity (standard error):           0.0    0.396\n",
      "    concave points (standard error):      0.0    0.053\n",
      "    symmetry (standard error):            0.008  0.079\n",
      "    fractal dimension (standard error):   0.001  0.03\n",
      "    radius (worst):                       7.93   36.04\n",
      "    texture (worst):                      12.02  49.54\n",
      "    perimeter (worst):                    50.41  251.2\n",
      "    area (worst):                         185.2  4254.0\n",
      "    smoothness (worst):                   0.071  0.223\n",
      "    compactness (worst):                  0.027  1.058\n",
      "    concavity (worst):                    0.0    1.252\n",
      "    concave points (worst):               0.0    0.291\n",
      "    symmetry (worst):                     0.156  0.664\n",
      "    fractal dimension (worst):            0.055  0.208\n",
      "    ===================================== ====== ======\n",
      "\n",
      "    :Missing Attribute Values: None\n",
      "\n",
      "    :Class Distribution: 212 - Malignant, 357 - Benign\n",
      "\n",
      "    :Creator:  Dr. William H. Wolberg, W. Nick Street, Olvi L. Mangasarian\n",
      "\n",
      "    :Donor: Nick Street\n",
      "\n",
      "    :Date: November, 1995\n",
      "\n",
      "This is a copy of UCI ML Breast Cancer Wisconsin (Diagnostic) datasets.\n",
      "https://goo.gl/U2Uwz2\n",
      "\n",
      "Features are computed from a digitized image of a fine needle\n",
      "aspirate (FNA) of a breast mass.  They describe\n",
      "characteristics of the cell nuclei present in the image.\n",
      "\n",
      "Separating plane described above was obtained using\n",
      "Multisurface Method-Tree (MSM-T) [K. P. Bennett, \"Decision Tree\n",
      "Construction Via Linear Programming.\" Proceedings of the 4th\n",
      "Midwest Artificial Intelligence and Cognitive Science Society,\n",
      "pp. 97-101, 1992], a classification method which uses linear\n",
      "programming to construct a decision tree.  Relevant features\n",
      "were selected using an exhaustive search in the space of 1-4\n",
      "features and 1-3 separating planes.\n",
      "\n",
      "The actual linear program used to obtain the separating plane\n",
      "in the 3-dimensional space is that described in:\n",
      "[K. P. Bennett and O. L. Mangasarian: \"Robust Linear\n",
      "Programming Discrimination of Two Linearly Inseparable Sets\",\n",
      "Optimization Methods and Software 1, 1992, 23-34].\n",
      "\n",
      "This database is also available through the UW CS ftp server:\n",
      "\n",
      "ftp ftp.cs.wisc.edu\n",
      "cd math-prog/cpo-dataset/machine-learn/WDBC/\n",
      "\n",
      ".. topic:: References\n",
      "\n",
      "   - W.N. Street, W.H. Wolberg and O.L. Mangasarian. Nuclear feature extraction \n",
      "     for breast tumor diagnosis. IS&T/SPIE 1993 International Symposium on \n",
      "     Electronic Imaging: Science and Technology, volume 1905, pages 861-870,\n",
      "     San Jose, CA, 1993.\n",
      "   - O.L. Mangasarian, W.N. Street and W.H. Wolberg. Breast cancer diagnosis and \n",
      "     prognosis via linear programming. Operations Research, 43(4), pages 570-577, \n",
      "     July-August 1995.\n",
      "   - W.H. Wolberg, W.N. Street, and O.L. Mangasarian. Machine learning techniques\n",
      "     to diagnose breast cancer from fine-needle aspirates. Cancer Letters 77 (1994) \n",
      "     163-171.\n"
     ]
    }
   ],
   "source": [
    "cancer_data = cancer['data']\n",
    "print('breast_cancer数据集的数据为：','\\n',cancer_data)\n",
    "\n",
    "cancer_target = cancer['target'] ## 取出数据集的标签\n",
    "print('breast_cancer数据集的标签为：\\n',cancer_target)\n",
    "\n",
    "cancer_names = cancer['feature_names'] ## 取出数据集的特征名\n",
    "print('breast_cancer数据集的特征名为：\\n',cancer_names)\n",
    "\n",
    "cancer_desc = cancer['DESCR'] ## 取出数据集的描述信息\n",
    "print('breast_cancer数据集的描述信息为：\\n',cancer_desc)"
   ]
  },
  {
   "cell_type": "markdown",
   "metadata": {},
   "source": [
    "## 6.1.2 将数据集划分为训练集和测试集\n",
    "### 常用划分方式\n",
    "在数据分析过程中，为了保证模型在实际系统中能够起到预期作用，一般需要将样本分成独立的三部分：\n",
    "训练集（train set）：用于估计模型。\n",
    "验证集（validation set)：用于确定网络结构或者控制模型复杂程度的参数。\n",
    "测试集（test set）：用于检验最优的模型的性能。\n",
    "典型的划分方式是训练集占总样本的50％，而验证集和测试集各占25％。\n",
    "### K折交叉验证法\n",
    "\n",
    "当数据总量较少的时候，使用上面的方法将数据划分为三部分就不合适了。\n",
    "常用的方法是留少部分做测试集，然后对其余N个样本采用K折交叉验证法，基本步骤如下：\n",
    "将样本打乱，均匀分成K份。\n",
    "轮流选择其中K－1份做训练，剩余的一份做验证。\n",
    "计算预测误差平方和，把K次的预测误差平方和的均值作为选择最优模型结构的依据。\n",
    "\n",
    "### 代码 6-3 使用train_test_split划分数据集"
   ]
  },
  {
   "cell_type": "code",
   "execution_count": 27,
   "metadata": {},
   "outputs": [
    {
     "name": "stdout",
     "output_type": "stream",
     "text": [
      "原始数据集数据的形状为： (569, 30)\n",
      "原始数据集标签的形状为： (569,)\n",
      "训练集数据的形状为： (455, 30)\n",
      "训练集标签的形状为： (455,)\n",
      "测试集数据的形状为： (114, 30)\n",
      "测试集标签的形状为： (114,)\n"
     ]
    }
   ],
   "source": [
    "print('原始数据集数据的形状为：',cancer_data.shape)\n",
    "print('原始数据集标签的形状为：',cancer_target.shape)\n",
    "\n",
    "from sklearn.model_selection import train_test_split\n",
    "cancer_data_train,cancer_data_test,\\\n",
    "cancer_target_train,cancer_target_test = \\\n",
    "train_test_split(cancer_data,cancer_target,\n",
    "                test_size = 0.2,random_state=42)\n",
    "print('训练集数据的形状为：',cancer_data_train.shape)\n",
    "print('训练集标签的形状为：',cancer_target_train.shape)\n",
    "print('测试集数据的形状为：',cancer_data_test.shape)\n",
    "print('测试集标签的形状为：',cancer_target_test.shape)"
   ]
  },
  {
   "cell_type": "code",
   "execution_count": 29,
   "metadata": {},
   "outputs": [
    {
     "data": {
      "text/html": [
       "<img src = './image/6-1-2.png',title = '11',width=100,height=100>\n"
      ],
      "text/plain": [
       "<IPython.core.display.HTML object>"
      ]
     },
     "metadata": {},
     "output_type": "display_data"
    }
   ],
   "source": [
    "%%html\n",
    "<img src = './image/6-1-2.png',title = '11',width=100,height=100>"
   ]
  },
  {
   "cell_type": "markdown",
   "metadata": {},
   "source": [
    "rain_test_split函数根据传入的数据，分别将传入的数据划分为训练集和测试集。\n",
    "如果传入的是1组数据，那么生成的就是这一组数据随机划分后训练集和测试集，总共2组。如果传入的是2组数据，则生成的训练集和测试集分别2组，总共4组。\n",
    "train_test_split是最常用的数据划分方法，在model_selection模块中还提供了其他数据集划分的函数，如PredefinedSplit，ShuffleSplit等。\n"
   ]
  },
  {
   "cell_type": "markdown",
   "metadata": {},
   "source": [
    "## 6.1.3 使用 sklearn 转换器进行数据预处理与降维\n",
    "### sklearn 转换器三个方法\n",
    "sklearn把相关的功能封装为转换器（transformer）。使用sklearn转换器能够实现对传入的NumPy数组进行标准化处理，归一化处理，二值化处理，PCA降维等操作。转换器主要包括三个方法："
   ]
  },
  {
   "cell_type": "code",
   "execution_count": 30,
   "metadata": {},
   "outputs": [
    {
     "data": {
      "text/html": [
       "<img src = './image/6-4.png',title = '11',width=100,height=100>\n"
      ],
      "text/plain": [
       "<IPython.core.display.HTML object>"
      ]
     },
     "metadata": {},
     "output_type": "display_data"
    }
   ],
   "source": [
    "%%html\n",
    "<img src = './image/6-4.png',title = '11',width=100,height=100>"
   ]
  },
  {
   "cell_type": "markdown",
   "metadata": {},
   "source": [
    "\n",
    "### sklearn转换器\n",
    "在数据分析过程中，各类特征处理相关的操作都需要对训练集和测试集分开操作，需要将训练集的操作规则，权重系数等应用到测试集中。\n",
    "如果使用pandas，则应用至测试集的过程相对烦琐，使用sklearn转换器可以解决这一困扰。\n",
    "\n",
    "### 代码 6-4 离差标准化"
   ]
  },
  {
   "cell_type": "code",
   "execution_count": 46,
   "metadata": {},
   "outputs": [
    {
     "name": "stdout",
     "output_type": "stream",
     "text": [
      "离差标准化前训练集数据的最小值为： 0.0\n",
      "离差标准化后训练集数据的最小值为： -0.057127602776294695\n",
      "离差标准化前训练集数据的最大值为： 4254.0\n",
      "离差标准化后训练集数据的最大值为： 1.3264399566986453\n",
      "离差标准化前测试集数据的最小值为： 0.0\n",
      "离差标准化后测试集数据的最小值为： -0.057127602776294695\n",
      "离差标准化前测试集数据的最大值为： 3432.0\n",
      "离差标准化后测试集数据的最大值为： 1.3264399566986453\n"
     ]
    }
   ],
   "source": [
    "import numpy as np\n",
    "from sklearn.preprocessing import MinMaxScaler\n",
    "Scaler = MinMaxScaler().fit(cancer_data_train) ##生成规则\n",
    "##将规则应用于训练集\n",
    "cancer_trainScaler = Scaler.transform(cancer_data) \n",
    "##将规则应用于测试集\n",
    "cancer_testScaler = Scaler.transform(cancer_data_test)\n",
    "print('离差标准化前训练集数据的最小值为：',np.min(cancer_data_train))\n",
    "print('离差标准化后训练集数据的最小值为：',np.min(cancer_trainScaler))\n",
    "print('离差标准化前训练集数据的最大值为：',np.max(cancer_data_train))\n",
    "print('离差标准化后训练集数据的最大值为：',np.max(cancer_trainScaler))\n",
    "print('离差标准化前测试集数据的最小值为：',np.min(cancer_data_test))\n",
    "print('离差标准化后测试集数据的最小值为：',np.min(cancer_testScaler))\n",
    "print('离差标准化前测试集数据的最大值为：',np.max(cancer_data_test))\n",
    "print('离差标准化后测试集数据的最大值为：',np.max(cancer_testScaler))"
   ]
  },
  {
   "cell_type": "code",
   "execution_count": 47,
   "metadata": {},
   "outputs": [
    {
     "data": {
      "text/html": [
       "<img src = './image/6-4.2.png',title = '11',width=100,height=100>\n"
      ],
      "text/plain": [
       "<IPython.core.display.HTML object>"
      ]
     },
     "metadata": {},
     "output_type": "display_data"
    }
   ],
   "source": [
    "%%html\n",
    "<img src = './image/6-4.2.png',title = '11',width=100,height=100>"
   ]
  },
  {
   "cell_type": "markdown",
   "metadata": {},
   "source": [
    "sklearn除了提供基本的特征变换函数外，还提供了降维算法，特征选择算法，这些算法的使用也是通过转换器的方式。\n"
   ]
  },
  {
   "cell_type": "markdown",
   "metadata": {},
   "source": [
    "### 代码 6-5 对breast_cancer数据集PCA降维"
   ]
  },
  {
   "cell_type": "code",
   "execution_count": 50,
   "metadata": {},
   "outputs": [
    {
     "data": {
      "text/html": [
       "<img src = './image/6-5.png',title = '11',width=700,height=100>\n"
      ],
      "text/plain": [
       "<IPython.core.display.HTML object>"
      ]
     },
     "metadata": {},
     "output_type": "display_data"
    }
   ],
   "source": [
    "%%html\n",
    "<img src = './image/6-5.png',title = '11',width=700,height=100>"
   ]
  },
  {
   "cell_type": "code",
   "execution_count": 53,
   "metadata": {},
   "outputs": [
    {
     "name": "stdout",
     "output_type": "stream",
     "text": [
      "PCA降维前训练集数据的形状为： (569, 30)\n",
      "PCA降维后训练集数据的形状为： (569, 10)\n",
      "PCA降维前测试集数据的形状为： (114, 30)\n",
      "PCA降维后测试集数据的形状为： (114, 10)\n"
     ]
    }
   ],
   "source": [
    "from sklearn.decomposition import PCA\n",
    "pca_model = PCA(n_components=10).fit(cancer_trainScaler) ##生成规则\n",
    "cancer_trainPca = pca_model.transform(cancer_trainScaler) ##将规则应用于训练集\n",
    "cancer_testPca = pca_model.transform(cancer_testScaler) ##将规则应用于测试集\n",
    "print('PCA降维前训练集数据的形状为：',cancer_trainScaler.shape)\n",
    "print('PCA降维后训练集数据的形状为：',cancer_trainPca.shape)\n",
    "print('PCA降维前测试集数据的形状为：',cancer_testScaler.shape)\n",
    "print('PCA降维后测试集数据的形状为：',cancer_testPca.shape)"
   ]
  },
  {
   "cell_type": "markdown",
   "metadata": {},
   "source": [
    "## 6.1.4 任务实现\n",
    "### 1.读取数据\n",
    "获取sklearn自带的boston数据集"
   ]
  },
  {
   "cell_type": "markdown",
   "metadata": {},
   "source": [
    "### 代码 6-6 获取 sklearn 自带的boston数据集"
   ]
  },
  {
   "cell_type": "code",
   "execution_count": 54,
   "metadata": {},
   "outputs": [
    {
     "name": "stdout",
     "output_type": "stream",
     "text": [
      "boston数据集数据的形状为： (506, 13)\n",
      "boston数据集标签的形状为： (506,)\n",
      "boston数据集特征名的形状为： (13,)\n"
     ]
    }
   ],
   "source": [
    "from sklearn.datasets import load_boston\n",
    "boston = load_boston()\n",
    "boston_data = boston['data']\n",
    "boston_target = boston['target']\n",
    "boston_names = boston['feature_names']\n",
    "print('boston数据集数据的形状为：',boston_data.shape)\n",
    "print('boston数据集标签的形状为：',boston_target.shape)\n",
    "print('boston数据集特征名的形状为：',boston_names.shape)"
   ]
  },
  {
   "cell_type": "markdown",
   "metadata": {},
   "source": [
    "### 2. 将数据集划分为训练集和测试集\n",
    "使用train_test_split划分boston数据集\n",
    "### 6-7 使用train_test_split 划分boston数据集"
   ]
  },
  {
   "cell_type": "code",
   "execution_count": 55,
   "metadata": {},
   "outputs": [
    {
     "name": "stdout",
     "output_type": "stream",
     "text": [
      "训练集数据的形状为： (404, 13)\n",
      "训练集标签的形状为： (404,)\n",
      "测试集数据的形状为： (102, 13)\n",
      "测试集标签的形状为： (102,)\n"
     ]
    }
   ],
   "source": [
    "from sklearn.model_selection import train_test_split\n",
    "boston_data_train, boston_data_test, \\\n",
    "boston_target_train, boston_target_test = \\\n",
    "train_test_split(boston_data, boston_target, \n",
    "    test_size=0.2, random_state=42)\n",
    "print('训练集数据的形状为：',boston_data_train.shape)\n",
    "print('训练集标签的形状为：',boston_target_train.shape)\n",
    "print('测试集数据的形状为：',boston_data_test.shape)\n",
    "print('测试集标签的形状为：',boston_target_test.shape)"
   ]
  },
  {
   "cell_type": "markdown",
   "metadata": {},
   "source": [
    "### 6-8 使用stdScale.transform进行数据预处理"
   ]
  },
  {
   "cell_type": "code",
   "execution_count": 58,
   "metadata": {},
   "outputs": [
    {
     "name": "stdout",
     "output_type": "stream",
     "text": [
      "标准差标准化后训练集数据的方差为： 1.0\n",
      "标准差标准化后训练集数据的均值为： 1.3637225393110834e-15\n",
      "标准差标准化后测试集数据的方差为： 0.9474773930196593\n",
      "标准差标准化后测试集数据的均值为： 0.030537934487192598\n"
     ]
    }
   ],
   "source": [
    "from sklearn.preprocessing import StandardScaler\n",
    "stdScale = StandardScaler().fit(boston_data_train) ## 生成规则\n",
    "## 将规则应用于训练集\n",
    "boston_trainScaler = stdScale.transform(boston_data_train) \n",
    "## 将规则应用于测试集\n",
    "boston_testScaler = stdScale.transform(boston_data_test)\n",
    "print('标准差标准化后训练集数据的方差为：',np.var(boston_trainScaler))\n",
    "print('标准差标准化后训练集数据的均值为：',\n",
    "    np.mean(boston_trainScaler))\n",
    "print('标准差标准化后测试集数据的方差为：',np.var(boston_testScaler))\n",
    "print('标准差标准化后测试集数据的均值为：',np.mean(boston_testScaler))"
   ]
  },
  {
   "cell_type": "markdown",
   "metadata": {},
   "source": [
    "### 6-9 使用pcatransform 进行PCA降维"
   ]
  },
  {
   "cell_type": "code",
   "execution_count": 61,
   "metadata": {},
   "outputs": [
    {
     "name": "stdout",
     "output_type": "stream",
     "text": [
      "降维后boston数据集数据测试集的形状为： (404, 5)\n",
      "降维后boston数据集数据训练集的形状为： (102, 5)\n"
     ]
    }
   ],
   "source": [
    "from sklearn.decomposition import PCA\n",
    "pca = PCA(n_components=5).fit(boston_trainScaler) ## 生成规则\n",
    "## 将规则应用于训练集\n",
    "boston_trainPca = pca.transform(boston_trainScaler) \n",
    "## 将规则应用于测试集\n",
    "boston_testPca = pca.transform(boston_testScaler)\n",
    "print('降维后boston数据集数据测试集的形状为：',boston_trainPca.shape)\n",
    "print('降维后boston数据集数据训练集的形状为：',boston_testPca.shape)"
   ]
  },
  {
   "cell_type": "code",
   "execution_count": null,
   "metadata": {},
   "outputs": [],
   "source": []
  }
 ],
 "metadata": {
  "kernelspec": {
   "display_name": "Python 3",
   "language": "python",
   "name": "python3"
  },
  "language_info": {
   "codemirror_mode": {
    "name": "ipython",
    "version": 3
   },
   "file_extension": ".py",
   "mimetype": "text/x-python",
   "name": "python",
   "nbconvert_exporter": "python",
   "pygments_lexer": "ipython3",
   "version": "3.7.6"
  }
 },
 "nbformat": 4,
 "nbformat_minor": 4
}
