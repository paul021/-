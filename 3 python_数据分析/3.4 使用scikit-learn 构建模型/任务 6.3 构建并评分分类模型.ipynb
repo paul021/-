{
 "cells": [
  {
   "cell_type": "markdown",
   "metadata": {},
   "source": [
    "# 任务6.3 构建并评价分类模型"
   ]
  },
  {
   "cell_type": "markdown",
   "metadata": {},
   "source": [
    "## 6.3.1 使用sklearn 估计器构建分类模型"
   ]
  },
  {
   "cell_type": "markdown",
   "metadata": {},
   "source": [
    "### 代码6-17 使用sklearn估计器构建SVM模型\n",
    "在数据分析领域，分类算法有很多，其原理千差万别，有基于样本距离的最近邻算法，有基于特征信息熵的<mark style=background-color:yellow>决策树</mark>，有基于bagging的<mark style=background-color:yellow>随机森林</mark> ，有基于boosting的梯度提升<mark style=background-color:yellow>分类树</mark> ，但其实现的过程相差不大。过程如图所示。\n"
   ]
  },
  {
   "cell_type": "code",
   "execution_count": 1,
   "metadata": {},
   "outputs": [
    {
     "data": {
      "text/html": [
       "<img style=\"float: left;\" src=\"./image/6-17.png\" width=300 height=400>\n"
      ],
      "text/plain": [
       "<IPython.core.display.HTML object>"
      ]
     },
     "metadata": {},
     "output_type": "display_data"
    }
   ],
   "source": [
    "%%html\n",
    "<img style=\"float: left;\" src=\"./image/6-17.png\" width=300 height=400>"
   ]
  },
  {
   "cell_type": "markdown",
   "metadata": {},
   "source": [
    "### sklearn 库常用分类算法函数\n",
    "sklearn中提供的分类算法非常多，分别存在于不同的模块中。常用的分类算法如下表所示。\n"
   ]
  },
  {
   "cell_type": "code",
   "execution_count": 2,
   "metadata": {},
   "outputs": [
    {
     "data": {
      "text/html": [
       "<img style=\"float: left;\" src=\"./image/6-17-2.png\" width=400 height=400>\n"
      ],
      "text/plain": [
       "<IPython.core.display.HTML object>"
      ]
     },
     "metadata": {},
     "output_type": "display_data"
    }
   ],
   "source": [
    "%%html\n",
    "<img style=\"float: left;\" src=\"./image/6-17-2.png\" width=400 height=400>"
   ]
  },
  {
   "cell_type": "code",
   "execution_count": 3,
   "metadata": {},
   "outputs": [
    {
     "name": "stdout",
     "output_type": "stream",
     "text": [
      "建立的SVM模型为：\n",
      " SVC(C=1.0, break_ties=False, cache_size=200, class_weight=None, coef0=0.0,\n",
      "    decision_function_shape='ovr', degree=3, gamma='scale', kernel='rbf',\n",
      "    max_iter=-1, probability=False, random_state=None, shrinking=True,\n",
      "    tol=0.001, verbose=False)\n",
      "预测前20个结果为: \n",
      " [1 0 0 0 1 1 1 1 1 1 1 1 0 1 1 1 0 0 1 1]\n"
     ]
    }
   ],
   "source": [
    "import numpy as np\n",
    "from sklearn.datasets import load_breast_cancer\n",
    "from sklearn.svm import SVC\n",
    "from sklearn.model_selection import train_test_split#划分数据\n",
    "from sklearn.preprocessing import StandardScaler    #标准差\n",
    "cancer = load_breast_cancer()\n",
    "cancer_data = cancer['data']\n",
    "cancer_target = cancer['target']\n",
    "cancer_names = cancer['feature_names']\n",
    "## 将数据划分为训练集测试集\n",
    "cancer_data_train,cancer_data_test, \\\n",
    "cancer_target_train,cancer_target_test = \\\n",
    "train_test_split(cancer_data,cancer_target,\n",
    "      test_size = 0.2,random_state = 22)\n",
    "## 数据标准化\n",
    "stdScaler = StandardScaler().fit(cancer_data_train)\n",
    "cancer_trainStd = stdScaler.transform(cancer_data_train)\n",
    "cancer_testStd = stdScaler.transform(cancer_data_test)\n",
    "## 建立SVM模型\n",
    "svm = SVC().fit(cancer_trainStd,cancer_target_train)\n",
    "print('建立的SVM模型为：\\n',svm)\n",
    "\n",
    "# 预测训练结果\n",
    "cancer_target_pred = svm.predict(cancer_testStd)\n",
    "print('预测前20个结果为: \\n',cancer_target_pred[:20])"
   ]
  },
  {
   "cell_type": "markdown",
   "metadata": {},
   "source": [
    "### 代码 6-18 分类结果的混淆矩阵与准确率"
   ]
  },
  {
   "cell_type": "code",
   "execution_count": 4,
   "metadata": {},
   "outputs": [
    {
     "name": "stdout",
     "output_type": "stream",
     "text": [
      "预测对的结果数目为： 111\n",
      "预测错的的结果数目为： 3\n",
      "预测结果准确率为： 0.9736842105263158\n"
     ]
    }
   ],
   "source": [
    "true = np.sum(cancer_target_pred == cancer_target_test)\n",
    "print('预测对的结果数目为：', true)\n",
    "print('预测错的的结果数目为：', cancer_target_test.shape[0]-true)\n",
    "print('预测结果准确率为：', true/cancer_target_test.shape[0])"
   ]
  },
  {
   "cell_type": "markdown",
   "metadata": {},
   "source": [
    "SVM模型预测结果的准确率约为97.4%,只有3个测试样本识别错误,说明了整体模型效果理想"
   ]
  },
  {
   "cell_type": "markdown",
   "metadata": {},
   "source": [
    "## 6.3.2 评价分类模型\n",
    "分类模型对测试集进行预测而得出的准确率并不能很好地反映模型的性能，为了有效判断一个预测模型的性能表现，需要结合真实值，计算出精确率、召回率、F1值和Cohen’s Kappa系数等指标来衡量。常规分类模型的评价指标如表所示。分类模型评价方法前4种都是分值越高越好，其使用方法基本相同。\n",
    "sklearn的metrics模块还提供了一个能够输出分类模型评价报告的函数classfication_report。"
   ]
  },
  {
   "cell_type": "code",
   "execution_count": 5,
   "metadata": {},
   "outputs": [
    {
     "data": {
      "text/html": [
       "<img style=\"float: left;\" src=\"./image/6-19.png\" width=600 height=400>\n"
      ],
      "text/plain": [
       "<IPython.core.display.HTML object>"
      ]
     },
     "metadata": {},
     "output_type": "display_data"
    }
   ],
   "source": [
    "%%html\n",
    "<img style=\"float: left;\" src=\"./image/6-19.png\" width=600 height=400>"
   ]
  },
  {
   "cell_type": "markdown",
   "metadata": {},
   "source": [
    "### 代码6-19 分类模型常用评价方法 "
   ]
  },
  {
   "cell_type": "code",
   "execution_count": 6,
   "metadata": {},
   "outputs": [
    {
     "name": "stdout",
     "output_type": "stream",
     "text": [
      "使用SVM预测breast_cancer数据的准确率为： 0.9736842105263158\n",
      "使用SVM预测breast_cancer数据的精确率为： 0.9594594594594594\n",
      "使用SVM预测breast_cancer数据的召回率为： 1.0\n",
      "使用SVM预测breast_cancer数据的F1值为： 0.9793103448275862\n",
      "使用SVM预测breast_cancer数据的Cohen’s Kappa系数为： 0.9432082364662903\n"
     ]
    }
   ],
   "source": [
    "from sklearn.metrics import accuracy_score,precision_score, \\\n",
    "recall_score,f1_score,cohen_kappa_score\n",
    "print('使用SVM预测breast_cancer数据的准确率为：',\n",
    "      accuracy_score(cancer_target_test,cancer_target_pred))\n",
    "print('使用SVM预测breast_cancer数据的精确率为：',\n",
    "      precision_score(cancer_target_test,cancer_target_pred))\n",
    "print('使用SVM预测breast_cancer数据的召回率为：',\n",
    "      recall_score(cancer_target_test,cancer_target_pred))\n",
    "print('使用SVM预测breast_cancer数据的F1值为：',\n",
    "      f1_score(cancer_target_test,cancer_target_pred))\n",
    "print('使用SVM预测breast_cancer数据的Cohen’s Kappa系数为：',\n",
    "      cohen_kappa_score(cancer_target_test,cancer_target_pred))"
   ]
  },
  {
   "cell_type": "markdown",
   "metadata": {},
   "source": [
    "### 代码6-20 分类模型评价报告"
   ]
  },
  {
   "cell_type": "code",
   "execution_count": 8,
   "metadata": {},
   "outputs": [
    {
     "name": "stdout",
     "output_type": "stream",
     "text": [
      "使用SVM预测iris数据的分类报告: \n",
      "               precision    recall  f1-score   support\n",
      "\n",
      "           0       1.00      0.93      0.96        43\n",
      "           1       0.96      1.00      0.98        71\n",
      "\n",
      "    accuracy                           0.97       114\n",
      "   macro avg       0.98      0.97      0.97       114\n",
      "weighted avg       0.97      0.97      0.97       114\n",
      "\n"
     ]
    }
   ],
   "source": [
    "from sklearn.metrics import classification_report\n",
    "print('使用SVM预测iris数据的分类报告:','\\n',\n",
    "     classification_report(cancer_target_test,\n",
    "                          cancer_target_pred))"
   ]
  },
  {
   "cell_type": "markdown",
   "metadata": {},
   "source": [
    "### 代码6-21 绘制ROC曲线"
   ]
  },
  {
   "cell_type": "code",
   "execution_count": 10,
   "metadata": {},
   "outputs": [
    {
     "data": {
      "image/png": "[encoded data removed]",
      "text/plain": [
       "<Figure size 720x432 with 1 Axes>"
      ]
     },
     "metadata": {
      "needs_background": "light"
     },
     "output_type": "display_data"
    }
   ],
   "source": [
    "from sklearn.metrics import roc_curve\n",
    "import matplotlib.pyplot as plt\n",
    "## 求出ROC曲线的x轴和y轴\n",
    "fpr ,tpr ,thresholds = \\\n",
    "roc_curve(cancer_target_test,cancer_target_pred)\n",
    "plt.figure(figsize=(10,6))\n",
    "plt.xlim(0,1)  ##设定x轴的范围\n",
    "plt.ylim(0.0,1.1)  # 设定y轴的范围\n",
    "plt.xlabel('False Postive Rate') #伪阳性率\n",
    "plt.ylabel('True Postive Rate')  #真阳性率\n",
    "plt.plot(fpr,tpr,linewidth=2,linestyle='-',color='red')\n",
    "plt.show()"
   ]
  },
  {
   "cell_type": "markdown",
   "metadata": {},
   "source": [
    "### ROC曲线\n",
    "除了使用数值，表格形式评估分类模型的性能，还可通过绘制ROC曲线的方式来评估分类模型。\n",
    "ROC曲线横纵坐标范围为[0,1]，通常情况下ROC曲线与X轴形成的面积越大，表示模型性能越好。但是当ROC曲线处于下图中蓝色虚线的位置，就表明了模型的计算结果基本都是随机得来的，在此种情况下模型起到的作用几乎为零。故在实际中ROC曲线离图中蓝色虚线越远表示模型效果越好。"
   ]
  },
  {
   "cell_type": "markdown",
   "metadata": {},
   "source": [
    "## 6.3.3 任务实现\n",
    "常规的鲍鱼的年龄是通过显微镜查看切割,染色后的外壳上环的数量得到的,十分耗时.一些常规的物理量(如性别,长度,宽度,壳体重量等)的测量十分容易获取,若能够使用这些物理量预测年龄,将节省大量时间\n",
    "#### 使用sklearn构建鲍鱼年龄预测的步骤如下"
   ]
  },
  {
   "cell_type": "markdown",
   "metadata": {},
   "source": [
    "### 1 构建SVM分类模型\n",
    "### 代码 6-22 鲍鱼年龄预测"
   ]
  },
  {
   "cell_type": "code",
   "execution_count": 21,
   "metadata": {},
   "outputs": [
    {
     "name": "stdout",
     "output_type": "stream",
     "text": [
      "建立的SVM模型为： \n",
      " SVC(C=1.0, break_ties=False, cache_size=200, class_weight=None, coef0=0.0,\n",
      "    decision_function_shape='ovr', degree=3, gamma='scale', kernel='rbf',\n",
      "    max_iter=-1, probability=False, random_state=None, shrinking=True,\n",
      "    tol=0.001, verbose=False)\n"
     ]
    }
   ],
   "source": [
    "import pandas as pd\n",
    "from sklearn.svm import SVC\n",
    "from sklearn.metrics import classification_report\n",
    "from sklearn.model_selection import train_test_split\n",
    "from sklearn.preprocessing import StandardScaler\n",
    "abalone = pd.read_csv('../data/abalone.data',sep=',')\n",
    "# 将数据和标签拆开\n",
    "abalone_data = abalone.iloc[:,:8]\n",
    "abalone_target = abalone.iloc[:,8]\n",
    "#连续型特征离散化\n",
    "sex = pd.get_dummies(abalone_data['sex'])\n",
    "abalone_data = pd.concat([abalone_data,sex],axis=1)\n",
    "abalone_data.drop('sex',axis = 1,inplace =True)\n",
    "# 划分训练集,测试集\n",
    "abalone_train,abalone_test,\\\n",
    "abalone_target_train,abalone_target_test = \\\n",
    "train_test_split(abalone_data,abalone_target,\n",
    "                train_size = 0.8,random_state = 42)\n",
    "# 标准化\n",
    "stdScaler = StandardScaler().fit(abalone_train)\n",
    "abalone_std_train = stdScaler.transform(abalone_train)\n",
    "abalone_std_test = stdScaler.transform(abalone_test)\n",
    "## 建模\n",
    "svm_abalone = SVC().fit(abalone_std_train,abalone_target_train)\n",
    "print('建立的SVM模型为：','\\n',svm_abalone)"
   ]
  },
  {
   "cell_type": "markdown",
   "metadata": {},
   "source": [
    "### 2. 评价构建的SVM分类模型\n",
    "### 代码 6-23 评价构建的SVM分类模型\n",
    "代码6-23 的结果显示了本次模型每个类别的精确率,召回率和F1值,其中除了对鲍鱼年龄为4的预测结果较好外,其他的预测结果欠佳,后期还需要仔细调整"
   ]
  },
  {
   "cell_type": "code",
   "execution_count": 22,
   "metadata": {},
   "outputs": [
    {
     "name": "stdout",
     "output_type": "stream",
     "text": [
      "abalone数据集的SVM分类报告为: \n",
      "               precision    recall  f1-score   support\n",
      "\n",
      "           3       0.00      0.00      0.00         3\n",
      "           4       0.45      0.69      0.55        13\n",
      "           5       0.54      0.22      0.31        32\n",
      "           6       0.40      0.33      0.36        48\n",
      "           7       0.41      0.44      0.42        84\n",
      "           8       0.37      0.36      0.37        99\n",
      "           9       0.28      0.57      0.38       142\n",
      "          10       0.24      0.33      0.28       139\n",
      "          11       0.25      0.25      0.25        93\n",
      "          12       0.00      0.00      0.00        51\n",
      "          13       0.00      0.00      0.00        31\n",
      "          14       0.00      0.00      0.00        26\n",
      "          15       0.00      0.00      0.00        21\n",
      "          16       0.00      0.00      0.00        13\n",
      "          17       0.00      0.00      0.00         8\n",
      "          18       0.00      0.00      0.00        12\n",
      "          19       0.00      0.00      0.00         7\n",
      "          20       0.00      0.00      0.00         4\n",
      "          21       0.00      0.00      0.00         3\n",
      "          22       0.00      0.00      0.00         3\n",
      "          23       0.00      0.00      0.00         4\n",
      "\n",
      "    accuracy                           0.31       836\n",
      "   macro avg       0.14      0.15      0.14       836\n",
      "weighted avg       0.25      0.31      0.26       836\n",
      "\n"
     ]
    },
    {
     "name": "stderr",
     "output_type": "stream",
     "text": [
      "D:\\Study\\anaconda\\lib\\site-packages\\sklearn\\metrics\\_classification.py:1272: UndefinedMetricWarning: Precision and F-score are ill-defined and being set to 0.0 in labels with no predicted samples. Use `zero_division` parameter to control this behavior.\n",
      "  _warn_prf(average, modifier, msg_start, len(result))\n"
     ]
    }
   ],
   "source": [
    "abalone_target_pred = svm_abalone.predict(abalone_std_test)\n",
    "print('abalone数据集的SVM分类报告为: \\n',\n",
    "     classification_report(abalone_target_test,abalone_target_pred))"
   ]
  }
 ],
 "metadata": {
  "kernelspec": {
   "display_name": "Python 3",
   "language": "python",
   "name": "python3"
  },
  "language_info": {
   "codemirror_mode": {
    "name": "ipython",
    "version": 3
   },
   "file_extension": ".py",
   "mimetype": "text/x-python",
   "name": "python",
   "nbconvert_exporter": "python",
   "pygments_lexer": "ipython3",
   "version": "3.7.6"
  }
 },
 "nbformat": 4,
 "nbformat_minor": 4
}
