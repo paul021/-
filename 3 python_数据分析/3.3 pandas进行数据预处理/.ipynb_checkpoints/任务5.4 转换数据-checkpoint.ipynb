{
 "cells": [
  {
   "cell_type": "markdown",
   "metadata": {},
   "source": [
    "# 5.4 转换数据\n",
    "## 5.4.1 哑变量处理类别型数据\n",
    "### 代码 5-30 哑变量处理示例"
   ]
  },
  {
   "cell_type": "markdown",
   "metadata": {},
   "source": [
    "数据分析模型中有相当一部分的算法模型都要求输入的特征为数值型，但实际数据中特征的类型不一定只有数值型，还会存在相当一部分的类别型，这部分的特征需要经过哑变量处理才可以放入模型之中。哑变量处理的原理示例如图。"
   ]
  },
  {
   "cell_type": "code",
   "execution_count": 7,
   "metadata": {},
   "outputs": [
    {
     "data": {
      "text/html": [
       "<img src = './image/5-4-1.png',width=100,height=100>\n"
      ],
      "text/plain": [
       "<IPython.core.display.HTML object>"
      ]
     },
     "metadata": {},
     "output_type": "display_data"
    }
   ],
   "source": [
    "%%html\n",
    "<img src = './image/5-4-1.png',width=100,height=100>"
   ]
  },
  {
   "cell_type": "markdown",
   "metadata": {},
   "source": [
    "#### get_dummies函数"
   ]
  },
  {
   "cell_type": "code",
   "execution_count": 13,
   "metadata": {},
   "outputs": [
    {
     "data": {
      "text/html": [
       "<img src = './image/5-4-2.png',width=700,height=400>\n"
      ],
      "text/plain": [
       "<IPython.core.display.HTML object>"
      ]
     },
     "metadata": {},
     "output_type": "display_data"
    }
   ],
   "source": [
    "%%html\n",
    "<img src = './image/5-4-2.png',width=700,height=400>"
   ]
  },
  {
   "cell_type": "code",
   "execution_count": 11,
   "metadata": {},
   "outputs": [
    {
     "name": "stdout",
     "output_type": "stream",
     "text": [
      "哑变量处理前的数据为：\n",
      " 0     蒜蓉生蚝\n",
      "1    蒙古烤羊腿\n",
      "2     大蒜苋菜\n",
      "3    芝麻烤紫菜\n",
      "4      蒜香包\n",
      "5      白斩鸡\n",
      "Name: dishes_name, dtype: object\n",
      "哑变量处理后的数据为：\n",
      "    大蒜苋菜  白斩鸡  芝麻烤紫菜  蒙古烤羊腿  蒜蓉生蚝  蒜香包\n",
      "0     0    0      0      0     1    0\n",
      "1     0    0      0      1     0    0\n",
      "2     1    0      0      0     0    0\n",
      "3     0    0      1      0     0    0\n",
      "4     0    0      0      0     0    1\n",
      "5     0    1      0      0     0    0\n"
     ]
    }
   ],
   "source": [
    "import pandas as pd\n",
    "import numpy as np\n",
    "detail = pd.read_csv('../data/detail.csv',encoding = 'gbk')\n",
    "data=detail.loc[0:5,'dishes_name']   ##抽取部分数据做演示\n",
    "print('哑变量处理前的数据为：\\n',data)\n",
    "print('哑变量处理后的数据为：\\n',pd.get_dummies(data))"
   ]
  },
  {
   "cell_type": "markdown",
   "metadata": {},
   "source": [
    "对于一个类别型特征，若其取值有m个，则经过哑变量处理后就变成了m个二元特征，并且这些特征互斥，每次只有一个激活，这使得数据变得稀疏。\n",
    "对类别型特征进行哑变量处理主要解决了部分算法模型无法处理类别型数据的问题，这在一定程度上起到了扩充特征的作用。由于数据变成了稀疏矩阵的形式，因此也加速了算法模型的运算速度。\n"
   ]
  },
  {
   "cell_type": "markdown",
   "metadata": {},
   "source": [
    "## 5.4.2 离散化连续型数据\n",
    "### 代码 5-31 等宽法离散化示例\n",
    "数据的值域分成具有相同宽度的区间，区间的个数由数据本身的特点决定或者用户指定，与制作频率分布表类似。pandas提供了cut函数，可以进行连续型数据的等宽离散化，其基础语法格式如下。\n",
    "pandas.cut(x, bins, right=True, labels=None, retbins=False, precision=3, include_lowest=False)\n"
   ]
  },
  {
   "cell_type": "code",
   "execution_count": 18,
   "metadata": {},
   "outputs": [
    {
     "data": {
      "text/html": [
       "<img src = './image/5-4-3.png',width=100,height=100>\n"
      ],
      "text/plain": [
       "<IPython.core.display.HTML object>"
      ]
     },
     "metadata": {},
     "output_type": "display_data"
    }
   ],
   "source": [
    "%%html\n",
    "<img src = './image/5-4-3.png',width=100,height=100>"
   ]
  },
  {
   "cell_type": "code",
   "execution_count": 15,
   "metadata": {},
   "outputs": [
    {
     "name": "stdout",
     "output_type": "stream",
     "text": [
      "离散化后5条记录分布:\n",
      " (0.823, 36.4]     5461\n",
      "(36.4, 71.8]      3157\n",
      "(71.8, 107.2]      839\n",
      "(142.6, 178.0]     426\n",
      "(107.2, 142.6]     154\n",
      "Name: amounts, dtype: int64\n"
     ]
    }
   ],
   "source": [
    "price = pd.cut(detail['amounts'],5)\n",
    "print('离散化后5条记录分布:\\n',price.value_counts())"
   ]
  },
  {
   "cell_type": "markdown",
   "metadata": {},
   "source": [
    "### 代码 5-32 等频法离散化示例"
   ]
  },
  {
   "cell_type": "code",
   "execution_count": 20,
   "metadata": {},
   "outputs": [
    {
     "name": "stdout",
     "output_type": "stream",
     "text": [
      "菜品数据等频法离散化后各个类别数目分布状况为： \n",
      " (18.0, 32.0]     2107\n",
      "(39.0, 58.0]     2080\n",
      "(32.0, 39.0]     1910\n",
      "(1.0, 18.0]      1891\n",
      "(58.0, 178.0]    1863\n",
      "Name: amounts, dtype: int64\n"
     ]
    }
   ],
   "source": [
    "def SameRateCut(data,k):\n",
    "    w=data.quantile(np.arange(0,1+1.0/k,1.0/k))\n",
    "    data=pd.cut(data,w)\n",
    "    return data\n",
    "result=SameRateCut(detail['amounts'],5).value_counts()   ##菜品售价等频法离散化\n",
    "print('菜品数据等频法离散化后各个类别数目分布状况为：','\\n',result)"
   ]
  },
  {
   "cell_type": "markdown",
   "metadata": {},
   "source": [
    "### 代码 5-33 基于聚类分析的离散化\n",
    "一维聚类的方法包括两个步骤：\n",
    "将连续型数据用聚类算法（如K-Means算法等）进行聚类。\n",
    "处理聚类得到的簇，将合并到一个簇的连续型数据做同一标记。\n",
    "聚类分析的离散化方法需要用户指定簇的个数，用来决定产生的区间数。\n",
    "k-Means聚类分析的离散化方法可以很好地根据现有特征的数据分布状况进行聚类，但是由于k-Means算法本身的缺陷，用该方法进行离散化时依旧需要指定离散化后类别的数目。此时需要配合聚类算法评价方法，找出最优的聚类簇数目。\n"
   ]
  },
  {
   "cell_type": "code",
   "execution_count": 22,
   "metadata": {},
   "outputs": [
    {
     "name": "stdout",
     "output_type": "stream",
     "text": [
      "菜品售价聚类离散化后各个类别数目分布状况为： \n",
      " (22.31, 43.51]       3690\n",
      "(43.51, 73.945]      2474\n",
      "(0.0, 22.31]         2454\n",
      "(73.945, 131.858]     993\n",
      "(131.858, 178.0]      426\n",
      "Name: amounts, dtype: int64\n"
     ]
    }
   ],
   "source": [
    "def KmeanCut(data,k):\n",
    "    from sklearn.cluster import KMeans #引入KMeans\n",
    "    kmodel=KMeans(n_clusters=k)   #建立模型\n",
    "    kmodel.fit(data.values.reshape((len(data), 1)))    #训练模型\n",
    "    c=pd.DataFrame(kmodel.cluster_centers_).sort_values(0)   #输出聚类中心并排序\n",
    "    w=c.rolling(2).mean().iloc[1:]    #相邻两项求中点，作为边界点\n",
    "    w=[0]+list(w[0])+[data.max()]    #把首末边界点加上\n",
    "    data=pd.cut(data,w)\n",
    "    return data\n",
    "#菜品售价等频法离散化\n",
    "result=KmeanCut(detail['amounts'],5).value_counts()\n",
    "print('菜品售价聚类离散化后各个类别数目分布状况为：','\\n',result)"
   ]
  },
  {
   "cell_type": "markdown",
   "metadata": {},
   "source": [
    "### 代码 5-34 菜品dishes_name哑变量处理"
   ]
  },
  {
   "cell_type": "code",
   "execution_count": 23,
   "metadata": {},
   "outputs": [
    {
     "name": "stdout",
     "output_type": "stream",
     "text": [
      "哑变量处理前的数据为：\n",
      " 0     蒜蓉生蚝\n",
      "1    蒙古烤羊腿\n",
      "2     大蒜苋菜\n",
      "3    芝麻烤紫菜\n",
      "4      蒜香包\n",
      "Name: dishes_name, dtype: object\n",
      "哑变量处理后的数据为：\n",
      "    38度剑南春  42度海之蓝  50度古井贡酒  52度泸州老窖  53度茅台\n",
      "0       0       0        0        0      0\n",
      "1       0       0        0        0      0\n",
      "2       0       0        0        0      0\n",
      "3       0       0        0        0      0\n",
      "4       0       0        0        0      0\n"
     ]
    }
   ],
   "source": [
    "# 代码 5-34\n",
    "data=detail.loc[:,'dishes_name']\n",
    "print('哑变量处理前的数据为：\\n',data.iloc[:5])\n",
    "print('哑变量处理后的数据为：\\n',pd.get_dummies(data).iloc[:5,:5])"
   ]
  },
  {
   "cell_type": "markdown",
   "metadata": {},
   "source": [
    "### 代码 5-35 菜品售价等频法离散化"
   ]
  },
  {
   "cell_type": "code",
   "execution_count": 24,
   "metadata": {},
   "outputs": [
    {
     "name": "stdout",
     "output_type": "stream",
     "text": [
      "菜品数据等频法离散化后各个类别数目分布状况为： \n",
      " (18.0, 32.0]     2107\n",
      "(39.0, 58.0]     2080\n",
      "(32.0, 39.0]     1910\n",
      "(1.0, 18.0]      1891\n",
      "(58.0, 178.0]    1863\n",
      "Name: amounts, dtype: int64\n"
     ]
    }
   ],
   "source": [
    "##自定义等频法离散化函数\n",
    "def SameRateCut(data,k):\n",
    "    w=data.quantile(np.arange(0,1+1.0/k,1.0/k))\n",
    "    data=pd.cut(data,w)\n",
    "    return data\n",
    "result=SameRateCut(detail['amounts'],5).value_counts()   ##菜品售价等频法离散化\n",
    "print('菜品数据等频法离散化后各个类别数目分布状况为：','\\n',result)"
   ]
  },
  {
   "cell_type": "markdown",
   "metadata": {},
   "source": [
    "# 小结"
   ]
  },
  {
   "cell_type": "markdown",
   "metadata": {},
   "source": [
    "本章以菜品数据为例子，实现了数据分析的数据预处理过程，即数据清洗、数据合并、数据标准化和数据转换。这四个步骤并不存在严格的先后关系，实际工作中往往需要交叉工作。\n",
    "数据清洗主要介绍了对重复数据、缺失值和异常值的处理。\n",
    "重复数据处理细分为记录去重和特征去重。\n",
    "缺失值处理方法分为删除、替换和插值。\n",
    "异常值介绍了3σ原则和箱线图识别这两种识别方法。\n",
    "数据合并是将多个数据源中的数据合并存放到一个数据存储的过程。\n",
    "数据标准化介绍了如何将不同量纲的数据转化为可以相互比较的标准化数据。\n",
    "数据转换介绍了如何从不同的应用角度对已有特征进行转换。\n"
   ]
  },
  {
   "cell_type": "code",
   "execution_count": null,
   "metadata": {},
   "outputs": [],
   "source": []
  }
 ],
 "metadata": {
  "kernelspec": {
   "display_name": "Python 3",
   "language": "python",
   "name": "python3"
  },
  "language_info": {
   "codemirror_mode": {
    "name": "ipython",
    "version": 3
   },
   "file_extension": ".py",
   "mimetype": "text/x-python",
   "name": "python",
   "nbconvert_exporter": "python",
   "pygments_lexer": "ipython3",
   "version": "3.7.6"
  }
 },
 "nbformat": 4,
 "nbformat_minor": 4
}
