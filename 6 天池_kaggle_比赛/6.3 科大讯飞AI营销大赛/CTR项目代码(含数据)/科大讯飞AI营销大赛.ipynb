{
 "cells": [
  {
   "cell_type": "code",
   "execution_count": 5,
   "metadata": {
    "ExecuteTime": {
     "end_time": "2021-02-05T08:29:30.537000Z",
     "start_time": "2021-02-05T08:29:30.525000Z"
    },
    "collapsed": true
   },
   "outputs": [
    {
     "ename": "ModuleNotFoundError",
     "evalue": "No module named 'pandas'",
     "output_type": "error",
     "traceback": [
      "\u001b[1;31m---------------------------------------------------------------------------\u001b[0m",
      "\u001b[1;31mModuleNotFoundError\u001b[0m                       Traceback (most recent call last)",
      "\u001b[1;32m<ipython-input-5-ff86d6663941>\u001b[0m in \u001b[0;36m<module>\u001b[1;34m\u001b[0m\n\u001b[0;32m      6\u001b[0m \u001b[1;32mimport\u001b[0m \u001b[0mlightgbm\u001b[0m \u001b[1;32mas\u001b[0m \u001b[0mlgb\u001b[0m   \u001b[1;31m# boosting的升级版 xgboostd 的运行速度会慢一点\u001b[0m\u001b[1;33m\u001b[0m\u001b[1;33m\u001b[0m\u001b[0m\n\u001b[0;32m      7\u001b[0m \u001b[1;32mimport\u001b[0m \u001b[0mtime\u001b[0m\u001b[1;33m\u001b[0m\u001b[1;33m\u001b[0m\u001b[0m\n\u001b[1;32m----> 8\u001b[1;33m \u001b[1;32mimport\u001b[0m \u001b[0mpandas\u001b[0m \u001b[1;32mas\u001b[0m \u001b[0mpd\u001b[0m\u001b[1;33m\u001b[0m\u001b[1;33m\u001b[0m\u001b[0m\n\u001b[0m\u001b[0;32m      9\u001b[0m \u001b[1;32mimport\u001b[0m \u001b[0mnumpy\u001b[0m \u001b[1;32mas\u001b[0m \u001b[0mnp\u001b[0m\u001b[1;33m\u001b[0m\u001b[1;33m\u001b[0m\u001b[0m\n\u001b[0;32m     10\u001b[0m \u001b[1;32mimport\u001b[0m \u001b[0msys\u001b[0m\u001b[1;33m\u001b[0m\u001b[1;33m\u001b[0m\u001b[0m\n",
      "\u001b[1;31mModuleNotFoundError\u001b[0m: No module named 'pandas'"
     ]
    }
   ],
   "source": [
    "import datetime\n",
    "from sklearn.preprocessing import OneHotEncoder\n",
    "from sklearn.model_selection import StratifiedKFold\n",
    "from sklearn.feature_extraction.text import CountVectorizer\n",
    "from scipy import sparse\n",
    "import lightgbm as lgb   # boosting的升级版 xgboostd 的运行速度会慢一点\n",
    "import time\n",
    "import pandas as pd\n",
    "import numpy as np\n",
    "import sys"
   ]
  },
  {
   "cell_type": "markdown",
   "metadata": {},
   "source": [
    "#### 1、导入数据"
   ]
  },
  {
   "cell_type": "code",
   "execution_count": 2,
   "metadata": {
    "ExecuteTime": {
     "end_time": "2021-02-05T07:33:52.475000Z",
     "start_time": "2021-02-05T07:33:46.205000Z"
    }
   },
   "outputs": [],
   "source": [
    "train = pd.read_csv('./round1_iflyad_train.txt',sep='\\t')\n",
    "test = pd.read_csv('./round1_iflyad_test_feature.txt',sep='\\t')"
   ]
  },
  {
   "cell_type": "markdown",
   "metadata": {
    "ExecuteTime": {
     "end_time": "2021-02-04T06:49:56.433000Z",
     "start_time": "2021-02-04T06:49:56.429000Z"
    }
   },
   "source": [
    "#### 2、数据探索"
   ]
  },
  {
   "cell_type": "code",
   "execution_count": 3,
   "metadata": {
    "ExecuteTime": {
     "end_time": "2021-02-05T02:30:29.763000Z",
     "start_time": "2021-02-05T02:30:29.058000Z"
    }
   },
   "outputs": [
    {
     "data": {
      "text/plain": [
       "instance_id                   0\n",
       "time                          0\n",
       "city                          0\n",
       "province                      0\n",
       "user_tags                309770\n",
       "carrier                       0\n",
       "devtype                       0\n",
       "make                      98917\n",
       "model                      7402\n",
       "nnt                           0\n",
       "os                            0\n",
       "osv                        7772\n",
       "os_name                       0\n",
       "adid                          0\n",
       "advert_id                     0\n",
       "orderid                       0\n",
       "advert_industry_inner         0\n",
       "campaign_id                   0\n",
       "creative_id                   0\n",
       "creative_tp_dnf               0\n",
       "app_cate_id                2267\n",
       "f_channel                925260\n",
       "app_id                     2267\n",
       "inner_slot_id                 0\n",
       "creative_type                 0\n",
       "creative_width                0\n",
       "creative_height               0\n",
       "creative_is_jump              0\n",
       "creative_is_download          0\n",
       "creative_is_js                0\n",
       "creative_is_voicead           0\n",
       "creative_has_deeplink         0\n",
       "app_paid                      0\n",
       "advert_name                   0\n",
       "click                         0\n",
       "dtype: int64"
      ]
     },
     "execution_count": 3,
     "metadata": {},
     "output_type": "execute_result"
    }
   ],
   "source": [
    "# train.head(5)\n",
    "# train.info()\n",
    "train.isnull().sum()"
   ]
  },
  {
   "cell_type": "markdown",
   "metadata": {},
   "source": [
    "* 不平衡处理"
   ]
  },
  {
   "cell_type": "code",
   "execution_count": 4,
   "metadata": {
    "ExecuteTime": {
     "end_time": "2021-02-05T07:15:46.658000Z",
     "start_time": "2021-02-05T07:15:46.626000Z"
    }
   },
   "outputs": [
    {
     "data": {
      "text/plain": [
       "0    802863\n",
       "1    198787\n",
       "Name: click, dtype: int64"
      ]
     },
     "execution_count": 4,
     "metadata": {},
     "output_type": "execute_result"
    }
   ],
   "source": [
    "train['click'].value_counts()"
   ]
  },
  {
   "cell_type": "code",
   "execution_count": 5,
   "metadata": {
    "ExecuteTime": {
     "end_time": "2021-02-05T07:15:48.385000Z",
     "start_time": "2021-02-05T07:15:48.224000Z"
    }
   },
   "outputs": [],
   "source": [
    "x = train.drop('click',axis=1)\n",
    "y = train['click']"
   ]
  },
  {
   "cell_type": "markdown",
   "metadata": {},
   "source": [
    "* --------学习过采样，无需运行-------------------"
   ]
  },
  {
   "cell_type": "code",
   "execution_count": 6,
   "metadata": {
    "ExecuteTime": {
     "end_time": "2021-02-05T07:15:50.456000Z",
     "start_time": "2021-02-05T07:15:49.464000Z"
    }
   },
   "outputs": [],
   "source": [
    "from imblearn.over_sampling import RandomOverSampler  # 过采样"
   ]
  },
  {
   "cell_type": "markdown",
   "metadata": {},
   "source": [
    " random_state = 0 随机种子,固定随机数.以后运行代码,可以复现代码,复现整个效果.随机造成模型没有以前好"
   ]
  },
  {
   "cell_type": "code",
   "execution_count": 7,
   "metadata": {
    "ExecuteTime": {
     "end_time": "2021-02-05T02:45:14.170000Z",
     "start_time": "2021-02-05T02:45:14.167000Z"
    }
   },
   "outputs": [],
   "source": [
    "ros = RandomOverSampler(sampling_strategy=0.4,random_state=0)"
   ]
  },
  {
   "cell_type": "code",
   "execution_count": 8,
   "metadata": {
    "ExecuteTime": {
     "end_time": "2021-02-05T02:45:21.738000Z",
     "start_time": "2021-02-05T02:45:16.491000Z"
    }
   },
   "outputs": [],
   "source": [
    "X_resampled, y_resampled = ros.fit_resample(x, y)  # resanple :重新取样"
   ]
  },
  {
   "cell_type": "code",
   "execution_count": 36,
   "metadata": {
    "ExecuteTime": {
     "end_time": "2021-02-05T02:45:23.600000Z",
     "start_time": "2021-02-05T02:45:23.596000Z"
    }
   },
   "outputs": [
    {
     "data": {
      "text/plain": [
       "(1124008, 34)"
      ]
     },
     "execution_count": 36,
     "metadata": {},
     "output_type": "execute_result"
    }
   ],
   "source": [
    "X_resampled.shape"
   ]
  },
  {
   "cell_type": "code",
   "execution_count": 38,
   "metadata": {
    "ExecuteTime": {
     "end_time": "2021-02-05T02:45:32.074000Z",
     "start_time": "2021-02-05T02:45:32.062000Z"
    }
   },
   "outputs": [
    {
     "data": {
      "text/plain": [
       "0    802863\n",
       "1    198787\n",
       "Name: click, dtype: int64"
      ]
     },
     "execution_count": 38,
     "metadata": {},
     "output_type": "execute_result"
    }
   ],
   "source": [
    "y.value_counts()"
   ]
  },
  {
   "cell_type": "code",
   "execution_count": 40,
   "metadata": {
    "ExecuteTime": {
     "end_time": "2021-02-05T02:45:56.609000Z",
     "start_time": "2021-02-05T02:45:56.590000Z"
    }
   },
   "outputs": [
    {
     "data": {
      "text/plain": [
       "0    802863\n",
       "1    321145\n",
       "Name: click, dtype: int64"
      ]
     },
     "execution_count": 40,
     "metadata": {},
     "output_type": "execute_result"
    }
   ],
   "source": [
    "y_resampled.value_counts()"
   ]
  },
  {
   "cell_type": "code",
   "execution_count": null,
   "metadata": {
    "ExecuteTime": {
     "end_time": "2021-02-05T02:46:06.468000Z",
     "start_time": "2021-02-05T02:46:06.461000Z"
    }
   },
   "outputs": [],
   "source": [
    "321145/802863"
   ]
  },
  {
   "cell_type": "markdown",
   "metadata": {
    "ExecuteTime": {
     "end_time": "2021-02-05T07:02:26.960000Z",
     "start_time": "2021-02-05T07:02:26.948000Z"
    }
   },
   "source": [
    "* --------学习过采样，无需运行-------------------"
   ]
  },
  {
   "cell_type": "markdown",
   "metadata": {},
   "source": [
    "* 合并"
   ]
  },
  {
   "cell_type": "code",
   "execution_count": null,
   "metadata": {
    "ExecuteTime": {
     "end_time": "2021-02-05T07:33:58.985000Z",
     "start_time": "2021-02-05T07:33:58.480000Z"
    }
   },
   "outputs": [],
   "source": [
    "click = train['click']\n",
    "train = train.drop('click',axis=1)\n",
    "df = pd.concat([train,test],axis=0,ignore_index=True)"
   ]
  },
  {
   "cell_type": "markdown",
   "metadata": {},
   "source": [
    "#### 3、数据预处理"
   ]
  },
  {
   "cell_type": "markdown",
   "metadata": {
    "ExecuteTime": {
     "end_time": "2021-02-04T07:25:30.362000Z",
     "start_time": "2021-02-04T07:25:30.359000Z"
    }
   },
   "source": [
    "* 缺失值处理"
   ]
  },
  {
   "cell_type": "code",
   "execution_count": null,
   "metadata": {
    "ExecuteTime": {
     "end_time": "2021-02-05T07:34:04.009000Z",
     "start_time": "2021-02-05T07:34:03.305000Z"
    }
   },
   "outputs": [],
   "source": [
    "# 比赛常用的缺失值处理技巧\n",
    "df = df.fillna(-1)"
   ]
  },
  {
   "cell_type": "markdown",
   "metadata": {},
   "source": [
    "* 时间提取"
   ]
  },
  {
   "cell_type": "code",
   "execution_count": null,
   "metadata": {
    "ExecuteTime": {
     "end_time": "2021-02-05T07:34:10.628000Z",
     "start_time": "2021-02-05T07:34:04.866000Z"
    }
   },
   "outputs": [],
   "source": [
    "df['day'] = df['time'].apply(lambda x: int(time.strftime(\"%d\", time.localtime(x))))\n",
    "df['hour'] = df['time'].apply(lambda x: int(time.strftime(\"%H\", time.localtime(x))))"
   ]
  },
  {
   "cell_type": "markdown",
   "metadata": {},
   "source": [
    "* 布尔型数据转换"
   ]
  },
  {
   "cell_type": "code",
   "execution_count": null,
   "metadata": {
    "ExecuteTime": {
     "end_time": "2021-02-05T07:34:10.670000Z",
     "start_time": "2021-02-05T07:34:10.629000Z"
    }
   },
   "outputs": [],
   "source": [
    "list(filter(lambda s:s=='bool',[df[i].dtype for i in df.columns]))\n",
    "bool_feature = list(filter(lambda s:s!=0,[i if df[i].dtype=='bool' else 0  for i in df.columns]))\n",
    "\n",
    "# 转换bool\n",
    "for i in bool_feature:\n",
    "    df[i] = df[i].astype(int)   #啥都不写，只写int的话，则默认为int32."
   ]
  },
  {
   "cell_type": "markdown",
   "metadata": {},
   "source": [
    "* advert_industry_inner特征提取"
   ]
  },
  {
   "cell_type": "code",
   "execution_count": null,
   "metadata": {
    "ExecuteTime": {
     "end_time": "2021-02-05T07:34:35.004000Z",
     "start_time": "2021-02-05T07:34:34.660000Z"
    }
   },
   "outputs": [],
   "source": [
    "df['advert_industry_inner_1'] = df['advert_industry_inner'].apply(lambda x: x.split('_')[0])"
   ]
  },
  {
   "cell_type": "markdown",
   "metadata": {},
   "source": [
    "* 将广告相关特征放到一个列表"
   ]
  },
  {
   "cell_type": "code",
   "execution_count": null,
   "metadata": {
    "ExecuteTime": {
     "end_time": "2021-02-05T07:34:36.784000Z",
     "start_time": "2021-02-05T07:34:36.779000Z"
    }
   },
   "outputs": [],
   "source": [
    "ad_cate_feature = ['adid', 'advert_id', 'orderid', 'advert_industry_inner_1', 'advert_industry_inner', 'advert_name',\n",
    "                   'campaign_id', 'creative_id', 'creative_type', 'creative_tp_dnf', 'creative_has_deeplink',\n",
    "                   'creative_is_jump', 'creative_is_download']"
   ]
  },
  {
   "cell_type": "code",
   "execution_count": null,
   "metadata": {
    "ExecuteTime": {
     "end_time": "2021-02-05T07:34:37.435000Z",
     "start_time": "2021-02-05T07:34:37.396000Z"
    }
   },
   "outputs": [],
   "source": [
    "# 此特征仅有一个元素，方差为0。无效特征\n",
    "df['creative_is_js'].value_counts()"
   ]
  },
  {
   "cell_type": "code",
   "execution_count": null,
   "metadata": {
    "ExecuteTime": {
     "end_time": "2021-02-05T07:34:38.671000Z",
     "start_time": "2021-02-05T07:34:38.667000Z"
    }
   },
   "outputs": [],
   "source": [
    "# creative_height  ，creative_width为数值型特征，不放入列表中。"
   ]
  },
  {
   "cell_type": "markdown",
   "metadata": {},
   "source": [
    "* 将媒体相关特征放入列表"
   ]
  },
  {
   "cell_type": "code",
   "execution_count": null,
   "metadata": {
    "ExecuteTime": {
     "end_time": "2021-02-05T07:34:39.279000Z",
     "start_time": "2021-02-05T07:34:39.276000Z"
    }
   },
   "outputs": [],
   "source": [
    "media_cate_feature = ['app_cate_id', 'f_channel', 'app_id', 'inner_slot_id']"
   ]
  },
  {
   "cell_type": "code",
   "execution_count": null,
   "metadata": {
    "ExecuteTime": {
     "end_time": "2021-02-05T07:34:40.621000Z",
     "start_time": "2021-02-05T07:34:40.588000Z"
    }
   },
   "outputs": [],
   "source": [
    "# 此特征仅有一个元素，方差为0。无效特征\n",
    "df['app_paid'].value_counts()"
   ]
  },
  {
   "cell_type": "markdown",
   "metadata": {},
   "source": [
    "* 上下文特征（用户信息） "
   ]
  },
  {
   "cell_type": "code",
   "execution_count": null,
   "metadata": {
    "ExecuteTime": {
     "end_time": "2021-02-05T07:34:41.600000Z",
     "start_time": "2021-02-05T07:34:41.594000Z"
    }
   },
   "outputs": [],
   "source": [
    "content_cate_feature = ['city', 'carrier', 'province', 'nnt', 'devtype', 'osv', 'os', 'make', 'model']"
   ]
  },
  {
   "cell_type": "code",
   "execution_count": null,
   "metadata": {
    "ExecuteTime": {
     "end_time": "2021-02-05T07:34:42.935000Z",
     "start_time": "2021-02-05T07:34:42.821000Z"
    }
   },
   "outputs": [],
   "source": [
    "# 与os完全重合了，所以不纳入列表中\n",
    "df['os_name'].value_counts()"
   ]
  },
  {
   "cell_type": "code",
   "execution_count": null,
   "metadata": {
    "ExecuteTime": {
     "end_time": "2021-02-05T07:34:43.320000Z",
     "start_time": "2021-02-05T07:34:43.308000Z"
    }
   },
   "outputs": [],
   "source": [
    "df['os'].value_counts()"
   ]
  },
  {
   "cell_type": "markdown",
   "metadata": {},
   "source": [
    "* 列表合并"
   ]
  },
  {
   "cell_type": "code",
   "execution_count": null,
   "metadata": {
    "ExecuteTime": {
     "end_time": "2021-02-05T07:34:45.236000Z",
     "start_time": "2021-02-05T07:34:45.230000Z"
    }
   },
   "outputs": [],
   "source": [
    "origin_cate_list = ad_cate_feature + media_cate_feature + content_cate_feature"
   ]
  },
  {
   "cell_type": "markdown",
   "metadata": {},
   "source": [
    "* 将分类特征labelencode："
   ]
  },
  {
   "cell_type": "code",
   "execution_count": null,
   "metadata": {
    "ExecuteTime": {
     "end_time": "2021-02-05T07:34:48.916000Z",
     "start_time": "2021-02-05T07:34:46.299000Z"
    }
   },
   "outputs": [],
   "source": [
    "for i in origin_cate_list:\n",
    "    df[i] = df[i].map(dict(zip(df[i].unique(), range(0, df[i].nunique()))))"
   ]
  },
  {
   "cell_type": "code",
   "execution_count": null,
   "metadata": {
    "ExecuteTime": {
     "end_time": "2021-02-05T07:34:50.252000Z",
     "start_time": "2021-02-05T07:34:50.038000Z"
    }
   },
   "outputs": [],
   "source": [
    "df['os_name'].map(dict(zip(df['os_name'].unique(), range(0, df['os_name'].nunique())))).value_counts()"
   ]
  },
  {
   "cell_type": "code",
   "execution_count": null,
   "metadata": {
    "ExecuteTime": {
     "end_time": "2021-02-05T07:34:51.018000Z",
     "start_time": "2021-02-05T07:34:50.853000Z"
    }
   },
   "outputs": [],
   "source": [
    "pd.DataFrame(df['os_name'].value_counts()).reset_index()"
   ]
  },
  {
   "cell_type": "code",
   "execution_count": null,
   "metadata": {
    "ExecuteTime": {
     "end_time": "2021-02-05T07:34:52.343000Z",
     "start_time": "2021-02-05T07:34:52.317000Z"
    }
   },
   "outputs": [],
   "source": [
    "# 查看目前特征数量\n",
    "df.head()"
   ]
  },
  {
   "cell_type": "markdown",
   "metadata": {},
   "source": [
    "#### 4、特征工程"
   ]
  },
  {
   "cell_type": "code",
   "execution_count": null,
   "metadata": {
    "ExecuteTime": {
     "end_time": "2021-02-05T07:34:54.423000Z",
     "start_time": "2021-02-05T07:34:54.401000Z"
    }
   },
   "outputs": [],
   "source": [
    "count_feature_list = []\n",
    "def feature_count(data, features=[], is_feature=True):\n",
    "\n",
    "    ### 第一个代码逻辑块 ###\n",
    "    if len(set(features)) != len(features): \n",
    "        print('equal feature !!!!')\n",
    "        return data\n",
    "    ### 第一个代码逻辑块 ###\n",
    "    \n",
    "    \n",
    "    \n",
    "    ### 第二个代码逻辑块 ###\n",
    "    new_feature = 'count'\n",
    "\n",
    "    nunique = []\n",
    "    for i in features:\n",
    "        nunique.append(data[i].nunique())\n",
    "        new_feature += '_' + i.replace('add_', '')\n",
    "        \n",
    "    ### 第二个代码逻辑块 ###\n",
    "    \n",
    "    \n",
    "    ### 第三个代码逻辑块 ###\n",
    "    if len(features) > 1 and len(data[features].drop_duplicates()) <= np.max(nunique):\n",
    "        print(new_feature, 'is unvalid cross feature:')\n",
    "        return data\n",
    "    ### 第二个代码逻辑块 ### \n",
    "    \n",
    "    \n",
    "    ### 第四个代码逻辑块 ###\n",
    "    temp = data.groupby(features).size().reset_index().rename(columns={0: new_feature})\n",
    "\n",
    "    data = data.merge(temp, 'left', on=features)\n",
    "    ### 第四个代码逻辑块 ###\n",
    "  \n",
    "\n",
    "    ### 第五个代码逻辑块 ###\n",
    "    if is_feature:\n",
    "        count_feature_list.append(new_feature)\n",
    "        \n",
    "    if 'day_' in new_feature:\n",
    "        print('fix:', new_feature)\n",
    "        data.loc[data.day == 3, new_feature] = data[data.day == 3][new_feature] * 4\n",
    "    ### 第五个代码逻辑块 ###\n",
    "    \n",
    "    return data"
   ]
  },
  {
   "cell_type": "code",
   "execution_count": null,
   "metadata": {
    "ExecuteTime": {
     "end_time": "2021-02-05T07:36:13.655000Z",
     "start_time": "2021-02-05T07:34:55.021000Z"
    }
   },
   "outputs": [],
   "source": [
    "for i in origin_cate_list:\n",
    "    n = df[i].nunique()\n",
    "    if n > 5:\n",
    "        df = feature_count(df, [i])\n",
    "        df = feature_count(df, ['day', 'hour', i])"
   ]
  },
  {
   "cell_type": "markdown",
   "metadata": {},
   "source": [
    "* ----------------------理解以上代码，不执行----------------------------"
   ]
  },
  {
   "cell_type": "code",
   "execution_count": null,
   "metadata": {
    "ExecuteTime": {
     "end_time": "2021-02-04T10:21:22.384000Z",
     "start_time": "2021-02-04T10:21:22.377000Z"
    }
   },
   "outputs": [],
   "source": [
    "origin_cate_list"
   ]
  },
  {
   "cell_type": "markdown",
   "metadata": {},
   "source": [
    "* 拆解1：把函数参数列好"
   ]
  },
  {
   "cell_type": "code",
   "execution_count": null,
   "metadata": {
    "ExecuteTime": {
     "end_time": "2021-02-05T04:06:40.928000Z",
     "start_time": "2021-02-05T04:06:40.620000Z"
    }
   },
   "outputs": [],
   "source": [
    "# 函数参数\n",
    "# features = ['creative_id']\n",
    "features  = ['day', 'hour', 'creative_id']\n",
    "data = df.copy()\n",
    "is_feature = True\n",
    "n = df[features].nunique()\n"
   ]
  },
  {
   "cell_type": "markdown",
   "metadata": {},
   "source": [
    "* （1）查看第一个函数逻辑块"
   ]
  },
  {
   "cell_type": "code",
   "execution_count": null,
   "metadata": {
    "ExecuteTime": {
     "end_time": "2021-02-04T11:12:46.431000Z",
     "start_time": "2021-02-04T11:12:46.401000Z"
    }
   },
   "outputs": [],
   "source": [
    "# n相当于拿该特征的独立元素个数。\n",
    "n = data[features[0]].nunique()\n",
    "\n",
    "# 如果n>5，并且features里有重复值，则不去操作\n",
    "if n > 5:\n",
    "    if len(set(features)) != len(features):  \n",
    "        print('equal feature !!!!')"
   ]
  },
  {
   "cell_type": "markdown",
   "metadata": {},
   "source": [
    "* （2）查看第二个函数逻辑块"
   ]
  },
  {
   "cell_type": "code",
   "execution_count": null,
   "metadata": {
    "ExecuteTime": {
     "end_time": "2021-02-04T11:12:48.967000Z",
     "start_time": "2021-02-04T11:12:48.870000Z"
    }
   },
   "outputs": [],
   "source": [
    "# 改变特征名\n",
    "new_feature = 'count' \n",
    "nunique = []\n",
    "for i in features:\n",
    "    nunique.append(data[i].nunique())\n",
    "    new_feature += '_' + i.replace('add_', '')"
   ]
  },
  {
   "cell_type": "code",
   "execution_count": null,
   "metadata": {
    "ExecuteTime": {
     "end_time": "2021-02-04T11:12:50.188000Z",
     "start_time": "2021-02-04T11:12:50.177000Z"
    }
   },
   "outputs": [],
   "source": [
    "new_feature"
   ]
  },
  {
   "cell_type": "code",
   "execution_count": null,
   "metadata": {
    "ExecuteTime": {
     "end_time": "2021-02-04T11:12:50.924000Z",
     "start_time": "2021-02-04T11:12:50.855000Z"
    }
   },
   "outputs": [],
   "source": [
    "# 改变特征名\n",
    "new_feature = 'count' \n",
    "nunique = []\n",
    "for i in features2:\n",
    "    nunique.append(data[i].nunique())\n",
    "    new_feature += '_' + i.replace('add_', '')"
   ]
  },
  {
   "cell_type": "code",
   "execution_count": null,
   "metadata": {
    "ExecuteTime": {
     "end_time": "2021-02-04T11:12:51.360000Z",
     "start_time": "2021-02-04T11:12:51.357000Z"
    }
   },
   "outputs": [],
   "source": [
    "new_feature"
   ]
  },
  {
   "cell_type": "markdown",
   "metadata": {},
   "source": [
    "* （3）查看第三个函数逻辑块"
   ]
  },
  {
   "cell_type": "code",
   "execution_count": null,
   "metadata": {
    "ExecuteTime": {
     "end_time": "2021-02-04T11:12:53.205000Z",
     "start_time": "2021-02-04T11:12:53.080000Z"
    }
   },
   "outputs": [],
   "source": [
    "# 不符合以下条件就是无效的交叉特征，不作处理\n",
    "# 条件：features列表里不止1个元素  并且 features列的独立元素特别少的话 \n",
    "if len(features) > 1 and len(data[features].drop_duplicates()) <= np.max(nunique):\n",
    "    print(new_feature, 'is unvalid cross feature:')"
   ]
  },
  {
   "cell_type": "markdown",
   "metadata": {},
   "source": [
    "* （4）【核心】查看第四个函数逻辑块"
   ]
  },
  {
   "cell_type": "code",
   "execution_count": null,
   "metadata": {
    "ExecuteTime": {
     "end_time": "2021-02-04T11:12:58.769000Z",
     "start_time": "2021-02-04T11:12:57.458000Z"
    }
   },
   "outputs": [],
   "source": [
    "temp = data.groupby(features).size().reset_index().rename(columns={0: new_feature})\n",
    "\n",
    "data = data.merge(temp, 'left', on=features)"
   ]
  },
  {
   "cell_type": "code",
   "execution_count": null,
   "metadata": {
    "ExecuteTime": {
     "end_time": "2021-02-04T11:10:07.775000Z",
     "start_time": "2021-02-04T11:10:07.584000Z"
    }
   },
   "outputs": [],
   "source": [
    "data.groupby(features2).size().reset_index().rename(columns={0: new_feature})"
   ]
  },
  {
   "cell_type": "code",
   "execution_count": null,
   "metadata": {
    "ExecuteTime": {
     "end_time": "2021-02-04T11:02:57.756000Z",
     "start_time": "2021-02-04T11:02:57.718000Z"
    }
   },
   "outputs": [],
   "source": [
    "data['creative_id'].value_counts()"
   ]
  },
  {
   "cell_type": "markdown",
   "metadata": {},
   "source": [
    "* **其实这个函数的核心就是“相当于遍历了所有特征，做了一个新的统计特征，仅此而已**\n",
    "* **要注意，如果输入的是['day', 'hour', 'creative_id']，相当于是计算这三个交叉特征的统计特征。**"
   ]
  },
  {
   "cell_type": "markdown",
   "metadata": {},
   "source": [
    "* （5）查看第五个函数逻辑块"
   ]
  },
  {
   "cell_type": "code",
   "execution_count": null,
   "metadata": {
    "ExecuteTime": {
     "end_time": "2021-02-04T11:13:35.262000Z",
     "start_time": "2021-02-04T11:13:34.780000Z"
    }
   },
   "outputs": [],
   "source": [
    "count_feature_list = []\n",
    "if is_feature:\n",
    "    count_feature_list.append(new_feature)\n",
    "\n",
    "#对于长这样（count_day_hour_app_id）的String类型变量new_feature，我们把它打印一下；并且把data.day == 3所在行的new_feature列乘以4并重新赋值；\n",
    "if 'day_' in new_feature:\n",
    "    print('fix:', new_feature)\n",
    "    data.loc[data.day == 3, new_feature] = data[data.day == 3][new_feature] * 4"
   ]
  },
  {
   "cell_type": "markdown",
   "metadata": {},
   "source": [
    "* 可以查看df['day'].value_counts() ==3的个数，量级太少了，如果不把它变成与其他day相同量级，那么会有量纲的差异"
   ]
  },
  {
   "cell_type": "code",
   "execution_count": null,
   "metadata": {
    "ExecuteTime": {
     "end_time": "2021-02-04T11:16:59.738000Z",
     "start_time": "2021-02-04T11:16:59.711000Z"
    }
   },
   "outputs": [],
   "source": [
    "df['day'].value_counts()"
   ]
  },
  {
   "cell_type": "markdown",
   "metadata": {},
   "source": [
    "* ------------理解代码，不执行----------------------------"
   ]
  },
  {
   "cell_type": "markdown",
   "metadata": {},
   "source": [
    "* **4.2、比例特征**"
   ]
  },
  {
   "cell_type": "code",
   "execution_count": null,
   "metadata": {
    "ExecuteTime": {
     "end_time": "2021-02-05T07:05:26.809000Z",
     "start_time": "2021-02-05T07:04:49.806000Z"
    }
   },
   "outputs": [],
   "source": [
    "# 运行了51min\n",
    "ratio_feature_list = []\n",
    "for i in media_cate_feature:\n",
    "    for j in content_cate_feature + ad_cate_feature:\n",
    "        new_feature = 'inf_' + i + '_' + j\n",
    "        df = feature_count(df, [i, j])\n",
    "        # 独立元素要大于5才做\n",
    "        if df[i].nunique() > 5 and df[j].nunique() > 5:\n",
    "            df['ratio_' + j + '_of_' + i] = df[ 'count_' + i + '_' + j] / df['count_' + i]\n",
    "            df['ratio_' + i + '_of_' + j] = df['count_' + i + '_' + j] / df['count_' + j]\n",
    "            ratio_feature_list.append('ratio_' + j + '_of_' + i)\n",
    "            ratio_feature_list.append('ratio_' + i + '_of_' + j)\n",
    "            print(i,'&',j)"
   ]
  },
  {
   "cell_type": "code",
   "execution_count": null,
   "metadata": {
    "ExecuteTime": {
     "end_time": "2021-02-05T07:18:11.377000Z",
     "start_time": "2021-02-05T07:18:11.371000Z"
    }
   },
   "outputs": [],
   "source": [
    "# 导出数据\n",
    "# df.to_pickle('df_ratioed.pkl')"
   ]
  },
  {
   "cell_type": "code",
   "execution_count": null,
   "metadata": {
    "ExecuteTime": {
     "end_time": "2021-02-05T07:39:00.409000Z",
     "start_time": "2021-02-05T07:38:43.688000Z"
    }
   },
   "outputs": [],
   "source": [
    "#读入数据\n",
    "df = pd.read_pickle('df_ratioed.pkl')"
   ]
  },
  {
   "cell_type": "markdown",
   "metadata": {},
   "source": [
    "* ---------------如果跑了比例特征，这些就不需要执行----------------"
   ]
  },
  {
   "cell_type": "code",
   "execution_count": null,
   "metadata": {
    "ExecuteTime": {
     "end_time": "2021-02-05T07:39:23.592000Z",
     "start_time": "2021-02-05T07:39:23.584000Z"
    }
   },
   "outputs": [],
   "source": [
    "ratio_feature_list = list(pd.Series(df.columns)[pd.Series(df.columns).str.contains('ratio')])"
   ]
  },
  {
   "cell_type": "code",
   "execution_count": null,
   "metadata": {
    "ExecuteTime": {
     "end_time": "2021-02-05T07:39:25.549000Z",
     "start_time": "2021-02-05T07:39:25.526000Z"
    }
   },
   "outputs": [],
   "source": [
    "count_feature_list = list(pd.read_csv('count_list.csv')['0'])"
   ]
  },
  {
   "cell_type": "code",
   "execution_count": null,
   "metadata": {
    "ExecuteTime": {
     "end_time": "2021-02-05T07:39:26.617000Z",
     "start_time": "2021-02-05T07:39:26.612000Z"
    }
   },
   "outputs": [],
   "source": [
    "drop_l = ['count_adid_province', 'count_adid_model', 'count_adid_carrier', 'count_adid_devtype', 'count_adid_os', 'count_adid_nnt', 'count_adid_make', 'count_adid_city', 'count_adid_osv'] "
   ]
  },
  {
   "cell_type": "code",
   "execution_count": null,
   "metadata": {
    "ExecuteTime": {
     "end_time": "2021-02-05T07:39:28.260000Z",
     "start_time": "2021-02-05T07:39:28.248000Z"
    }
   },
   "outputs": [],
   "source": [
    "count_feature_list = list(pd.Series(count_feature_list)[pd.Series(count_feature_list).isin(drop_l)==False])"
   ]
  },
  {
   "cell_type": "markdown",
   "metadata": {},
   "source": [
    "* ---------------如果跑了比例特征，这些就不需要执行----------------"
   ]
  },
  {
   "cell_type": "markdown",
   "metadata": {},
   "source": [
    "* -------“媒体特征”与“广告+上下文特征”进行交叉，并计算比例特征，理解，不需要运行----------------"
   ]
  },
  {
   "cell_type": "code",
   "execution_count": null,
   "metadata": {
    "ExecuteTime": {
     "end_time": "2021-02-05T07:05:54.158000Z",
     "start_time": "2021-02-05T07:05:54.156000Z"
    }
   },
   "outputs": [],
   "source": [
    "# 媒体特征\n",
    "i = 'app_cate_id'"
   ]
  },
  {
   "cell_type": "code",
   "execution_count": null,
   "metadata": {
    "ExecuteTime": {
     "end_time": "2021-02-05T04:07:15.515000Z",
     "start_time": "2021-02-05T04:07:15.512000Z"
    }
   },
   "outputs": [],
   "source": [
    "# 上下文特征\n",
    "j = 'city'"
   ]
  },
  {
   "cell_type": "code",
   "execution_count": null,
   "metadata": {
    "ExecuteTime": {
     "end_time": "2021-02-05T03:58:32.357000Z",
     "start_time": "2021-02-05T03:58:32.354000Z"
    }
   },
   "outputs": [],
   "source": [
    "new_feature = 'inf_' + i + '_' + j"
   ]
  },
  {
   "cell_type": "code",
   "execution_count": null,
   "metadata": {
    "ExecuteTime": {
     "end_time": "2021-02-05T03:58:42.128000Z",
     "start_time": "2021-02-05T03:58:34.001000Z"
    }
   },
   "outputs": [],
   "source": [
    "# # 【不运行】做了个计数\n",
    "# df = feature_count(df, [i, j])"
   ]
  },
  {
   "cell_type": "code",
   "execution_count": null,
   "metadata": {},
   "outputs": [],
   "source": [
    "df['ratio_' + j + '_of_' + i] = df[ 'count_' + i + '_' + j] / df['count_' + i]\n",
    "df['ratio_' + i + '_of_' + j] = df['count_' + i + '_' + j] / df['count_' + j]"
   ]
  },
  {
   "cell_type": "code",
   "execution_count": null,
   "metadata": {
    "ExecuteTime": {
     "end_time": "2021-02-04T11:41:25.637000Z",
     "start_time": "2021-02-04T11:41:25.510000Z"
    }
   },
   "outputs": [],
   "source": [
    "df.groupby([i,j],as_index=False)['instance_id'].count()"
   ]
  },
  {
   "cell_type": "code",
   "execution_count": null,
   "metadata": {
    "ExecuteTime": {
     "end_time": "2021-02-04T11:41:45.100000Z",
     "start_time": "2021-02-04T11:41:45.048000Z"
    }
   },
   "outputs": [],
   "source": [
    "# df[ 'count_' + i + '_' + j] / df['count_' + i], 1986/303758\n",
    "df.groupby(i,as_index=False)['instance_id'].count()"
   ]
  },
  {
   "cell_type": "code",
   "execution_count": null,
   "metadata": {
    "ExecuteTime": {
     "end_time": "2021-02-04T11:42:13.600000Z",
     "start_time": "2021-02-04T11:42:13.548000Z"
    }
   },
   "outputs": [],
   "source": [
    "# df['count_' + i + '_' + j] / df['count_' + j],1986/8663\n",
    "df.groupby(j,as_index=False)['instance_id'].count()"
   ]
  },
  {
   "cell_type": "markdown",
   "metadata": {},
   "source": [
    "* -------“媒体特征”与“广告+上下文特征”进行交叉，并计算比例特征，理解，不需要运行----------------"
   ]
  },
  {
   "cell_type": "markdown",
   "metadata": {},
   "source": [
    "* **4.3特征列表组合，新增统计特征和比例特征的字段**"
   ]
  },
  {
   "cell_type": "code",
   "execution_count": null,
   "metadata": {
    "ExecuteTime": {
     "end_time": "2021-02-05T07:39:35.817000Z",
     "start_time": "2021-02-05T07:39:35.806000Z"
    }
   },
   "outputs": [],
   "source": [
    "cate_feature = origin_cate_list\n",
    "num_feature = ['creative_width', 'creative_height', 'hour'] + count_feature_list + ratio_feature_list\n",
    "feature = cate_feature + num_feature\n",
    "print(len(feature), feature)"
   ]
  },
  {
   "cell_type": "markdown",
   "metadata": {},
   "source": [
    "* **4.4低频过滤**"
   ]
  },
  {
   "cell_type": "code",
   "execution_count": null,
   "metadata": {
    "ExecuteTime": {
     "end_time": "2021-02-05T07:39:39.653000Z",
     "start_time": "2021-02-05T07:39:39.283000Z"
    }
   },
   "outputs": [],
   "source": [
    "for feature in cate_feature:\n",
    "    if 'count_' + feature in df.keys(): #它这里不是一个DataFrame了，所以没有columns()属性了；它是一个Table,有keys()属性；\n",
    "        print(feature)\n",
    "        df.loc[df['count_' + feature] < 2, feature] = -1\n",
    "        df[feature] = df[feature] + 1"
   ]
  },
  {
   "cell_type": "markdown",
   "metadata": {},
   "source": [
    "* 把计数值'count_' + feature为1的行数（不管你是那个特征计数值为1，只要出现了1）的这个特征赋值为-1；因为你没啥用；\n",
    "* 最后把这个特征值在原有基础上再加1；原---原+1；-1-----0."
   ]
  },
  {
   "cell_type": "markdown",
   "metadata": {},
   "source": [
    "* **4.5构建训练和测试集**"
   ]
  },
  {
   "cell_type": "code",
   "execution_count": null,
   "metadata": {
    "ExecuteTime": {
     "end_time": "2021-02-05T07:39:42.539000Z",
     "start_time": "2021-02-05T07:39:42.449000Z"
    }
   },
   "outputs": [],
   "source": [
    "label = list(click) + [-1]* (len(df) - len(click))"
   ]
  },
  {
   "cell_type": "code",
   "execution_count": null,
   "metadata": {
    "ExecuteTime": {
     "end_time": "2021-02-05T07:39:45.938000Z",
     "start_time": "2021-02-05T07:39:43.812000Z"
    }
   },
   "outputs": [],
   "source": [
    "df['label'] = label"
   ]
  },
  {
   "cell_type": "code",
   "execution_count": null,
   "metadata": {
    "ExecuteTime": {
     "end_time": "2021-02-05T07:39:47.229000Z",
     "start_time": "2021-02-05T07:39:47.171000Z"
    }
   },
   "outputs": [],
   "source": [
    "# 测试集数据\n",
    "predict = df[df.label == -1]"
   ]
  },
  {
   "cell_type": "code",
   "execution_count": null,
   "metadata": {
    "ExecuteTime": {
     "end_time": "2021-02-05T07:39:49.407000Z",
     "start_time": "2021-02-05T07:39:49.392000Z"
    }
   },
   "outputs": [],
   "source": [
    "#建立一个df,名为predict_result，它现在只有一列，就是上面predict的instance_id列。\n",
    "predict_result = predict[['instance_id']]\n",
    "\n",
    "#给predict_result添加一列，列名为'predicted_score'，并初始化为0.\n",
    "predict_result['predicted_score'] = 0"
   ]
  },
  {
   "cell_type": "code",
   "execution_count": null,
   "metadata": {
    "ExecuteTime": {
     "end_time": "2021-02-05T07:39:53.121000Z",
     "start_time": "2021-02-05T07:39:50.840000Z"
    }
   },
   "outputs": [],
   "source": [
    "##建立一个df,名为predict_x，它就是上面predict去掉'label'列之后的结果，也就是特征向量集。\n",
    "predict_x = predict.drop('label', axis=1)\n",
    "#建立训练集_x,而且里面全是正例样本。drop=True一定要写，意为返回一个DataFrame.\n",
    "train_x = df[df.label != -1].reset_index(drop=True)\n",
    "#pop()的功能就是删除并返回所删除的内容。将之传给训练集_y.\n",
    "train_y = train_x.pop('label').values"
   ]
  },
  {
   "cell_type": "code",
   "execution_count": null,
   "metadata": {
    "ExecuteTime": {
     "end_time": "2021-02-05T07:39:54.503000Z",
     "start_time": "2021-02-05T07:39:54.493000Z"
    }
   },
   "outputs": [],
   "source": [
    "train_x.shape"
   ]
  },
  {
   "cell_type": "code",
   "execution_count": null,
   "metadata": {
    "ExecuteTime": {
     "end_time": "2021-02-05T07:39:56.904000Z",
     "start_time": "2021-02-05T07:39:56.895000Z"
    }
   },
   "outputs": [],
   "source": [
    "predict_x.shape"
   ]
  },
  {
   "cell_type": "code",
   "execution_count": null,
   "metadata": {
    "ExecuteTime": {
     "end_time": "2021-02-05T07:39:57.485000Z",
     "start_time": "2021-02-05T07:39:57.483000Z"
    }
   },
   "outputs": [],
   "source": [
    "# t = []\n",
    "# for i in cate_feature:\n",
    "#     t.append(len(set(train_x[i])))"
   ]
  },
  {
   "cell_type": "markdown",
   "metadata": {},
   "source": [
    "* **4.6稀疏矩阵建立**"
   ]
  },
  {
   "cell_type": "markdown",
   "metadata": {},
   "source": [
    "![企业微信截图_16125154901209.png](https://i.loli.net/2021/02/05/Qvl1KOGtRW3hqLo.png)"
   ]
  },
  {
   "cell_type": "markdown",
   "metadata": {},
   "source": [
    "* **稀疏矩阵的好处**\n",
    "* 1. 压缩矩阵对象的内存空间\n",
    "* 2. 加速多数机器学习程序"
   ]
  },
  {
   "cell_type": "code",
   "execution_count": null,
   "metadata": {
    "ExecuteTime": {
     "end_time": "2021-02-05T07:40:00.321000Z",
     "start_time": "2021-02-05T07:40:00.313000Z"
    }
   },
   "outputs": [],
   "source": [
    "#训练集_x压缩稀疏矩阵基\n",
    "base_train_csr = sparse.csr_matrix((len(train_x), 0))"
   ]
  },
  {
   "cell_type": "code",
   "execution_count": null,
   "metadata": {
    "ExecuteTime": {
     "end_time": "2021-02-05T07:40:01.199000Z",
     "start_time": "2021-02-05T07:40:01.191000Z"
    }
   },
   "outputs": [],
   "source": [
    "#预测集_x压缩稀疏矩阵基\n",
    "base_predict_csr = sparse.csr_matrix((len(predict_x), 0))"
   ]
  },
  {
   "cell_type": "markdown",
   "metadata": {},
   "source": [
    "* **4.7 one-hotencode**"
   ]
  },
  {
   "cell_type": "code",
   "execution_count": null,
   "metadata": {
    "ExecuteTime": {
     "end_time": "2021-02-05T07:40:17.597000Z",
     "start_time": "2021-02-05T07:40:05.506000Z"
    }
   },
   "outputs": [],
   "source": [
    "#这个 sparse.hstack(, 'csr', 'bool')非常必要，代表粗细粒度。 以后再使用hstack的时候，\n",
    "#要从粗粒度往细粒度加，如bool->int32->float32->float64,，要不然细粒度的特征就会被压缩，信息损失很多，\n",
    "enc = OneHotEncoder()\n",
    "for feature in cate_feature:\n",
    "    # 训练onehotencoder\n",
    "    enc.fit(df[feature].values.reshape(-1, 1))\n",
    "    base_train_csr = sparse.hstack((base_train_csr, enc.transform(train_x[feature].values.reshape(-1, 1))), 'csr', 'bool')\n",
    "    base_predict_csr = sparse.hstack((base_predict_csr, enc.transform(predict_x[feature].values.reshape(-1, 1))), 'csr', 'bool')\n",
    "print('one-hot prepared !')"
   ]
  },
  {
   "cell_type": "code",
   "execution_count": null,
   "metadata": {
    "ExecuteTime": {
     "end_time": "2021-02-05T07:40:29.636000Z",
     "start_time": "2021-02-05T07:40:29.625000Z"
    }
   },
   "outputs": [],
   "source": [
    "base_train_csr.shape"
   ]
  },
  {
   "cell_type": "code",
   "execution_count": null,
   "metadata": {
    "ExecuteTime": {
     "end_time": "2021-02-05T07:40:29.884000Z",
     "start_time": "2021-02-05T07:40:29.879000Z"
    }
   },
   "outputs": [],
   "source": [
    "base_predict_csr.shape"
   ]
  },
  {
   "cell_type": "markdown",
   "metadata": {},
   "source": [
    "* ------------讲解hstack，不执行-----------------\n",
    "* 将矩阵按照列进行拼接"
   ]
  },
  {
   "cell_type": "code",
   "execution_count": null,
   "metadata": {
    "ExecuteTime": {
     "end_time": "2021-02-05T07:40:30.910000Z",
     "start_time": "2021-02-05T07:40:30.903000Z"
    }
   },
   "outputs": [],
   "source": [
    "from scipy.sparse import coo_matrix, hstack\n",
    "A = coo_matrix([[1, 2], [3, 4]])\n",
    "B = coo_matrix([[5,7], [6,8]])"
   ]
  },
  {
   "cell_type": "code",
   "execution_count": null,
   "metadata": {
    "ExecuteTime": {
     "end_time": "2021-02-05T07:07:16.316000Z",
     "start_time": "2021-02-05T07:07:16.306000Z"
    }
   },
   "outputs": [],
   "source": [
    "A.toarray()"
   ]
  },
  {
   "cell_type": "code",
   "execution_count": null,
   "metadata": {
    "ExecuteTime": {
     "end_time": "2021-02-05T07:07:16.807000Z",
     "start_time": "2021-02-05T07:07:16.804000Z"
    }
   },
   "outputs": [],
   "source": [
    "B.toarray()"
   ]
  },
  {
   "cell_type": "code",
   "execution_count": null,
   "metadata": {
    "ExecuteTime": {
     "end_time": "2021-02-05T07:07:17.373000Z",
     "start_time": "2021-02-05T07:07:17.362000Z"
    }
   },
   "outputs": [],
   "source": [
    "hstack([A,B]).toarray()"
   ]
  },
  {
   "cell_type": "markdown",
   "metadata": {},
   "source": [
    "* ------------讲解hstack，不执行-----------------"
   ]
  },
  {
   "cell_type": "markdown",
   "metadata": {},
   "source": [
    "* **4.8、user_tags特征**"
   ]
  },
  {
   "cell_type": "code",
   "execution_count": null,
   "metadata": {
    "ExecuteTime": {
     "end_time": "2021-02-05T07:41:21.950000Z",
     "start_time": "2021-02-05T07:40:47.250000Z"
    }
   },
   "outputs": [],
   "source": [
    "#建一个文本特征提取器\n",
    "cv = CountVectorizer(min_df=20)\n",
    "#对于特征'user_tags'，仅这一条，嗯哼，你没看错；对其进行文本特征提取并且跟之前的矩阵基进行水平方向上的合并。\n",
    "#.astype(str)非常有必要，因为可能它原来是obj类型，不管它以前是啥，反正这样肯定不会错。\n",
    "for feature in ['user_tags']:\n",
    "    df[feature] = df[feature].astype(str)\n",
    "    cv.fit(df[feature])\n",
    "    base_train_csr = sparse.hstack((base_train_csr, cv.transform(train_x[feature].astype(str))), 'csr', 'bool')\n",
    "    base_predict_csr = sparse.hstack((base_predict_csr, cv.transform(predict_x[feature].astype(str))), 'csr', 'bool')\n",
    "print('cv prepared !')"
   ]
  },
  {
   "cell_type": "code",
   "execution_count": null,
   "metadata": {
    "ExecuteTime": {
     "end_time": "2021-02-05T07:41:33.272000Z",
     "start_time": "2021-02-05T07:41:33.266000Z"
    }
   },
   "outputs": [],
   "source": [
    "# min_df = 20表示“忽略少于20个文档中出现的术语”.\n",
    "cv = CountVectorizer(min_df=20)"
   ]
  },
  {
   "cell_type": "code",
   "execution_count": null,
   "metadata": {
    "ExecuteTime": {
     "end_time": "2021-02-05T07:41:33.825000Z",
     "start_time": "2021-02-05T07:41:33.822000Z"
    }
   },
   "outputs": [],
   "source": [
    "base_train_csr.shape"
   ]
  },
  {
   "cell_type": "code",
   "execution_count": null,
   "metadata": {
    "ExecuteTime": {
     "end_time": "2021-02-05T07:41:35.098000Z",
     "start_time": "2021-02-05T07:41:35.087000Z"
    }
   },
   "outputs": [],
   "source": [
    "base_predict_csr.shape"
   ]
  },
  {
   "cell_type": "code",
   "execution_count": null,
   "metadata": {
    "ExecuteTime": {
     "end_time": "2021-02-05T08:32:14.542000Z",
     "start_time": "2021-02-05T08:32:14.338000Z"
    }
   },
   "outputs": [],
   "source": [
    "# 单个对象的内存大小，单位是Byte,转换为MB\n",
    "sys.getsizeof(train_x)/1024/1024"
   ]
  },
  {
   "cell_type": "code",
   "execution_count": null,
   "metadata": {
    "ExecuteTime": {
     "end_time": "2021-02-05T08:30:08.815000Z",
     "start_time": "2021-02-05T08:30:08.805000Z"
    }
   },
   "outputs": [],
   "source": [
    "# 单个对象的内存大小，单位是Byte\n",
    "sys.getsizeof(base_train_csr)"
   ]
  },
  {
   "cell_type": "markdown",
   "metadata": {},
   "source": [
    "* **特征选择**"
   ]
  },
  {
   "cell_type": "code",
   "execution_count": null,
   "metadata": {
    "ExecuteTime": {
     "end_time": "2021-02-05T07:41:36.190000Z",
     "start_time": "2021-02-05T07:41:35.879000Z"
    }
   },
   "outputs": [],
   "source": [
    "from sklearn.feature_selection import SelectKBest,SelectPercentile\n",
    "from sklearn.feature_selection import chi2"
   ]
  },
  {
   "cell_type": "code",
   "execution_count": null,
   "metadata": {
    "ExecuteTime": {
     "end_time": "2021-02-05T07:27:04.990000Z",
     "start_time": "2021-02-05T07:27:04.934000Z"
    }
   },
   "outputs": [],
   "source": [
    "# 运行太久了\n",
    "# SelectKBest(chi2, percentile=10).fit_transform(train_x, train_y)"
   ]
  },
  {
   "cell_type": "code",
   "execution_count": null,
   "metadata": {
    "ExecuteTime": {
     "end_time": "2021-02-05T07:42:36.842000Z",
     "start_time": "2021-02-05T07:42:36.837000Z"
    }
   },
   "outputs": [],
   "source": [
    "from sklearn.feature_selection import VarianceThreshold"
   ]
  },
  {
   "cell_type": "code",
   "execution_count": null,
   "metadata": {
    "ExecuteTime": {
     "end_time": "2021-02-05T07:45:24.393000Z",
     "start_time": "2021-02-05T07:45:24.389000Z"
    }
   },
   "outputs": [],
   "source": [
    "sel_var = VarianceThreshold(threshold=0.001)"
   ]
  },
  {
   "cell_type": "code",
   "execution_count": null,
   "metadata": {
    "ExecuteTime": {
     "end_time": "2021-02-05T07:45:25.120000Z",
     "start_time": "2021-02-05T07:45:24.579000Z"
    }
   },
   "outputs": [],
   "source": [
    "sel_var.fit(base_train_csr)"
   ]
  },
  {
   "cell_type": "code",
   "execution_count": null,
   "metadata": {
    "ExecuteTime": {
     "end_time": "2021-02-05T07:45:39.400000Z",
     "start_time": "2021-02-05T07:45:39.207000Z"
    }
   },
   "outputs": [],
   "source": [
    "base_train_csr = sel_var.transform(base_train_csr)"
   ]
  },
  {
   "cell_type": "code",
   "execution_count": null,
   "metadata": {
    "ExecuteTime": {
     "end_time": "2021-02-05T07:45:39.502000Z",
     "start_time": "2021-02-05T07:45:39.491000Z"
    }
   },
   "outputs": [],
   "source": [
    "base_predict_csr = sel_var.transform(base_predict_csr)"
   ]
  },
  {
   "cell_type": "markdown",
   "metadata": {},
   "source": [
    "* **4.9、稀疏矩阵从bool转换成float**"
   ]
  },
  {
   "cell_type": "code",
   "execution_count": null,
   "metadata": {
    "ExecuteTime": {
     "end_time": "2021-02-05T07:48:05.468000Z",
     "start_time": "2021-02-05T07:45:45.371000Z"
    }
   },
   "outputs": [],
   "source": [
    "#训练集，预测集压缩稀疏矩阵版本；\n",
    "#将数字特征列表num_feature跟之前的矩阵基进行水平方向上的合并。\n",
    "train_csr = sparse.hstack( (sparse.csr_matrix(train_x[num_feature]), base_train_csr), 'csr').astype('float32')\n",
    "predict_csr = sparse.hstack((sparse.csr_matrix(predict_x[num_feature]), base_predict_csr), 'csr').astype('float32')"
   ]
  },
  {
   "cell_type": "code",
   "execution_count": null,
   "metadata": {
    "ExecuteTime": {
     "end_time": "2021-02-05T08:31:00.277000Z",
     "start_time": "2021-02-05T08:31:00.270000Z"
    }
   },
   "outputs": [],
   "source": [
    "sys.getsizeof(train_csr)"
   ]
  },
  {
   "cell_type": "markdown",
   "metadata": {},
   "source": [
    "#### 5、构建模型及交叉验证"
   ]
  },
  {
   "cell_type": "code",
   "execution_count": null,
   "metadata": {
    "ExecuteTime": {
     "end_time": "2021-02-05T08:01:17.927000Z",
     "start_time": "2021-02-05T08:01:17.847000Z"
    }
   },
   "outputs": [],
   "source": [
    "#建立一个lgb_model，LGBM分类器。\n",
    "lgb_model = lgb.LGBMClassifier(\n",
    "    boosting_type='gbdt', num_leaves=61, reg_alpha=3, reg_lambda=1,\n",
    "    max_depth=-1, n_estimators=5000, objective='binary',\n",
    "    subsample=0.8, colsample_bytree=0.8, subsample_freq=1,\n",
    "    learning_rate=0.035, random_state=2018, n_jobs=10\n",
    ")\n",
    "#建立一个分层K折采样器。为5折。\n",
    "skf = StratifiedKFold(n_splits=5, random_state=2018, shuffle=True)"
   ]
  },
  {
   "cell_type": "markdown",
   "metadata": {},
   "source": [
    "* **5.1、模型训练及评估**  \n",
    "verbose=10 相当于打印训练的一些情况"
   ]
  },
  {
   "cell_type": "code",
   "execution_count": null,
   "metadata": {
    "ExecuteTime": {
     "end_time": "2021-02-05T08:28:32.424000Z",
     "start_time": "2021-02-05T08:01:23.854000Z"
    }
   },
   "outputs": [],
   "source": [
    "# 运行约27分钟\n",
    "best_score = []\n",
    "for index, (train_index, test_index) in enumerate(skf.split(train_csr, train_y)):\n",
    "    lgb_model.fit(train_csr[train_index], train_y[train_index],\n",
    "                  eval_set=[(train_csr[train_index], train_y[train_index]),\n",
    "                            (train_csr[test_index], train_y[test_index])], early_stopping_rounds=200, verbose=10)\n",
    "    best_score.append(lgb_model.best_score_['valid_1']['binary_logloss'])\n",
    "    print(best_score)\n",
    "    #如果在训练期间启用了早期停止，可以通过best_iteration方式从最佳迭代中获得预测\n",
    "    test_pred = lgb_model.predict_proba(predict_csr, num_iteration=lgb_model.best_iteration_)[:, 1]\n",
    "    predict_result['predicted_score'] = predict_result['predicted_score'] + test_pred\n",
    "predict_result['predicted_score'] = predict_result['predicted_score'] / 5\n",
    "mean = predict_result['predicted_score'].mean()\n",
    "print('mean:', mean)"
   ]
  },
  {
   "cell_type": "markdown",
   "metadata": {},
   "source": [
    "* **5.2、模型保存**"
   ]
  },
  {
   "cell_type": "code",
   "execution_count": null,
   "metadata": {
    "ExecuteTime": {
     "end_time": "2021-02-05T08:34:22.961000Z",
     "start_time": "2021-02-05T08:34:22.957000Z"
    }
   },
   "outputs": [],
   "source": [
    "import pickle"
   ]
  },
  {
   "cell_type": "code",
   "execution_count": null,
   "metadata": {
    "ExecuteTime": {
     "end_time": "2021-02-05T08:34:39.616000Z",
     "start_time": "2021-02-05T08:34:39.603000Z"
    }
   },
   "outputs": [],
   "source": [
    "lgb_model"
   ]
  },
  {
   "cell_type": "code",
   "execution_count": null,
   "metadata": {
    "ExecuteTime": {
     "end_time": "2021-02-05T08:35:19.022000Z",
     "start_time": "2021-02-05T08:35:18.841000Z"
    }
   },
   "outputs": [],
   "source": [
    "#保存Model(注:save文件夹要预先建立，否则会报错)\n",
    "with open('lgb.pickle', 'wb') as f:\n",
    "    pickle.dump(lgb_model, f)"
   ]
  },
  {
   "cell_type": "code",
   "execution_count": null,
   "metadata": {
    "ExecuteTime": {
     "end_time": "2021-02-05T08:35:46.734000Z",
     "start_time": "2021-02-05T08:35:46.661000Z"
    }
   },
   "outputs": [],
   "source": [
    "#读取Model\n",
    "with open('lgb.pickle', 'rb') as f:\n",
    "    lgb_model2 = pickle.load(f)"
   ]
  },
  {
   "cell_type": "code",
   "execution_count": null,
   "metadata": {
    "ExecuteTime": {
     "end_time": "2021-02-05T08:37:22.136000Z",
     "start_time": "2021-02-05T08:36:57.491000Z"
    }
   },
   "outputs": [],
   "source": [
    "# 预测\n",
    "y_p = lgb_model2.predict(train_csr)"
   ]
  },
  {
   "cell_type": "code",
   "execution_count": null,
   "metadata": {
    "ExecuteTime": {
     "end_time": "2021-02-05T08:48:45.205000Z",
     "start_time": "2021-02-05T08:48:45.198000Z"
    }
   },
   "outputs": [],
   "source": [
    "from sklearn.metrics import log_loss"
   ]
  },
  {
   "cell_type": "code",
   "execution_count": null,
   "metadata": {
    "ExecuteTime": {
     "end_time": "2021-02-05T08:48:21.199000Z",
     "start_time": "2021-02-05T08:47:55.723000Z"
    }
   },
   "outputs": [],
   "source": [
    "# 预测概率\n",
    "y_pro = lgb_model2.predict_proba(train_csr)"
   ]
  },
  {
   "cell_type": "code",
   "execution_count": null,
   "metadata": {
    "ExecuteTime": {
     "end_time": "2021-02-05T08:55:23.760000Z",
     "start_time": "2021-02-05T08:55:23.495000Z"
    }
   },
   "outputs": [],
   "source": [
    "# 对数损失\n",
    "log_loss(train_y,y_pro)"
   ]
  }
 ],
 "metadata": {
  "kernelspec": {
   "display_name": "Python 3",
   "language": "python",
   "name": "python3"
  },
  "language_info": {
   "codemirror_mode": {
    "name": "ipython",
    "version": 3
   },
   "file_extension": ".py",
   "mimetype": "text/x-python",
   "name": "python",
   "nbconvert_exporter": "python",
   "pygments_lexer": "ipython3",
   "version": "3.8.5"
  },
  "toc": {
   "base_numbering": 1,
   "nav_menu": {},
   "number_sections": true,
   "sideBar": true,
   "skip_h1_title": false,
   "title_cell": "Table of Contents",
   "title_sidebar": "Contents",
   "toc_cell": false,
   "toc_position": {
    "height": "calc(100% - 180px)",
    "left": "10px",
    "top": "150px",
    "width": "157.083px"
   },
   "toc_section_display": true,
   "toc_window_display": true
  },
  "varInspector": {
   "cols": {
    "lenName": 16,
    "lenType": 16,
    "lenVar": 40
   },
   "kernels_config": {
    "python": {
     "delete_cmd_postfix": "",
     "delete_cmd_prefix": "del ",
     "library": "var_list.py",
     "varRefreshCmd": "print(var_dic_list())"
    },
    "r": {
     "delete_cmd_postfix": ") ",
     "delete_cmd_prefix": "rm(",
     "library": "var_list.r",
     "varRefreshCmd": "cat(var_dic_list()) "
    }
   },
   "types_to_exclude": [
    "module",
    "function",
    "builtin_function_or_method",
    "instance",
    "_Feature"
   ],
   "window_display": false
  }
 },
 "nbformat": 4,
 "nbformat_minor": 2
}
