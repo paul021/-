{
 "cells": [
  {
   "cell_type": "code",
   "execution_count": 9,
   "metadata": {},
   "outputs": [],
   "source": [
    "import pandas as pd\n",
    "from sklearn.model_selection import train_test_split\n",
    "from sklearn.linear_model import LogisticRegression"
   ]
  },
  {
   "cell_type": "code",
   "execution_count": 3,
   "metadata": {},
   "outputs": [],
   "source": [
    "answer_data = pd.read_csv('./my_model_stacking.csv')\n",
    "X_train_2,X_test_2,y_train_2,y_test_2 = train_test_split(answer_data,y_test,test_size=0.2)"
   ]
  },
  {
   "cell_type": "code",
   "execution_count": 8,
   "metadata": {},
   "outputs": [],
   "source": [
    "auc_all = []     #存储所有的auc分数\n",
    "probability_all = [] # 存储所有的预测概率结果\n",
    "for i in range(10):\n",
    "    rus = RandomUnderSampler()\n",
    "    X,y = rus.fit_resample(X_train_2 ,y_train_2)\n",
    "    lr = LogisticRegression().fit(X,y)\n",
    "    y_pred_2 = lr.predict(X_test_2)\n",
    "    probability_all.append(y_pred_2)\n",
    "    #sum_y_pred.append(y_pred)\n",
    "    # 计算AUC  fpr:负正类率  tpr:真正类率\n",
    "    fpr,tpr,threshold = roc_curve(y_test_2, y_pred_2)\n",
    "    auc_all.append(auc(fpr,tpr))"
   ]
  },
  {
   "cell_type": "code",
   "execution_count": null,
   "metadata": {},
   "outputs": [],
   "source": [
    "def ying_toupiao(probability_all):\n",
    "    ans = []\n",
    "    for i in range(len(probability_all[0])):\n",
    "        sum_0,sum_1 = 0,0\n",
    "        for j in range(len(probability_all)):\n",
    "            if probability_all[j][i] == 0:\n",
    "                sum_0 += 1\n",
    "            else :\n",
    "                sum_1 += 1\n",
    "        if sum_0 < sum_1:\n",
    "            ans.append(1)\n",
    "        else:\n",
    "            ans.append(0)\n",
    "    fpr,tpr,threshold = roc_curve(y_test, ans)\n",
    "    \n",
    "    print('数据的AUC为:',auc(fpr,tpr))\n",
    "    print('数据的准确率为：',accuracy_score(y_test,ans))\n",
    "    print('数据的精确率为：',precision_score(y_test,ans))\n",
    "    print('数据的召回率为：',recall_score(y_test,ans))\n",
    "    print('数据的F1值为：',f1_score(y_test,ans))\n",
    "    print('数据的Cohen’s Kappa系数为：',cohen_kappa_score(y_test,ans))\n",
    "    print('Counter:',Counter(ans))\n",
    "    return ans"
   ]
  },
  {
   "cell_type": "code",
   "execution_count": null,
   "metadata": {},
   "outputs": [],
   "source": [
    "all_answer = []\n",
    "for i in answer_data_columns:\n",
    "    all_answer.append(list(answer_data[i]))"
   ]
  },
  {
   "cell_type": "code",
   "execution_count": null,
   "metadata": {},
   "outputs": [],
   "source": []
  },
  {
   "cell_type": "code",
   "execution_count": null,
   "metadata": {},
   "outputs": [],
   "source": []
  }
 ],
 "metadata": {
  "kernelspec": {
   "display_name": "Python 3",
   "language": "python",
   "name": "python3"
  },
  "language_info": {
   "codemirror_mode": {
    "name": "ipython",
    "version": 3
   },
   "file_extension": ".py",
   "mimetype": "text/x-python",
   "name": "python",
   "nbconvert_exporter": "python",
   "pygments_lexer": "ipython3",
   "version": "3.8.5"
  },
  "toc": {
   "base_numbering": 1,
   "nav_menu": {},
   "number_sections": true,
   "sideBar": true,
   "skip_h1_title": false,
   "title_cell": "Table of Contents",
   "title_sidebar": "Contents",
   "toc_cell": false,
   "toc_position": {},
   "toc_section_display": true,
   "toc_window_display": false
  },
  "varInspector": {
   "cols": {
    "lenName": 16,
    "lenType": 16,
    "lenVar": 40
   },
   "kernels_config": {
    "python": {
     "delete_cmd_postfix": "",
     "delete_cmd_prefix": "del ",
     "library": "var_list.py",
     "varRefreshCmd": "print(var_dic_list())"
    },
    "r": {
     "delete_cmd_postfix": ") ",
     "delete_cmd_prefix": "rm(",
     "library": "var_list.r",
     "varRefreshCmd": "cat(var_dic_list()) "
    }
   },
   "types_to_exclude": [
    "module",
    "function",
    "builtin_function_or_method",
    "instance",
    "_Feature"
   ],
   "window_display": false
  }
 },
 "nbformat": 4,
 "nbformat_minor": 4
}
