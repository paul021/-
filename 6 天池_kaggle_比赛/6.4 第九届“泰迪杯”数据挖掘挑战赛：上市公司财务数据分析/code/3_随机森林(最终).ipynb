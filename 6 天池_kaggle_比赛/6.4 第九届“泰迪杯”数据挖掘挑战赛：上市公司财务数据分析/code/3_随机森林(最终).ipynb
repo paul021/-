{
 "cells": [
  {
   "cell_type": "code",
   "execution_count": 5,
   "metadata": {},
   "outputs": [],
   "source": [
    "import pandas as pd\n",
    "import numpy as np\n",
    "\n",
    "from imblearn.under_sampling import RandomUnderSampler #欠采样\n",
    "from imblearn.over_sampling import RandomOverSampler #过采样\n",
    "from imblearn.over_sampling import SMOTE\n",
    "\n",
    "#ROC_AUC\n",
    "from sklearn.metrics import roc_curve,auc\n",
    "\n",
    "# 数据集的划分\n",
    "from sklearn.model_selection import train_test_split\n",
    "\n",
    "#随机森林\n",
    "from sklearn.ensemble import RandomForestClassifier\n",
    "from sklearn.model_selection import GridSearchCV\n",
    "\n",
    "#评价指标\n",
    "from sklearn.metrics import accuracy_score,precision_score, \\\n",
    "recall_score,f1_score,cohen_kappa_score\n",
    "\n",
    "#警告去除\n",
    "import warnings\n",
    "warnings.filterwarnings('ignore')"
   ]
  },
  {
   "cell_type": "code",
   "execution_count": 6,
   "metadata": {},
   "outputs": [],
   "source": [
    "# over：过采样；smote：SMOTE采样（过采样的一种）；under：欠采样；\n",
    "def ods(data, method):\n",
    "    data1 = data.drop([ 'FLAG'], axis=1) \n",
    "    label = data['FLAG']\n",
    "    if method == 'over':\n",
    "        #ros = RandomOverSampler(random_state=2021)\n",
    "        ros = RandomOverSampler()\n",
    "        x_train, y_label = ros.fit_resample(data1 , label)\n",
    "    elif method == 'under':\n",
    "        rus = RandomUnderSampler()\n",
    "        x_train, y_label = rus.fit_resample(data1 , label)\n",
    "    elif method == 'smote':\n",
    "        smote = SMOTE()\n",
    "        x_train, y_label = smote.fit_resample(data1 , label)\n",
    "    else:\n",
    "        print(\"输入格式错误！！！\")\n",
    "    \n",
    "    return x_train, y_label"
   ]
  },
  {
   "cell_type": "code",
   "execution_count": 7,
   "metadata": {},
   "outputs": [],
   "source": [
    "## 输入：train_X是训练集、trian_y是训练集标签、test_x是验证集、test_y是验证集标签、test是测试集、\n",
    "## 输出：训练集的n折交叉平均分、预测验证集的类别、预测验证集的分数、预测测试集的概率、\n",
    "\n",
    "def tree_train(train_x,train_y,test_x,test_y,test):\n",
    "    #这里可以添加参数进行调参\n",
    "    parameters ={}\n",
    "    #模型的实例化\n",
    "    rf = RandomForestClassifier()\n",
    "    #模型+参数+指标+n交叉次数\n",
    "    clf_rf = GridSearchCV(rf,parameters,scoring='roc_auc',cv=3)\n",
    "    #模型的训练\n",
    "    clf_rf.fit(train_x,train_y)\n",
    "    #n折交叉验证的平均成绩\n",
    "    grade1 = clf_rf.cv_results_['mean_test_score']\n",
    "    \n",
    "    #预测验证集\n",
    "    predict_type1 = clf_rf.predict(test_x)\n",
    "    predict_type2 = clf_rf.predict_proba(test_x)\n",
    "    fpr_X,tpr_Y,threshold = roc_curve(test_y, predict_type1)\n",
    "    grade2 = auc(fpr_X,tpr_Y)\n",
    "    \n",
    "    #预测测试集\n",
    "    predict_probable = clf_rf.predict_proba(test)\n",
    "    \n",
    "    #返回训练集的n折交叉平均分、预测验证集的类别、预测验证集的概率、预测验证集的分数、预测测试集的概率、\n",
    "    return  grade1, predict_type1, predict_type2, grade2, predict_probable"
   ]
  },
  {
   "cell_type": "code",
   "execution_count": 8,
   "metadata": {},
   "outputs": [],
   "source": [
    "def train_function(train_x,train_y,test_x,test_y,test,n,rate):\n",
    "    ##概率矩阵\n",
    "    predict_test_x = np.array([[0,0] for i in range(len(test_x))])\n",
    "    predict_test = np.array([[0,0] for i in range(len(test))])\n",
    "\n",
    "    data = pd.concat([train_x,train_y],axis=1)\n",
    "\n",
    "    #训练集的n折交叉平均分\n",
    "    score1 = []\n",
    "    #预测验证集的分数\n",
    "    score2 = []\n",
    "\n",
    "    for i in range(n):\n",
    "        #这里是欠采样，X是训练集、Y是训练集标签\n",
    "        X,Y = ods(data,'under')\n",
    "\n",
    "        #训练集的n折交叉平均分、预测验证集的类别、预测验证集的概率、预测验证集的分数、预测测试集的概率、\n",
    "        grade1, predict_type1, predict_type2, grade2, predict_probable = tree_train(X,Y,test_x,test_y,test)\n",
    "#         grade1, predict_type1, predict_type2, grade2, predict_probable = tree_train(train_x,train_y,test_x,test_y,test)\n",
    "\n",
    "        score1.append(grade1)\n",
    "        score2.append(grade2)\n",
    "\n",
    "        #可以不选、选grade1、选grade2(理论上)\n",
    "        predict_test_x = predict_test_x + np.array(predict_type2)*grade2\n",
    "        predict_test = predict_test + np.array(predict_probable)*grade2\n",
    "\n",
    "    #将验证集概率矩阵变为类别\n",
    "    result1 = []\n",
    "    predict_test_x = predict_test_x/n\n",
    "    for i in predict_test_x:\n",
    "        if i[0] > (i[0]+i[1])*rate:\n",
    "            result1.append(0)\n",
    "        else:\n",
    "            result1.append(1)\n",
    "    fpr_X,tpr_Y,threshold = roc_curve(test_y, result1)\n",
    "    print('验证集数据的AUC分数：',auc(fpr_X,tpr_Y))\n",
    "\n",
    "    #测试集概率变类别\n",
    "    result2 = []\n",
    "    predict_test = predict_test/n\n",
    "    for i in predict_probable:\n",
    "        if i[0] > (i[0]+i[1])*rate:\n",
    "            result2.append(0)\n",
    "        else:\n",
    "            result2.append(1)\n",
    "    #返回基模型的交叉认证分数、验证集分数、测试集的测试结果\n",
    "    return score1, score2, result2"
   ]
  },
  {
   "cell_type": "code",
   "execution_count": 9,
   "metadata": {},
   "outputs": [],
   "source": [
    "##获取数据\n",
    "train1 = pd.read_csv('./new_data/随机森林/1_data_制造业_13131_56.csv').drop(['industry','REPORT_TYPE','ACCOUTING_STANDARDS','CURRENCY_CD'],axis=1)\n",
    "train2 = train1[train1['FLAG']!=-1]\n",
    "train = train2.drop(['FLAG'],axis=1)\n",
    "label = pd.DataFrame(train2['FLAG'])\n",
    "#特征选择\n",
    "\n",
    "# #数据标准化 -- 理论上不需要的呀\n",
    "# from sklearn.preprocessing import StandardScaler\n",
    "# scaler = StandardScaler()\n",
    "# train = pd.DataFrame(scaler.fit_transform(train))\n",
    "\n",
    "#划分训练集和验证集\n",
    "train_x,test_x,train_y,test_y = train_test_split(train,label,test_size=0.2,random_state = 2021)"
   ]
  },
  {
   "cell_type": "code",
   "execution_count": 11,
   "metadata": {},
   "outputs": [
    {
     "name": "stdout",
     "output_type": "stream",
     "text": [
      "验证集数据的AUC分数： 0.750836911432938\n"
     ]
    }
   ],
   "source": [
    "#定了欠采样的随机种子\n",
    "a,b,c = train_function(train_x,train_y,test_x,test_y,train1[train1['FLAG']==-1].drop(['FLAG'],axis=1),1000,0.43)"
   ]
  },
  {
   "cell_type": "code",
   "execution_count": 12,
   "metadata": {},
   "outputs": [],
   "source": [
    "pd.DataFrame(c).to_csv('./part2/随机森林(制造业).csv')"
   ]
  },
  {
   "cell_type": "code",
   "execution_count": null,
   "metadata": {},
   "outputs": [],
   "source": []
  }
 ],
 "metadata": {
  "kernelspec": {
   "display_name": "Python 3",
   "language": "python",
   "name": "python3"
  },
  "language_info": {
   "codemirror_mode": {
    "name": "ipython",
    "version": 3
   },
   "file_extension": ".py",
   "mimetype": "text/x-python",
   "name": "python",
   "nbconvert_exporter": "python",
   "pygments_lexer": "ipython3",
   "version": "3.8.5"
  }
 },
 "nbformat": 4,
 "nbformat_minor": 4
}
