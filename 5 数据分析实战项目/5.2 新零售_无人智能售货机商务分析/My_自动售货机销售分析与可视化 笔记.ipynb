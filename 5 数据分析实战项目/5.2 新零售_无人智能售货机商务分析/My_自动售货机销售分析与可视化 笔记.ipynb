{
 "cells": [
  {
   "cell_type": "code",
   "execution_count": 1,
   "metadata": {},
   "outputs": [],
   "source": [
    "import warnings\n",
    "warnings.filterwarnings('ignore')"
   ]
  },
  {
   "cell_type": "markdown",
   "metadata": {},
   "source": [
    "warnings模块中定义的warn()函数来发出警告。我们可以通过警告过滤器进行控制是否发出警告消息[强迫症哈哈]"
   ]
  },
  {
   "cell_type": "code",
   "execution_count": 2,
   "metadata": {},
   "outputs": [],
   "source": [
    "import pandas as pd\n",
    "import numpy as np\n",
    "import matplotlib.pyplot as plt\n",
    "import re\n",
    "import os"
   ]
  },
  {
   "cell_type": "markdown",
   "metadata": {},
   "source": [
    "#  1. 数据探索"
   ]
  },
  {
   "cell_type": "markdown",
   "metadata": {},
   "source": [
    "## 读取数据"
   ]
  },
  {
   "cell_type": "code",
   "execution_count": 3,
   "metadata": {},
   "outputs": [
    {
     "name": "stdout",
     "output_type": "stream",
     "text": [
      "订单表2018-4.csv\n",
      "订单表2018-5.csv\n",
      "订单表2018-6.csv\n",
      "订单表2018-7.csv\n",
      "订单表2018-8.csv\n",
      "订单表2018-9.csv\n",
      "<class 'pandas.core.frame.DataFrame'>\n",
      "Int64Index: 305300 entries, 0 to 65579\n",
      "Data columns (total 14 columns):\n",
      " #   Column   Non-Null Count   Dtype  \n",
      "---  ------   --------------   -----  \n",
      " 0   设备编号     305300 non-null  int64  \n",
      " 1   下单时间     305300 non-null  object \n",
      " 2   订单编号     305300 non-null  object \n",
      " 3   购买数量(个)  305300 non-null  int64  \n",
      " 4   手续费(元)   305300 non-null  float64\n",
      " 5   总金额(元)   305300 non-null  float64\n",
      " 6   支付状态     305300 non-null  object \n",
      " 7   出货状态     305297 non-null  object \n",
      " 8   收款方      305085 non-null  object \n",
      " 9   退款金额(元)  305300 non-null  float64\n",
      " 10  购买用户     305300 non-null  object \n",
      " 11  商品详情     305300 non-null  object \n",
      " 12  省市区      305300 non-null  object \n",
      " 13  软件版本     305300 non-null  object \n",
      "dtypes: float64(3), int64(2), object(9)\n",
      "memory usage: 34.9+ MB\n"
     ]
    },
    {
     "name": "stderr",
     "output_type": "stream",
     "text": [
      "'[`在这里插入图片描述`]' 不是内部或外部命令，也不是可运行的程序\n",
      "或批处理文件。\n"
     ]
    },
    {
     "data": {
      "text/html": [
       "<div>\n",
       "<style scoped>\n",
       "    .dataframe tbody tr th:only-of-type {\n",
       "        vertical-align: middle;\n",
       "    }\n",
       "\n",
       "    .dataframe tbody tr th {\n",
       "        vertical-align: top;\n",
       "    }\n",
       "\n",
       "    .dataframe thead th {\n",
       "        text-align: right;\n",
       "    }\n",
       "</style>\n",
       "<table border=\"1\" class=\"dataframe\">\n",
       "  <thead>\n",
       "    <tr style=\"text-align: right;\">\n",
       "      <th></th>\n",
       "      <th>设备编号</th>\n",
       "      <th>下单时间</th>\n",
       "      <th>订单编号</th>\n",
       "      <th>购买数量(个)</th>\n",
       "      <th>手续费(元)</th>\n",
       "      <th>总金额(元)</th>\n",
       "      <th>支付状态</th>\n",
       "      <th>出货状态</th>\n",
       "      <th>收款方</th>\n",
       "      <th>退款金额(元)</th>\n",
       "      <th>购买用户</th>\n",
       "      <th>商品详情</th>\n",
       "      <th>省市区</th>\n",
       "      <th>软件版本</th>\n",
       "    </tr>\n",
       "  </thead>\n",
       "  <tbody>\n",
       "    <tr>\n",
       "      <th>19011</th>\n",
       "      <td>113106</td>\n",
       "      <td>2018-09-21 16:12:59</td>\n",
       "      <td>113106hg153751757959133</td>\n",
       "      <td>1</td>\n",
       "      <td>0.01</td>\n",
       "      <td>1.0</td>\n",
       "      <td>微信</td>\n",
       "      <td>NaN</td>\n",
       "      <td>平台</td>\n",
       "      <td>0.0</td>\n",
       "      <td>ooCjVwNZSrIox7-lEOiCyxndohY0</td>\n",
       "      <td>可口可乐X1(嗨购中奖)</td>\n",
       "      <td>广东省东莞市</td>\n",
       "      <td>V3.0.33;rk3288(Root);(900x1440)</td>\n",
       "    </tr>\n",
       "    <tr>\n",
       "      <th>19081</th>\n",
       "      <td>113106</td>\n",
       "      <td>2018-09-21 15:51:03</td>\n",
       "      <td>113106hg153751626318229</td>\n",
       "      <td>1</td>\n",
       "      <td>0.01</td>\n",
       "      <td>1.0</td>\n",
       "      <td>微信</td>\n",
       "      <td>NaN</td>\n",
       "      <td>平台</td>\n",
       "      <td>0.0</td>\n",
       "      <td>os-xL0j_JO2jpxdiMen817EW-LDY</td>\n",
       "      <td>康师傅冰红茶X1(嗨购中奖)</td>\n",
       "      <td>广东省东莞市</td>\n",
       "      <td>V3.0.33;rk3288(Root);(900x1440)</td>\n",
       "    </tr>\n",
       "    <tr>\n",
       "      <th>22278</th>\n",
       "      <td>112908</td>\n",
       "      <td>2018-09-20 11:55:05</td>\n",
       "      <td>112908hg153741570583241</td>\n",
       "      <td>1</td>\n",
       "      <td>0.01</td>\n",
       "      <td>1.0</td>\n",
       "      <td>微信</td>\n",
       "      <td>NaN</td>\n",
       "      <td>平台</td>\n",
       "      <td>0.0</td>\n",
       "      <td>os-xL0pgLShChkcyV0XtT8Lpxr6E</td>\n",
       "      <td>孖髻山矿泉水X1(嗨购中奖)</td>\n",
       "      <td>广东省东莞市</td>\n",
       "      <td>V3.0.37;rk3288(Root);(900x1440)</td>\n",
       "    </tr>\n",
       "  </tbody>\n",
       "</table>\n",
       "</div>"
      ],
      "text/plain": [
       "         设备编号                 下单时间                     订单编号  购买数量(个)  手续费(元)  \\\n",
       "19011  113106  2018-09-21 16:12:59  113106hg153751757959133        1    0.01   \n",
       "19081  113106  2018-09-21 15:51:03  113106hg153751626318229        1    0.01   \n",
       "22278  112908  2018-09-20 11:55:05  112908hg153741570583241        1    0.01   \n",
       "\n",
       "       总金额(元) 支付状态 出货状态 收款方  退款金额(元)                          购买用户  \\\n",
       "19011     1.0   微信  NaN  平台      0.0  ooCjVwNZSrIox7-lEOiCyxndohY0   \n",
       "19081     1.0   微信  NaN  平台      0.0  os-xL0j_JO2jpxdiMen817EW-LDY   \n",
       "22278     1.0   微信  NaN  平台      0.0  os-xL0pgLShChkcyV0XtT8Lpxr6E   \n",
       "\n",
       "                 商品详情     省市区                             软件版本  \n",
       "19011    可口可乐X1(嗨购中奖)  广东省东莞市  V3.0.33;rk3288(Root);(900x1440)  \n",
       "19081  康师傅冰红茶X1(嗨购中奖)  广东省东莞市  V3.0.33;rk3288(Root);(900x1440)  \n",
       "22278  孖髻山矿泉水X1(嗨购中奖)  广东省东莞市  V3.0.37;rk3288(Root);(900x1440)  "
      ]
     },
     "execution_count": 3,
     "metadata": {},
     "output_type": "execute_result"
    }
   ],
   "source": [
    "#数据探索\n",
    "#1 获取所有文件的名称和路径\n",
    "data_path = './data/'  #数据存储路径\n",
    "data_names = os.listdir(data_path)  #列举出data_path里面所有的文件名称\n",
    "data = pd.DataFrame([])\n",
    "for data_name in data_names:\n",
    "    # 删除不是的文件\n",
    "    if data_name.endswith('.csv'):\n",
    "        print((data_name))\n",
    "        #3 循环读取文件\n",
    "        tmp =pd.read_csv(os.path.join(data_path,data_name),encoding='gbk')\n",
    "        #4 文件存储\n",
    "        data = pd.concat([data,tmp])\n",
    "#data = pd.read_csv('./data/订单表2018-5.csv',encoding='gbk')  #读取\n",
    "data.head()\n",
    "data.info()  #数据总览\n",
    "data.columns\n",
    "![`在这里插入图片描述`](https://img-blog.csdnimg.cn/20200610154752146.png)\n",
    "#查看缺失情况\n",
    "data.isnull().sum()\n",
    "ind = data['收款方'].isnull()\n",
    "data.loc[ind,:]\n",
    "ind = data['出货状态'].isnull()\n",
    "data.loc[ind,:]"
   ]
  },
  {
   "cell_type": "code",
   "execution_count": 4,
   "metadata": {},
   "outputs": [
    {
     "data": {
      "text/plain": [
       "Index(['设备编号', '下单时间', '订单编号', '购买数量(个)', '手续费(元)', '总金额(元)', '支付状态', '出货状态',\n",
       "       '收款方', '退款金额(元)', '购买用户', '商品详情', '省市区', '软件版本'],\n",
       "      dtype='object')"
      ]
     },
     "execution_count": 4,
     "metadata": {},
     "output_type": "execute_result"
    }
   ],
   "source": [
    "data.columns   #查找所有列名"
   ]
  },
  {
   "cell_type": "code",
   "execution_count": 5,
   "metadata": {},
   "outputs": [
    {
     "data": {
      "text/plain": [
       "设备编号         int64\n",
       "下单时间        object\n",
       "订单编号        object\n",
       "购买数量(个)      int64\n",
       "手续费(元)     float64\n",
       "总金额(元)     float64\n",
       "支付状态        object\n",
       "出货状态        object\n",
       "收款方         object\n",
       "退款金额(元)    float64\n",
       "购买用户        object\n",
       "商品详情        object\n",
       "省市区         object\n",
       "软件版本        object\n",
       "dtype: object"
      ]
     },
     "execution_count": 5,
     "metadata": {},
     "output_type": "execute_result"
    }
   ],
   "source": [
    "data.dtypes"
   ]
  },
  {
   "cell_type": "markdown",
   "metadata": {},
   "source": [
    "## 缺失值"
   ]
  },
  {
   "cell_type": "code",
   "execution_count": 6,
   "metadata": {},
   "outputs": [
    {
     "data": {
      "text/plain": [
       "设备编号         0\n",
       "下单时间         0\n",
       "订单编号         0\n",
       "购买数量(个)      0\n",
       "手续费(元)       0\n",
       "总金额(元)       0\n",
       "支付状态         0\n",
       "出货状态         3\n",
       "收款方        215\n",
       "退款金额(元)      0\n",
       "购买用户         0\n",
       "商品详情         0\n",
       "省市区          0\n",
       "软件版本         0\n",
       "dtype: int64"
      ]
     },
     "execution_count": 6,
     "metadata": {},
     "output_type": "execute_result"
    }
   ],
   "source": [
    "data.isnull().sum()"
   ]
  },
  {
   "cell_type": "code",
   "execution_count": 7,
   "metadata": {},
   "outputs": [],
   "source": [
    "ind = data['收款方'].isnull()"
   ]
  },
  {
   "cell_type": "code",
   "execution_count": 8,
   "metadata": {},
   "outputs": [
    {
     "data": {
      "text/html": [
       "<div>\n",
       "<style scoped>\n",
       "    .dataframe tbody tr th:only-of-type {\n",
       "        vertical-align: middle;\n",
       "    }\n",
       "\n",
       "    .dataframe tbody tr th {\n",
       "        vertical-align: top;\n",
       "    }\n",
       "\n",
       "    .dataframe thead th {\n",
       "        text-align: right;\n",
       "    }\n",
       "</style>\n",
       "<table border=\"1\" class=\"dataframe\">\n",
       "  <thead>\n",
       "    <tr style=\"text-align: right;\">\n",
       "      <th></th>\n",
       "      <th>设备编号</th>\n",
       "      <th>下单时间</th>\n",
       "      <th>订单编号</th>\n",
       "      <th>购买数量(个)</th>\n",
       "      <th>手续费(元)</th>\n",
       "      <th>总金额(元)</th>\n",
       "      <th>支付状态</th>\n",
       "      <th>出货状态</th>\n",
       "      <th>收款方</th>\n",
       "      <th>退款金额(元)</th>\n",
       "      <th>购买用户</th>\n",
       "      <th>商品详情</th>\n",
       "      <th>省市区</th>\n",
       "      <th>软件版本</th>\n",
       "    </tr>\n",
       "  </thead>\n",
       "  <tbody>\n",
       "    <tr>\n",
       "      <th>1008</th>\n",
       "      <td>112657</td>\n",
       "      <td>2018-08-31 13:55:02</td>\n",
       "      <td>112657up153569490218001312</td>\n",
       "      <td>1</td>\n",
       "      <td>0.05</td>\n",
       "      <td>4.50</td>\n",
       "      <td>会员余额</td>\n",
       "      <td>出货成功</td>\n",
       "      <td>NaN</td>\n",
       "      <td>0.0</td>\n",
       "      <td>os-xL0j1ISDWxpSa-EAHjSVecsfw</td>\n",
       "      <td>维他柠檬茶（高罐X1</td>\n",
       "      <td>广东省广州市番禺区</td>\n",
       "      <td>V3.0.38;rk3288(Root);(900x1440)</td>\n",
       "    </tr>\n",
       "    <tr>\n",
       "      <th>1049</th>\n",
       "      <td>113106</td>\n",
       "      <td>2018-08-31 13:32:40</td>\n",
       "      <td>113106up153569356019401469</td>\n",
       "      <td>1</td>\n",
       "      <td>0.03</td>\n",
       "      <td>3.00</td>\n",
       "      <td>会员余额</td>\n",
       "      <td>出货成功</td>\n",
       "      <td>NaN</td>\n",
       "      <td>0.0</td>\n",
       "      <td>os-xL0uTt3yjT0EjFKkVWJhdwlp4</td>\n",
       "      <td>康师傅冰红茶X1</td>\n",
       "      <td>广东省东莞市</td>\n",
       "      <td>V3.0.33;rk3288(Root);(900x1440)</td>\n",
       "    </tr>\n",
       "    <tr>\n",
       "      <th>1051</th>\n",
       "      <td>113106</td>\n",
       "      <td>2018-08-31 13:32:13</td>\n",
       "      <td>113106up153569353314271469</td>\n",
       "      <td>1</td>\n",
       "      <td>0.02</td>\n",
       "      <td>1.50</td>\n",
       "      <td>会员余额</td>\n",
       "      <td>出货成功</td>\n",
       "      <td>NaN</td>\n",
       "      <td>0.0</td>\n",
       "      <td>os-xL0uh8zwJgn3-JcZjm1oUnFSw</td>\n",
       "      <td>肉松饼X1</td>\n",
       "      <td>广东省东莞市</td>\n",
       "      <td>V3.0.33;rk3288(Root);(900x1440)</td>\n",
       "    </tr>\n",
       "    <tr>\n",
       "      <th>1331</th>\n",
       "      <td>112657</td>\n",
       "      <td>2018-08-31 10:59:26</td>\n",
       "      <td>112657up153568436614981191</td>\n",
       "      <td>1</td>\n",
       "      <td>0.05</td>\n",
       "      <td>5.00</td>\n",
       "      <td>会员余额</td>\n",
       "      <td>出货成功</td>\n",
       "      <td>NaN</td>\n",
       "      <td>0.0</td>\n",
       "      <td>os-xL0qY5AfnNp5RRTWkRL_2vw94</td>\n",
       "      <td>雀巢咖啡X1</td>\n",
       "      <td>广东省广州市番禺区</td>\n",
       "      <td>V3.0.38;rk3288(Root);(900x1440)</td>\n",
       "    </tr>\n",
       "    <tr>\n",
       "      <th>1733</th>\n",
       "      <td>112792</td>\n",
       "      <td>2018-08-31 05:17:06</td>\n",
       "      <td>112792up153566382614381461</td>\n",
       "      <td>1</td>\n",
       "      <td>0.01</td>\n",
       "      <td>1.00</td>\n",
       "      <td>会员余额</td>\n",
       "      <td>出货成功</td>\n",
       "      <td>NaN</td>\n",
       "      <td>0.0</td>\n",
       "      <td>os-xL0kiHO1Rxf3aSI44llrGankA</td>\n",
       "      <td>深晖菊花茶X1</td>\n",
       "      <td>广东省广州市天河区</td>\n",
       "      <td>V3.0.35;rk3288(Root);(900x1440)</td>\n",
       "    </tr>\n",
       "    <tr>\n",
       "      <th>...</th>\n",
       "      <td>...</td>\n",
       "      <td>...</td>\n",
       "      <td>...</td>\n",
       "      <td>...</td>\n",
       "      <td>...</td>\n",
       "      <td>...</td>\n",
       "      <td>...</td>\n",
       "      <td>...</td>\n",
       "      <td>...</td>\n",
       "      <td>...</td>\n",
       "      <td>...</td>\n",
       "      <td>...</td>\n",
       "      <td>...</td>\n",
       "      <td>...</td>\n",
       "    </tr>\n",
       "    <tr>\n",
       "      <th>62187</th>\n",
       "      <td>112797</td>\n",
       "      <td>2018-09-02 23:52:18</td>\n",
       "      <td>112797up15359035381668833</td>\n",
       "      <td>3</td>\n",
       "      <td>0.12</td>\n",
       "      <td>12.00</td>\n",
       "      <td>会员余额</td>\n",
       "      <td>出货成功</td>\n",
       "      <td>NaN</td>\n",
       "      <td>0.0</td>\n",
       "      <td>os-xL0it7RmEyi0N9DIN7izpWehM</td>\n",
       "      <td>脉动X1,脉动X1,脉动X1</td>\n",
       "      <td>广东省东莞市</td>\n",
       "      <td>V3.0.33;rk3288(Root);(900x1440)</td>\n",
       "    </tr>\n",
       "    <tr>\n",
       "      <th>63607</th>\n",
       "      <td>112792</td>\n",
       "      <td>2018-09-02 05:15:40</td>\n",
       "      <td>112792up153583654011091461</td>\n",
       "      <td>1</td>\n",
       "      <td>0.02</td>\n",
       "      <td>2.00</td>\n",
       "      <td>会员余额</td>\n",
       "      <td>出货成功</td>\n",
       "      <td>NaN</td>\n",
       "      <td>0.0</td>\n",
       "      <td>os-xL0hS4WiCq-mi1hUls-rf1yY8</td>\n",
       "      <td>花生牛奶纸盒装X1</td>\n",
       "      <td>广东省广州市天河区</td>\n",
       "      <td>V3.0.35;rk3288(Root);(900x1440)</td>\n",
       "    </tr>\n",
       "    <tr>\n",
       "      <th>63778</th>\n",
       "      <td>112792</td>\n",
       "      <td>2018-09-02 00:16:28</td>\n",
       "      <td>112792up153581858811781461</td>\n",
       "      <td>1</td>\n",
       "      <td>0.04</td>\n",
       "      <td>3.80</td>\n",
       "      <td>会员余额</td>\n",
       "      <td>出货成功</td>\n",
       "      <td>NaN</td>\n",
       "      <td>0.0</td>\n",
       "      <td>os-xL0sgqIyjn5F3IrUt5UfXMRko</td>\n",
       "      <td>银鹭八宝粥X1</td>\n",
       "      <td>广东省广州市天河区</td>\n",
       "      <td>V3.0.35;rk3288(Root);(900x1440)</td>\n",
       "    </tr>\n",
       "    <tr>\n",
       "      <th>64049</th>\n",
       "      <td>113069</td>\n",
       "      <td>2018-09-01 21:00:23</td>\n",
       "      <td>113069up153580682312341503</td>\n",
       "      <td>1</td>\n",
       "      <td>0.02</td>\n",
       "      <td>2.29</td>\n",
       "      <td>会员余额</td>\n",
       "      <td>出货成功</td>\n",
       "      <td>NaN</td>\n",
       "      <td>0.0</td>\n",
       "      <td>os-xL0mcEDJOP7ugGUsdraKrFtPA</td>\n",
       "      <td>雪碧330mlX1</td>\n",
       "      <td>广东省东莞市</td>\n",
       "      <td>V3.0.35;rk3288(Root);(900x1440)</td>\n",
       "    </tr>\n",
       "    <tr>\n",
       "      <th>64050</th>\n",
       "      <td>113069</td>\n",
       "      <td>2018-09-01 20:59:47</td>\n",
       "      <td>113069up153580678717991503</td>\n",
       "      <td>1</td>\n",
       "      <td>0.02</td>\n",
       "      <td>1.50</td>\n",
       "      <td>会员余额</td>\n",
       "      <td>出货成功</td>\n",
       "      <td>NaN</td>\n",
       "      <td>0.0</td>\n",
       "      <td>os-xL0toM22ckqCrqnO-aM_UuJ1M</td>\n",
       "      <td>雪力含硒矿泉水X1</td>\n",
       "      <td>广东省东莞市</td>\n",
       "      <td>V3.0.35;rk3288(Root);(900x1440)</td>\n",
       "    </tr>\n",
       "  </tbody>\n",
       "</table>\n",
       "<p>215 rows × 14 columns</p>\n",
       "</div>"
      ],
      "text/plain": [
       "         设备编号                 下单时间                        订单编号  购买数量(个)  \\\n",
       "1008   112657  2018-08-31 13:55:02  112657up153569490218001312        1   \n",
       "1049   113106  2018-08-31 13:32:40  113106up153569356019401469        1   \n",
       "1051   113106  2018-08-31 13:32:13  113106up153569353314271469        1   \n",
       "1331   112657  2018-08-31 10:59:26  112657up153568436614981191        1   \n",
       "1733   112792  2018-08-31 05:17:06  112792up153566382614381461        1   \n",
       "...       ...                  ...                         ...      ...   \n",
       "62187  112797  2018-09-02 23:52:18   112797up15359035381668833        3   \n",
       "63607  112792  2018-09-02 05:15:40  112792up153583654011091461        1   \n",
       "63778  112792  2018-09-02 00:16:28  112792up153581858811781461        1   \n",
       "64049  113069  2018-09-01 21:00:23  113069up153580682312341503        1   \n",
       "64050  113069  2018-09-01 20:59:47  113069up153580678717991503        1   \n",
       "\n",
       "       手续费(元)  总金额(元)  支付状态  出货状态  收款方  退款金额(元)                          购买用户  \\\n",
       "1008     0.05    4.50  会员余额  出货成功  NaN      0.0  os-xL0j1ISDWxpSa-EAHjSVecsfw   \n",
       "1049     0.03    3.00  会员余额  出货成功  NaN      0.0  os-xL0uTt3yjT0EjFKkVWJhdwlp4   \n",
       "1051     0.02    1.50  会员余额  出货成功  NaN      0.0  os-xL0uh8zwJgn3-JcZjm1oUnFSw   \n",
       "1331     0.05    5.00  会员余额  出货成功  NaN      0.0  os-xL0qY5AfnNp5RRTWkRL_2vw94   \n",
       "1733     0.01    1.00  会员余额  出货成功  NaN      0.0  os-xL0kiHO1Rxf3aSI44llrGankA   \n",
       "...       ...     ...   ...   ...  ...      ...                           ...   \n",
       "62187    0.12   12.00  会员余额  出货成功  NaN      0.0  os-xL0it7RmEyi0N9DIN7izpWehM   \n",
       "63607    0.02    2.00  会员余额  出货成功  NaN      0.0  os-xL0hS4WiCq-mi1hUls-rf1yY8   \n",
       "63778    0.04    3.80  会员余额  出货成功  NaN      0.0  os-xL0sgqIyjn5F3IrUt5UfXMRko   \n",
       "64049    0.02    2.29  会员余额  出货成功  NaN      0.0  os-xL0mcEDJOP7ugGUsdraKrFtPA   \n",
       "64050    0.02    1.50  会员余额  出货成功  NaN      0.0  os-xL0toM22ckqCrqnO-aM_UuJ1M   \n",
       "\n",
       "                 商品详情        省市区                             软件版本  \n",
       "1008       维他柠檬茶（高罐X1  广东省广州市番禺区  V3.0.38;rk3288(Root);(900x1440)  \n",
       "1049         康师傅冰红茶X1     广东省东莞市  V3.0.33;rk3288(Root);(900x1440)  \n",
       "1051            肉松饼X1     广东省东莞市  V3.0.33;rk3288(Root);(900x1440)  \n",
       "1331           雀巢咖啡X1  广东省广州市番禺区  V3.0.38;rk3288(Root);(900x1440)  \n",
       "1733          深晖菊花茶X1  广东省广州市天河区  V3.0.35;rk3288(Root);(900x1440)  \n",
       "...               ...        ...                              ...  \n",
       "62187  脉动X1,脉动X1,脉动X1     广东省东莞市  V3.0.33;rk3288(Root);(900x1440)  \n",
       "63607       花生牛奶纸盒装X1  广东省广州市天河区  V3.0.35;rk3288(Root);(900x1440)  \n",
       "63778         银鹭八宝粥X1  广东省广州市天河区  V3.0.35;rk3288(Root);(900x1440)  \n",
       "64049       雪碧330mlX1     广东省东莞市  V3.0.35;rk3288(Root);(900x1440)  \n",
       "64050       雪力含硒矿泉水X1     广东省东莞市  V3.0.35;rk3288(Root);(900x1440)  \n",
       "\n",
       "[215 rows x 14 columns]"
      ]
     },
     "execution_count": 8,
     "metadata": {},
     "output_type": "execute_result"
    }
   ],
   "source": [
    "data.loc[ind,:]"
   ]
  },
  {
   "cell_type": "code",
   "execution_count": 9,
   "metadata": {},
   "outputs": [
    {
     "data": {
      "text/html": [
       "<div>\n",
       "<style scoped>\n",
       "    .dataframe tbody tr th:only-of-type {\n",
       "        vertical-align: middle;\n",
       "    }\n",
       "\n",
       "    .dataframe tbody tr th {\n",
       "        vertical-align: top;\n",
       "    }\n",
       "\n",
       "    .dataframe thead th {\n",
       "        text-align: right;\n",
       "    }\n",
       "</style>\n",
       "<table border=\"1\" class=\"dataframe\">\n",
       "  <thead>\n",
       "    <tr style=\"text-align: right;\">\n",
       "      <th></th>\n",
       "      <th>设备编号</th>\n",
       "      <th>下单时间</th>\n",
       "      <th>订单编号</th>\n",
       "      <th>购买数量(个)</th>\n",
       "      <th>手续费(元)</th>\n",
       "      <th>总金额(元)</th>\n",
       "      <th>支付状态</th>\n",
       "      <th>出货状态</th>\n",
       "      <th>收款方</th>\n",
       "      <th>退款金额(元)</th>\n",
       "      <th>购买用户</th>\n",
       "      <th>商品详情</th>\n",
       "      <th>省市区</th>\n",
       "      <th>软件版本</th>\n",
       "    </tr>\n",
       "  </thead>\n",
       "  <tbody>\n",
       "    <tr>\n",
       "      <th>19011</th>\n",
       "      <td>113106</td>\n",
       "      <td>2018-09-21 16:12:59</td>\n",
       "      <td>113106hg153751757959133</td>\n",
       "      <td>1</td>\n",
       "      <td>0.01</td>\n",
       "      <td>1.0</td>\n",
       "      <td>微信</td>\n",
       "      <td>NaN</td>\n",
       "      <td>平台</td>\n",
       "      <td>0.0</td>\n",
       "      <td>ooCjVwNZSrIox7-lEOiCyxndohY0</td>\n",
       "      <td>可口可乐X1(嗨购中奖)</td>\n",
       "      <td>广东省东莞市</td>\n",
       "      <td>V3.0.33;rk3288(Root);(900x1440)</td>\n",
       "    </tr>\n",
       "    <tr>\n",
       "      <th>19081</th>\n",
       "      <td>113106</td>\n",
       "      <td>2018-09-21 15:51:03</td>\n",
       "      <td>113106hg153751626318229</td>\n",
       "      <td>1</td>\n",
       "      <td>0.01</td>\n",
       "      <td>1.0</td>\n",
       "      <td>微信</td>\n",
       "      <td>NaN</td>\n",
       "      <td>平台</td>\n",
       "      <td>0.0</td>\n",
       "      <td>os-xL0j_JO2jpxdiMen817EW-LDY</td>\n",
       "      <td>康师傅冰红茶X1(嗨购中奖)</td>\n",
       "      <td>广东省东莞市</td>\n",
       "      <td>V3.0.33;rk3288(Root);(900x1440)</td>\n",
       "    </tr>\n",
       "    <tr>\n",
       "      <th>22278</th>\n",
       "      <td>112908</td>\n",
       "      <td>2018-09-20 11:55:05</td>\n",
       "      <td>112908hg153741570583241</td>\n",
       "      <td>1</td>\n",
       "      <td>0.01</td>\n",
       "      <td>1.0</td>\n",
       "      <td>微信</td>\n",
       "      <td>NaN</td>\n",
       "      <td>平台</td>\n",
       "      <td>0.0</td>\n",
       "      <td>os-xL0pgLShChkcyV0XtT8Lpxr6E</td>\n",
       "      <td>孖髻山矿泉水X1(嗨购中奖)</td>\n",
       "      <td>广东省东莞市</td>\n",
       "      <td>V3.0.37;rk3288(Root);(900x1440)</td>\n",
       "    </tr>\n",
       "  </tbody>\n",
       "</table>\n",
       "</div>"
      ],
      "text/plain": [
       "         设备编号                 下单时间                     订单编号  购买数量(个)  手续费(元)  \\\n",
       "19011  113106  2018-09-21 16:12:59  113106hg153751757959133        1    0.01   \n",
       "19081  113106  2018-09-21 15:51:03  113106hg153751626318229        1    0.01   \n",
       "22278  112908  2018-09-20 11:55:05  112908hg153741570583241        1    0.01   \n",
       "\n",
       "       总金额(元) 支付状态 出货状态 收款方  退款金额(元)                          购买用户  \\\n",
       "19011     1.0   微信  NaN  平台      0.0  ooCjVwNZSrIox7-lEOiCyxndohY0   \n",
       "19081     1.0   微信  NaN  平台      0.0  os-xL0j_JO2jpxdiMen817EW-LDY   \n",
       "22278     1.0   微信  NaN  平台      0.0  os-xL0pgLShChkcyV0XtT8Lpxr6E   \n",
       "\n",
       "                 商品详情     省市区                             软件版本  \n",
       "19011    可口可乐X1(嗨购中奖)  广东省东莞市  V3.0.33;rk3288(Root);(900x1440)  \n",
       "19081  康师傅冰红茶X1(嗨购中奖)  广东省东莞市  V3.0.33;rk3288(Root);(900x1440)  \n",
       "22278  孖髻山矿泉水X1(嗨购中奖)  广东省东莞市  V3.0.37;rk3288(Root);(900x1440)  "
      ]
     },
     "execution_count": 9,
     "metadata": {},
     "output_type": "execute_result"
    }
   ],
   "source": [
    "ind = data['出货状态'].isnull()\n",
    "data.loc[ind,:]"
   ]
  },
  {
   "cell_type": "code",
   "execution_count": 10,
   "metadata": {},
   "outputs": [
    {
     "data": {
      "text/html": [
       "<div>\n",
       "<style scoped>\n",
       "    .dataframe tbody tr th:only-of-type {\n",
       "        vertical-align: middle;\n",
       "    }\n",
       "\n",
       "    .dataframe tbody tr th {\n",
       "        vertical-align: top;\n",
       "    }\n",
       "\n",
       "    .dataframe thead th {\n",
       "        text-align: right;\n",
       "    }\n",
       "</style>\n",
       "<table border=\"1\" class=\"dataframe\">\n",
       "  <thead>\n",
       "    <tr style=\"text-align: right;\">\n",
       "      <th></th>\n",
       "      <th>设备编号</th>\n",
       "      <th>下单时间</th>\n",
       "      <th>订单编号</th>\n",
       "      <th>购买数量(个)</th>\n",
       "      <th>手续费(元)</th>\n",
       "      <th>总金额(元)</th>\n",
       "      <th>支付状态</th>\n",
       "      <th>出货状态</th>\n",
       "      <th>收款方</th>\n",
       "      <th>退款金额(元)</th>\n",
       "      <th>购买用户</th>\n",
       "      <th>商品详情</th>\n",
       "      <th>省市区</th>\n",
       "      <th>软件版本</th>\n",
       "    </tr>\n",
       "  </thead>\n",
       "  <tbody>\n",
       "    <tr>\n",
       "      <th>16258</th>\n",
       "      <td>112707</td>\n",
       "      <td>2018-09-22 17:12:59</td>\n",
       "      <td>112707hg153760757920264</td>\n",
       "      <td>1</td>\n",
       "      <td>0.01</td>\n",
       "      <td>1.0</td>\n",
       "      <td>微信</td>\n",
       "      <td>取消出货</td>\n",
       "      <td>平台</td>\n",
       "      <td>0.0</td>\n",
       "      <td>os-xL0nhDnQ2vL1ySbXx3kTz9G-o</td>\n",
       "      <td>喜之郎芒果味X1(嗨购中奖)</td>\n",
       "      <td>广东省佛山市顺德区</td>\n",
       "      <td>V3.0.37;rk3288(Root);(900x1440)</td>\n",
       "    </tr>\n",
       "    <tr>\n",
       "      <th>16260</th>\n",
       "      <td>112707</td>\n",
       "      <td>2018-09-22 17:12:16</td>\n",
       "      <td>112707hg153760753684541</td>\n",
       "      <td>1</td>\n",
       "      <td>0.01</td>\n",
       "      <td>1.0</td>\n",
       "      <td>微信</td>\n",
       "      <td>取消出货</td>\n",
       "      <td>平台</td>\n",
       "      <td>0.0</td>\n",
       "      <td>os-xL0vZC0H1ABAzPPiy7jMF2yHs</td>\n",
       "      <td>喜之郎芒果味X1(嗨购中奖)</td>\n",
       "      <td>广东省佛山市顺德区</td>\n",
       "      <td>V3.0.37;rk3288(Root);(900x1440)</td>\n",
       "    </tr>\n",
       "    <tr>\n",
       "      <th>16264</th>\n",
       "      <td>112707</td>\n",
       "      <td>2018-09-22 17:11:35</td>\n",
       "      <td>112707hg153760749542358</td>\n",
       "      <td>1</td>\n",
       "      <td>0.01</td>\n",
       "      <td>1.0</td>\n",
       "      <td>微信</td>\n",
       "      <td>取消出货</td>\n",
       "      <td>平台</td>\n",
       "      <td>0.0</td>\n",
       "      <td>os-xL0qZh7lvdi8kWkaBrhZAjjlA</td>\n",
       "      <td>喜之郎芒果味X1(嗨购中奖)</td>\n",
       "      <td>广东省佛山市顺德区</td>\n",
       "      <td>V3.0.37;rk3288(Root);(900x1440)</td>\n",
       "    </tr>\n",
       "    <tr>\n",
       "      <th>16271</th>\n",
       "      <td>112707</td>\n",
       "      <td>2018-09-22 17:07:21</td>\n",
       "      <td>112707hg153760724112767</td>\n",
       "      <td>1</td>\n",
       "      <td>0.01</td>\n",
       "      <td>1.0</td>\n",
       "      <td>微信</td>\n",
       "      <td>取消出货</td>\n",
       "      <td>平台</td>\n",
       "      <td>0.0</td>\n",
       "      <td>os-xL0t7ppnw2SRvp3MO65XZ_xt0</td>\n",
       "      <td>喜之郎芒果味X1(嗨购中奖)</td>\n",
       "      <td>广东省佛山市顺德区</td>\n",
       "      <td>V3.0.37;rk3288(Root);(900x1440)</td>\n",
       "    </tr>\n",
       "    <tr>\n",
       "      <th>19011</th>\n",
       "      <td>113106</td>\n",
       "      <td>2018-09-21 16:12:59</td>\n",
       "      <td>113106hg153751757959133</td>\n",
       "      <td>1</td>\n",
       "      <td>0.01</td>\n",
       "      <td>1.0</td>\n",
       "      <td>微信</td>\n",
       "      <td>NaN</td>\n",
       "      <td>平台</td>\n",
       "      <td>0.0</td>\n",
       "      <td>ooCjVwNZSrIox7-lEOiCyxndohY0</td>\n",
       "      <td>可口可乐X1(嗨购中奖)</td>\n",
       "      <td>广东省东莞市</td>\n",
       "      <td>V3.0.33;rk3288(Root);(900x1440)</td>\n",
       "    </tr>\n",
       "    <tr>\n",
       "      <th>19081</th>\n",
       "      <td>113106</td>\n",
       "      <td>2018-09-21 15:51:03</td>\n",
       "      <td>113106hg153751626318229</td>\n",
       "      <td>1</td>\n",
       "      <td>0.01</td>\n",
       "      <td>1.0</td>\n",
       "      <td>微信</td>\n",
       "      <td>NaN</td>\n",
       "      <td>平台</td>\n",
       "      <td>0.0</td>\n",
       "      <td>os-xL0j_JO2jpxdiMen817EW-LDY</td>\n",
       "      <td>康师傅冰红茶X1(嗨购中奖)</td>\n",
       "      <td>广东省东莞市</td>\n",
       "      <td>V3.0.33;rk3288(Root);(900x1440)</td>\n",
       "    </tr>\n",
       "    <tr>\n",
       "      <th>22278</th>\n",
       "      <td>112908</td>\n",
       "      <td>2018-09-20 11:55:05</td>\n",
       "      <td>112908hg153741570583241</td>\n",
       "      <td>1</td>\n",
       "      <td>0.01</td>\n",
       "      <td>1.0</td>\n",
       "      <td>微信</td>\n",
       "      <td>NaN</td>\n",
       "      <td>平台</td>\n",
       "      <td>0.0</td>\n",
       "      <td>os-xL0pgLShChkcyV0XtT8Lpxr6E</td>\n",
       "      <td>孖髻山矿泉水X1(嗨购中奖)</td>\n",
       "      <td>广东省东莞市</td>\n",
       "      <td>V3.0.37;rk3288(Root);(900x1440)</td>\n",
       "    </tr>\n",
       "    <tr>\n",
       "      <th>24258</th>\n",
       "      <td>112657</td>\n",
       "      <td>2018-09-19 14:28:48</td>\n",
       "      <td>112657hg153733852863870</td>\n",
       "      <td>1</td>\n",
       "      <td>0.02</td>\n",
       "      <td>2.0</td>\n",
       "      <td>微信</td>\n",
       "      <td>出货成功</td>\n",
       "      <td>平台</td>\n",
       "      <td>0.0</td>\n",
       "      <td>ooCjVwJKF-J8D5GQBY-dgBiIE1-k</td>\n",
       "      <td>天地一号X1(嗨购中奖)</td>\n",
       "      <td>广东省广州市番禺区</td>\n",
       "      <td>V3.0.38;rk3288(Root);(900x1440)</td>\n",
       "    </tr>\n",
       "    <tr>\n",
       "      <th>24301</th>\n",
       "      <td>112657</td>\n",
       "      <td>2018-09-19 14:14:47</td>\n",
       "      <td>112657hg153733768785143</td>\n",
       "      <td>1</td>\n",
       "      <td>0.01</td>\n",
       "      <td>1.0</td>\n",
       "      <td>微信</td>\n",
       "      <td>出货成功</td>\n",
       "      <td>平台</td>\n",
       "      <td>0.0</td>\n",
       "      <td>os-xL0tNSoouswuQUgwGkBRtS5jM</td>\n",
       "      <td>康师傅冰红茶X1(嗨购中奖)</td>\n",
       "      <td>广东省广州市番禺区</td>\n",
       "      <td>V3.0.38;rk3288(Root);(900x1440)</td>\n",
       "    </tr>\n",
       "    <tr>\n",
       "      <th>24305</th>\n",
       "      <td>112657</td>\n",
       "      <td>2018-09-19 14:12:25</td>\n",
       "      <td>112657hg153733754521951</td>\n",
       "      <td>1</td>\n",
       "      <td>0.03</td>\n",
       "      <td>3.0</td>\n",
       "      <td>微信</td>\n",
       "      <td>出货成功</td>\n",
       "      <td>平台</td>\n",
       "      <td>0.0</td>\n",
       "      <td>os-xL0l3ryOa3f6AX1czUavQr7f4</td>\n",
       "      <td>红牛X1(嗨购中奖)</td>\n",
       "      <td>广东省广州市番禺区</td>\n",
       "      <td>V3.0.38;rk3288(Root);(900x1440)</td>\n",
       "    </tr>\n",
       "    <tr>\n",
       "      <th>24307</th>\n",
       "      <td>112657</td>\n",
       "      <td>2018-09-19 14:11:48</td>\n",
       "      <td>112657hg153733750898452</td>\n",
       "      <td>1</td>\n",
       "      <td>0.02</td>\n",
       "      <td>2.0</td>\n",
       "      <td>微信</td>\n",
       "      <td>出货成功</td>\n",
       "      <td>平台</td>\n",
       "      <td>0.0</td>\n",
       "      <td>os-xL0txDAVqbRH1FyifqoujIrrM</td>\n",
       "      <td>果粒橙X1(嗨购中奖)</td>\n",
       "      <td>广东省广州市番禺区</td>\n",
       "      <td>V3.0.38;rk3288(Root);(900x1440)</td>\n",
       "    </tr>\n",
       "    <tr>\n",
       "      <th>24319</th>\n",
       "      <td>112657</td>\n",
       "      <td>2018-09-19 14:09:15</td>\n",
       "      <td>112657hg153733735544147</td>\n",
       "      <td>1</td>\n",
       "      <td>0.02</td>\n",
       "      <td>2.0</td>\n",
       "      <td>微信</td>\n",
       "      <td>出货成功</td>\n",
       "      <td>平台</td>\n",
       "      <td>0.0</td>\n",
       "      <td>os-xL0sO-dBbrowKd0dZkQbBa90s</td>\n",
       "      <td>维他柠檬茶（高罐X1(嗨购中奖)</td>\n",
       "      <td>广东省广州市番禺区</td>\n",
       "      <td>V3.0.38;rk3288(Root);(900x1440)</td>\n",
       "    </tr>\n",
       "    <tr>\n",
       "      <th>24864</th>\n",
       "      <td>112657</td>\n",
       "      <td>2018-09-19 10:02:19</td>\n",
       "      <td>112657hg153732253928858</td>\n",
       "      <td>1</td>\n",
       "      <td>0.03</td>\n",
       "      <td>3.0</td>\n",
       "      <td>微信</td>\n",
       "      <td>出货成功</td>\n",
       "      <td>平台</td>\n",
       "      <td>0.0</td>\n",
       "      <td>os-xL0jtA2AOGCoOw-zIPWcJwxsI</td>\n",
       "      <td>马蹄爽X1(嗨购中奖)</td>\n",
       "      <td>广东省广州市番禺区</td>\n",
       "      <td>V3.0.38;rk3288(Root);(900x1440)</td>\n",
       "    </tr>\n",
       "    <tr>\n",
       "      <th>26623</th>\n",
       "      <td>112657</td>\n",
       "      <td>2018-09-18 14:18:14</td>\n",
       "      <td>112657hg15372514947167</td>\n",
       "      <td>1</td>\n",
       "      <td>0.02</td>\n",
       "      <td>2.0</td>\n",
       "      <td>微信</td>\n",
       "      <td>取消出货</td>\n",
       "      <td>平台</td>\n",
       "      <td>0.0</td>\n",
       "      <td>os-xL0uaeDZjyIH3pvQRFW4g6tvM</td>\n",
       "      <td>健力宝X1(嗨购中奖)</td>\n",
       "      <td>广东省广州市番禺区</td>\n",
       "      <td>V3.0.38;rk3288(Root);(900x1440)</td>\n",
       "    </tr>\n",
       "    <tr>\n",
       "      <th>26953</th>\n",
       "      <td>112903</td>\n",
       "      <td>2018-09-18 12:00:44</td>\n",
       "      <td>112903hg153724324491248</td>\n",
       "      <td>1</td>\n",
       "      <td>0.01</td>\n",
       "      <td>1.0</td>\n",
       "      <td>微信</td>\n",
       "      <td>出货成功</td>\n",
       "      <td>平台</td>\n",
       "      <td>0.0</td>\n",
       "      <td>os-xL0hicIc9II6besjqC8LO7eqE</td>\n",
       "      <td>劲仔鱼仔酱汁X1(嗨购中奖)</td>\n",
       "      <td>广东省广州市番禺区</td>\n",
       "      <td>V3.0.38;rk3288(Root);(900x1440)</td>\n",
       "    </tr>\n",
       "  </tbody>\n",
       "</table>\n",
       "</div>"
      ],
      "text/plain": [
       "         设备编号                 下单时间                     订单编号  购买数量(个)  手续费(元)  \\\n",
       "16258  112707  2018-09-22 17:12:59  112707hg153760757920264        1    0.01   \n",
       "16260  112707  2018-09-22 17:12:16  112707hg153760753684541        1    0.01   \n",
       "16264  112707  2018-09-22 17:11:35  112707hg153760749542358        1    0.01   \n",
       "16271  112707  2018-09-22 17:07:21  112707hg153760724112767        1    0.01   \n",
       "19011  113106  2018-09-21 16:12:59  113106hg153751757959133        1    0.01   \n",
       "19081  113106  2018-09-21 15:51:03  113106hg153751626318229        1    0.01   \n",
       "22278  112908  2018-09-20 11:55:05  112908hg153741570583241        1    0.01   \n",
       "24258  112657  2018-09-19 14:28:48  112657hg153733852863870        1    0.02   \n",
       "24301  112657  2018-09-19 14:14:47  112657hg153733768785143        1    0.01   \n",
       "24305  112657  2018-09-19 14:12:25  112657hg153733754521951        1    0.03   \n",
       "24307  112657  2018-09-19 14:11:48  112657hg153733750898452        1    0.02   \n",
       "24319  112657  2018-09-19 14:09:15  112657hg153733735544147        1    0.02   \n",
       "24864  112657  2018-09-19 10:02:19  112657hg153732253928858        1    0.03   \n",
       "26623  112657  2018-09-18 14:18:14   112657hg15372514947167        1    0.02   \n",
       "26953  112903  2018-09-18 12:00:44  112903hg153724324491248        1    0.01   \n",
       "\n",
       "       总金额(元) 支付状态  出货状态 收款方  退款金额(元)                          购买用户  \\\n",
       "16258     1.0   微信  取消出货  平台      0.0  os-xL0nhDnQ2vL1ySbXx3kTz9G-o   \n",
       "16260     1.0   微信  取消出货  平台      0.0  os-xL0vZC0H1ABAzPPiy7jMF2yHs   \n",
       "16264     1.0   微信  取消出货  平台      0.0  os-xL0qZh7lvdi8kWkaBrhZAjjlA   \n",
       "16271     1.0   微信  取消出货  平台      0.0  os-xL0t7ppnw2SRvp3MO65XZ_xt0   \n",
       "19011     1.0   微信   NaN  平台      0.0  ooCjVwNZSrIox7-lEOiCyxndohY0   \n",
       "19081     1.0   微信   NaN  平台      0.0  os-xL0j_JO2jpxdiMen817EW-LDY   \n",
       "22278     1.0   微信   NaN  平台      0.0  os-xL0pgLShChkcyV0XtT8Lpxr6E   \n",
       "24258     2.0   微信  出货成功  平台      0.0  ooCjVwJKF-J8D5GQBY-dgBiIE1-k   \n",
       "24301     1.0   微信  出货成功  平台      0.0  os-xL0tNSoouswuQUgwGkBRtS5jM   \n",
       "24305     3.0   微信  出货成功  平台      0.0  os-xL0l3ryOa3f6AX1czUavQr7f4   \n",
       "24307     2.0   微信  出货成功  平台      0.0  os-xL0txDAVqbRH1FyifqoujIrrM   \n",
       "24319     2.0   微信  出货成功  平台      0.0  os-xL0sO-dBbrowKd0dZkQbBa90s   \n",
       "24864     3.0   微信  出货成功  平台      0.0  os-xL0jtA2AOGCoOw-zIPWcJwxsI   \n",
       "26623     2.0   微信  取消出货  平台      0.0  os-xL0uaeDZjyIH3pvQRFW4g6tvM   \n",
       "26953     1.0   微信  出货成功  平台      0.0  os-xL0hicIc9II6besjqC8LO7eqE   \n",
       "\n",
       "                   商品详情        省市区                             软件版本  \n",
       "16258    喜之郎芒果味X1(嗨购中奖)  广东省佛山市顺德区  V3.0.37;rk3288(Root);(900x1440)  \n",
       "16260    喜之郎芒果味X1(嗨购中奖)  广东省佛山市顺德区  V3.0.37;rk3288(Root);(900x1440)  \n",
       "16264    喜之郎芒果味X1(嗨购中奖)  广东省佛山市顺德区  V3.0.37;rk3288(Root);(900x1440)  \n",
       "16271    喜之郎芒果味X1(嗨购中奖)  广东省佛山市顺德区  V3.0.37;rk3288(Root);(900x1440)  \n",
       "19011      可口可乐X1(嗨购中奖)     广东省东莞市  V3.0.33;rk3288(Root);(900x1440)  \n",
       "19081    康师傅冰红茶X1(嗨购中奖)     广东省东莞市  V3.0.33;rk3288(Root);(900x1440)  \n",
       "22278    孖髻山矿泉水X1(嗨购中奖)     广东省东莞市  V3.0.37;rk3288(Root);(900x1440)  \n",
       "24258      天地一号X1(嗨购中奖)  广东省广州市番禺区  V3.0.38;rk3288(Root);(900x1440)  \n",
       "24301    康师傅冰红茶X1(嗨购中奖)  广东省广州市番禺区  V3.0.38;rk3288(Root);(900x1440)  \n",
       "24305        红牛X1(嗨购中奖)  广东省广州市番禺区  V3.0.38;rk3288(Root);(900x1440)  \n",
       "24307       果粒橙X1(嗨购中奖)  广东省广州市番禺区  V3.0.38;rk3288(Root);(900x1440)  \n",
       "24319  维他柠檬茶（高罐X1(嗨购中奖)  广东省广州市番禺区  V3.0.38;rk3288(Root);(900x1440)  \n",
       "24864       马蹄爽X1(嗨购中奖)  广东省广州市番禺区  V3.0.38;rk3288(Root);(900x1440)  \n",
       "26623       健力宝X1(嗨购中奖)  广东省广州市番禺区  V3.0.38;rk3288(Root);(900x1440)  \n",
       "26953    劲仔鱼仔酱汁X1(嗨购中奖)  广东省广州市番禺区  V3.0.38;rk3288(Root);(900x1440)  "
      ]
     },
     "execution_count": 10,
     "metadata": {},
     "output_type": "execute_result"
    }
   ],
   "source": [
    "ind = data['商品详情'].apply(lambda x: '嗨购中奖' in x)\n",
    "data.loc[ind, :]"
   ]
  },
  {
   "cell_type": "markdown",
   "metadata": {},
   "source": [
    "## 设备编号"
   ]
  },
  {
   "cell_type": "markdown",
   "metadata": {},
   "source": [
    "## 订单编号"
   ]
  },
  {
   "cell_type": "code",
   "execution_count": 14,
   "metadata": {},
   "outputs": [
    {
     "data": {
      "text/plain": [
       "112801qr15345709171264    1\n",
       "112657qr15264648658730    1\n",
       "112675qr15382919113723    1\n",
       "112810qr15323342031020    1\n",
       "112891qr15376928491574    1\n",
       "                         ..\n",
       "112667qr15350993149362    1\n",
       "113117qr15357014267617    1\n",
       "112725qr15316279313277    1\n",
       "113109qr15367615807367    1\n",
       "114221qr15375080899291    1\n",
       "Name: 订单编号, Length: 305300, dtype: int64"
      ]
     },
     "execution_count": 14,
     "metadata": {},
     "output_type": "execute_result"
    }
   ],
   "source": [
    "data['订单编号'].value_counts()   # 正确"
   ]
  },
  {
   "cell_type": "markdown",
   "metadata": {},
   "source": [
    "## 支付状态"
   ]
  },
  {
   "cell_type": "code",
   "execution_count": 15,
   "metadata": {},
   "outputs": [],
   "source": [
    "num = data['支付状态'].value_counts()"
   ]
  },
  {
   "cell_type": "code",
   "execution_count": 16,
   "metadata": {},
   "outputs": [
    {
     "data": {
      "image/png": "[encoded data removed]",
      "text/plain": [
       "<Figure size 432x288 with 1 Axes>"
      ]
     },
     "metadata": {},
     "output_type": "display_data"
    }
   ],
   "source": [
    "plt.rcParams['font.sans-serif'] = 'SimHei'\n",
    "plt.pie(num, autopct='%.2f%%', labels=num.index)\n",
    "plt.title('支付方式占比情况')\n",
    "plt.show()"
   ]
  },
  {
   "cell_type": "markdown",
   "metadata": {},
   "source": [
    "## 出货状态"
   ]
  },
  {
   "cell_type": "code",
   "execution_count": 17,
   "metadata": {},
   "outputs": [],
   "source": [
    "num = data['出货状态'].value_counts()"
   ]
  },
  {
   "cell_type": "code",
   "execution_count": 18,
   "metadata": {},
   "outputs": [
    {
     "data": {
      "image/png": "[encoded data removed]",
      "text/plain": [
       "<Figure size 432x288 with 1 Axes>"
      ]
     },
     "metadata": {},
     "output_type": "display_data"
    }
   ],
   "source": [
    "plt.pie(num,autopct='%.2f%%',labels=num.index)\n",
    "plt.title('出货状态占比情况')\n",
    "plt.show()"
   ]
  },
  {
   "cell_type": "code",
   "execution_count": 19,
   "metadata": {
    "scrolled": true
   },
   "outputs": [
    {
     "data": {
      "text/html": [
       "<div>\n",
       "<style scoped>\n",
       "    .dataframe tbody tr th:only-of-type {\n",
       "        vertical-align: middle;\n",
       "    }\n",
       "\n",
       "    .dataframe tbody tr th {\n",
       "        vertical-align: top;\n",
       "    }\n",
       "\n",
       "    .dataframe thead th {\n",
       "        text-align: right;\n",
       "    }\n",
       "</style>\n",
       "<table border=\"1\" class=\"dataframe\">\n",
       "  <thead>\n",
       "    <tr style=\"text-align: right;\">\n",
       "      <th></th>\n",
       "      <th>设备编号</th>\n",
       "      <th>下单时间</th>\n",
       "      <th>订单编号</th>\n",
       "      <th>购买数量(个)</th>\n",
       "      <th>手续费(元)</th>\n",
       "      <th>总金额(元)</th>\n",
       "      <th>支付状态</th>\n",
       "      <th>出货状态</th>\n",
       "      <th>收款方</th>\n",
       "      <th>退款金额(元)</th>\n",
       "      <th>购买用户</th>\n",
       "      <th>商品详情</th>\n",
       "      <th>省市区</th>\n",
       "      <th>软件版本</th>\n",
       "    </tr>\n",
       "  </thead>\n",
       "  <tbody>\n",
       "    <tr>\n",
       "      <th>55</th>\n",
       "      <td>112538</td>\n",
       "      <td>2018-04-30 17:16:24</td>\n",
       "      <td>112538qr15250797837585</td>\n",
       "      <td>1</td>\n",
       "      <td>0.04</td>\n",
       "      <td>4.0</td>\n",
       "      <td>微信</td>\n",
       "      <td>出货中</td>\n",
       "      <td>鑫零售结算</td>\n",
       "      <td>0.0</td>\n",
       "      <td>os-xL0njetHFwhYx7UIafQ9boMtg</td>\n",
       "      <td>营养快线X1;</td>\n",
       "      <td>广东省广州市番禺区</td>\n",
       "      <td>V3.0.37.2;rk3288(Root);(900x1440)</td>\n",
       "    </tr>\n",
       "    <tr>\n",
       "      <th>70</th>\n",
       "      <td>112538</td>\n",
       "      <td>2018-04-30 16:17:27</td>\n",
       "      <td>112538qr15250762465270</td>\n",
       "      <td>1</td>\n",
       "      <td>0.05</td>\n",
       "      <td>5.0</td>\n",
       "      <td>微信</td>\n",
       "      <td>出货中</td>\n",
       "      <td>鑫零售结算</td>\n",
       "      <td>0.0</td>\n",
       "      <td>os-xL0oM4zQIWbtB_BqHYJAkYjls</td>\n",
       "      <td>雀巢咖啡X1;</td>\n",
       "      <td>广东省广州市番禺区</td>\n",
       "      <td>V3.0.37.2;rk3288(Root);(900x1440)</td>\n",
       "    </tr>\n",
       "    <tr>\n",
       "      <th>94</th>\n",
       "      <td>112538</td>\n",
       "      <td>2018-04-30 15:00:24</td>\n",
       "      <td>112538qr15250716613388</td>\n",
       "      <td>1</td>\n",
       "      <td>0.02</td>\n",
       "      <td>2.0</td>\n",
       "      <td>微信</td>\n",
       "      <td>出货中</td>\n",
       "      <td>鑫零售结算</td>\n",
       "      <td>0.0</td>\n",
       "      <td>os-xL0idPQxTG2Nf0Xl6-5ETtBiE</td>\n",
       "      <td>孖髻山矿泉水X1;</td>\n",
       "      <td>广东省广州市番禺区</td>\n",
       "      <td>V3.0.37.2;rk3288(Root);(900x1440)</td>\n",
       "    </tr>\n",
       "    <tr>\n",
       "      <th>96</th>\n",
       "      <td>112538</td>\n",
       "      <td>2018-04-30 14:49:24</td>\n",
       "      <td>112538qr15250710012060</td>\n",
       "      <td>1</td>\n",
       "      <td>0.02</td>\n",
       "      <td>2.0</td>\n",
       "      <td>微信</td>\n",
       "      <td>出货中</td>\n",
       "      <td>鑫零售结算</td>\n",
       "      <td>0.0</td>\n",
       "      <td>os-xL0tQtrvrqtQkZU0kWlBdjTpk</td>\n",
       "      <td>孖髻山矿泉水X1;</td>\n",
       "      <td>广东省广州市番禺区</td>\n",
       "      <td>V3.0.37.2;rk3288(Root);(900x1440)</td>\n",
       "    </tr>\n",
       "    <tr>\n",
       "      <th>127</th>\n",
       "      <td>112538</td>\n",
       "      <td>2018-04-30 13:16:12</td>\n",
       "      <td>112538qr15250654108298</td>\n",
       "      <td>1</td>\n",
       "      <td>0.04</td>\n",
       "      <td>4.0</td>\n",
       "      <td>微信</td>\n",
       "      <td>出货中</td>\n",
       "      <td>鑫零售结算</td>\n",
       "      <td>0.0</td>\n",
       "      <td>os-xL0n6VZp2xjvtWOqwMytAxX-k</td>\n",
       "      <td>东鹏特饮X1;</td>\n",
       "      <td>广东省广州市番禺区</td>\n",
       "      <td>V3.0.37.2;rk3288(Root);(900x1440)</td>\n",
       "    </tr>\n",
       "    <tr>\n",
       "      <th>...</th>\n",
       "      <td>...</td>\n",
       "      <td>...</td>\n",
       "      <td>...</td>\n",
       "      <td>...</td>\n",
       "      <td>...</td>\n",
       "      <td>...</td>\n",
       "      <td>...</td>\n",
       "      <td>...</td>\n",
       "      <td>...</td>\n",
       "      <td>...</td>\n",
       "      <td>...</td>\n",
       "      <td>...</td>\n",
       "      <td>...</td>\n",
       "      <td>...</td>\n",
       "    </tr>\n",
       "    <tr>\n",
       "      <th>304850</th>\n",
       "      <td>112541</td>\n",
       "      <td>2018-09-01 10:20:14</td>\n",
       "      <td>112541qr15357685424806</td>\n",
       "      <td>1</td>\n",
       "      <td>0.03</td>\n",
       "      <td>3.0</td>\n",
       "      <td>支付宝</td>\n",
       "      <td>出货失败</td>\n",
       "      <td>平台</td>\n",
       "      <td>0.0</td>\n",
       "      <td>os-xL0tkm-RRQOwh_508o8ynR-xo</td>\n",
       "      <td>孖髻山矿泉水X1</td>\n",
       "      <td>广东省珠海市香洲区</td>\n",
       "      <td>V3.0.33;rk3288(Root);(900x1440)</td>\n",
       "    </tr>\n",
       "    <tr>\n",
       "      <th>304994</th>\n",
       "      <td>112541</td>\n",
       "      <td>2018-09-01 08:37:02</td>\n",
       "      <td>112541qr15357623067252</td>\n",
       "      <td>1</td>\n",
       "      <td>0.05</td>\n",
       "      <td>5.0</td>\n",
       "      <td>微信</td>\n",
       "      <td>出货失败</td>\n",
       "      <td>平台</td>\n",
       "      <td>0.0</td>\n",
       "      <td>os-xL0g3BcAnm90DXWF8LkpTShoo</td>\n",
       "      <td>黄油蛋糕X1</td>\n",
       "      <td>广东省珠海市香洲区</td>\n",
       "      <td>V3.0.33;rk3288(Root);(900x1440)</td>\n",
       "    </tr>\n",
       "    <tr>\n",
       "      <th>304998</th>\n",
       "      <td>112797</td>\n",
       "      <td>2018-09-01 08:34:50</td>\n",
       "      <td>112797qr15357621516164</td>\n",
       "      <td>1</td>\n",
       "      <td>0.04</td>\n",
       "      <td>3.8</td>\n",
       "      <td>微信</td>\n",
       "      <td>出货失败</td>\n",
       "      <td>平台</td>\n",
       "      <td>0.0</td>\n",
       "      <td>os-xL0n1kcOHOuurpVdZHyKQewUE</td>\n",
       "      <td>银鹭花生牛奶X1</td>\n",
       "      <td>广东省东莞市</td>\n",
       "      <td>V3.0.33;rk3288(Root);(900x1440)</td>\n",
       "    </tr>\n",
       "    <tr>\n",
       "      <th>305095</th>\n",
       "      <td>112541</td>\n",
       "      <td>2018-09-01 07:10:45</td>\n",
       "      <td>112541qr15357571791943</td>\n",
       "      <td>2</td>\n",
       "      <td>0.06</td>\n",
       "      <td>6.0</td>\n",
       "      <td>微信</td>\n",
       "      <td>出货失败</td>\n",
       "      <td>平台</td>\n",
       "      <td>0.0</td>\n",
       "      <td>os-xL0qxa0Vc7YkTN45I5pA4Zgbg</td>\n",
       "      <td>孖髻山矿泉水X1,孖髻山矿泉水X1</td>\n",
       "      <td>广东省珠海市香洲区</td>\n",
       "      <td>V3.0.33;rk3288(Root);(900x1440)</td>\n",
       "    </tr>\n",
       "    <tr>\n",
       "      <th>305254</th>\n",
       "      <td>112797</td>\n",
       "      <td>2018-09-01 00:46:35</td>\n",
       "      <td>112797qr15357340615337</td>\n",
       "      <td>3</td>\n",
       "      <td>0.18</td>\n",
       "      <td>17.6</td>\n",
       "      <td>微信</td>\n",
       "      <td>出货失败</td>\n",
       "      <td>平台</td>\n",
       "      <td>0.0</td>\n",
       "      <td>os-xL0iRa_oqAXElrjmGB2j0VBnk</td>\n",
       "      <td>银鹭花生牛奶X1,口味王（绿）X1,康师傅香菇炖鸡面X1</td>\n",
       "      <td>广东省东莞市</td>\n",
       "      <td>V3.0.33;rk3288(Root);(900x1440)</td>\n",
       "    </tr>\n",
       "  </tbody>\n",
       "</table>\n",
       "<p>7495 rows × 14 columns</p>\n",
       "</div>"
      ],
      "text/plain": [
       "          设备编号                 下单时间                    订单编号  购买数量(个)  手续费(元)  \\\n",
       "55      112538  2018-04-30 17:16:24  112538qr15250797837585        1    0.04   \n",
       "70      112538  2018-04-30 16:17:27  112538qr15250762465270        1    0.05   \n",
       "94      112538  2018-04-30 15:00:24  112538qr15250716613388        1    0.02   \n",
       "96      112538  2018-04-30 14:49:24  112538qr15250710012060        1    0.02   \n",
       "127     112538  2018-04-30 13:16:12  112538qr15250654108298        1    0.04   \n",
       "...        ...                  ...                     ...      ...     ...   \n",
       "304850  112541  2018-09-01 10:20:14  112541qr15357685424806        1    0.03   \n",
       "304994  112541  2018-09-01 08:37:02  112541qr15357623067252        1    0.05   \n",
       "304998  112797  2018-09-01 08:34:50  112797qr15357621516164        1    0.04   \n",
       "305095  112541  2018-09-01 07:10:45  112541qr15357571791943        2    0.06   \n",
       "305254  112797  2018-09-01 00:46:35  112797qr15357340615337        3    0.18   \n",
       "\n",
       "        总金额(元) 支付状态  出货状态    收款方  退款金额(元)                          购买用户  \\\n",
       "55         4.0   微信   出货中  鑫零售结算      0.0  os-xL0njetHFwhYx7UIafQ9boMtg   \n",
       "70         5.0   微信   出货中  鑫零售结算      0.0  os-xL0oM4zQIWbtB_BqHYJAkYjls   \n",
       "94         2.0   微信   出货中  鑫零售结算      0.0  os-xL0idPQxTG2Nf0Xl6-5ETtBiE   \n",
       "96         2.0   微信   出货中  鑫零售结算      0.0  os-xL0tQtrvrqtQkZU0kWlBdjTpk   \n",
       "127        4.0   微信   出货中  鑫零售结算      0.0  os-xL0n6VZp2xjvtWOqwMytAxX-k   \n",
       "...        ...  ...   ...    ...      ...                           ...   \n",
       "304850     3.0  支付宝  出货失败     平台      0.0  os-xL0tkm-RRQOwh_508o8ynR-xo   \n",
       "304994     5.0   微信  出货失败     平台      0.0  os-xL0g3BcAnm90DXWF8LkpTShoo   \n",
       "304998     3.8   微信  出货失败     平台      0.0  os-xL0n1kcOHOuurpVdZHyKQewUE   \n",
       "305095     6.0   微信  出货失败     平台      0.0  os-xL0qxa0Vc7YkTN45I5pA4Zgbg   \n",
       "305254    17.6   微信  出货失败     平台      0.0  os-xL0iRa_oqAXElrjmGB2j0VBnk   \n",
       "\n",
       "                                商品详情        省市区  \\\n",
       "55                           营养快线X1;  广东省广州市番禺区   \n",
       "70                           雀巢咖啡X1;  广东省广州市番禺区   \n",
       "94                         孖髻山矿泉水X1;  广东省广州市番禺区   \n",
       "96                         孖髻山矿泉水X1;  广东省广州市番禺区   \n",
       "127                          东鹏特饮X1;  广东省广州市番禺区   \n",
       "...                              ...        ...   \n",
       "304850                      孖髻山矿泉水X1  广东省珠海市香洲区   \n",
       "304994                        黄油蛋糕X1  广东省珠海市香洲区   \n",
       "304998                      银鹭花生牛奶X1     广东省东莞市   \n",
       "305095             孖髻山矿泉水X1,孖髻山矿泉水X1  广东省珠海市香洲区   \n",
       "305254  银鹭花生牛奶X1,口味王（绿）X1,康师傅香菇炖鸡面X1     广东省东莞市   \n",
       "\n",
       "                                     软件版本  \n",
       "55      V3.0.37.2;rk3288(Root);(900x1440)  \n",
       "70      V3.0.37.2;rk3288(Root);(900x1440)  \n",
       "94      V3.0.37.2;rk3288(Root);(900x1440)  \n",
       "96      V3.0.37.2;rk3288(Root);(900x1440)  \n",
       "127     V3.0.37.2;rk3288(Root);(900x1440)  \n",
       "...                                   ...  \n",
       "304850    V3.0.33;rk3288(Root);(900x1440)  \n",
       "304994    V3.0.33;rk3288(Root);(900x1440)  \n",
       "304998    V3.0.33;rk3288(Root);(900x1440)  \n",
       "305095    V3.0.33;rk3288(Root);(900x1440)  \n",
       "305254    V3.0.33;rk3288(Root);(900x1440)  \n",
       "\n",
       "[7495 rows x 14 columns]"
      ]
     },
     "execution_count": 19,
     "metadata": {},
     "output_type": "execute_result"
    }
   ],
   "source": [
    "ind = data['出货状态'] != '出货成功'\n",
    "data.loc[ind, :]"
   ]
  },
  {
   "cell_type": "markdown",
   "metadata": {},
   "source": [
    "## 收款方"
   ]
  },
  {
   "cell_type": "code",
   "execution_count": 20,
   "metadata": {},
   "outputs": [
    {
     "data": {
      "text/plain": [
       "平台            236562\n",
       "鑫零售结算          59822\n",
       "售货机自收           5128\n",
       "售货机自收(鑫零售)      3573\n",
       "Name: 收款方, dtype: int64"
      ]
     },
     "execution_count": 20,
     "metadata": {},
     "output_type": "execute_result"
    }
   ],
   "source": [
    "data['收款方'].value_counts()"
   ]
  },
  {
   "cell_type": "code",
   "execution_count": 21,
   "metadata": {},
   "outputs": [
    {
     "data": {
      "text/html": [
       "<div>\n",
       "<style scoped>\n",
       "    .dataframe tbody tr th:only-of-type {\n",
       "        vertical-align: middle;\n",
       "    }\n",
       "\n",
       "    .dataframe tbody tr th {\n",
       "        vertical-align: top;\n",
       "    }\n",
       "\n",
       "    .dataframe thead th {\n",
       "        text-align: right;\n",
       "    }\n",
       "</style>\n",
       "<table border=\"1\" class=\"dataframe\">\n",
       "  <thead>\n",
       "    <tr style=\"text-align: right;\">\n",
       "      <th></th>\n",
       "      <th>设备编号</th>\n",
       "      <th>下单时间</th>\n",
       "      <th>订单编号</th>\n",
       "      <th>购买数量(个)</th>\n",
       "      <th>手续费(元)</th>\n",
       "      <th>总金额(元)</th>\n",
       "      <th>支付状态</th>\n",
       "      <th>出货状态</th>\n",
       "      <th>收款方</th>\n",
       "      <th>退款金额(元)</th>\n",
       "      <th>购买用户</th>\n",
       "      <th>商品详情</th>\n",
       "      <th>省市区</th>\n",
       "      <th>软件版本</th>\n",
       "    </tr>\n",
       "  </thead>\n",
       "  <tbody>\n",
       "    <tr>\n",
       "      <th>691</th>\n",
       "      <td>112688</td>\n",
       "      <td>2018-04-27 21:01:17</td>\n",
       "      <td>112688dc15248340775681sd</td>\n",
       "      <td>1</td>\n",
       "      <td>0.0</td>\n",
       "      <td>1.0</td>\n",
       "      <td>现金</td>\n",
       "      <td>出货成功</td>\n",
       "      <td>售货机自收</td>\n",
       "      <td>0.0</td>\n",
       "      <td>os-xL0r0norIHZIXR-b3IIsTlUeo</td>\n",
       "      <td>三利和 酱香鱼X1;</td>\n",
       "      <td>广东省广州市番禺区</td>\n",
       "      <td>V3.0.37;rk3288(Root);(900x1440)</td>\n",
       "    </tr>\n",
       "    <tr>\n",
       "      <th>692</th>\n",
       "      <td>112688</td>\n",
       "      <td>2018-04-27 21:01:12</td>\n",
       "      <td>112688dc15248340725476sd</td>\n",
       "      <td>1</td>\n",
       "      <td>0.0</td>\n",
       "      <td>1.0</td>\n",
       "      <td>现金</td>\n",
       "      <td>出货成功</td>\n",
       "      <td>售货机自收</td>\n",
       "      <td>0.0</td>\n",
       "      <td>os-xL0jUgsEyh2--jclioyLDLyAw</td>\n",
       "      <td>三利和 酱香鱼X1;</td>\n",
       "      <td>广东省广州市番禺区</td>\n",
       "      <td>V3.0.37;rk3288(Root);(900x1440)</td>\n",
       "    </tr>\n",
       "    <tr>\n",
       "      <th>715</th>\n",
       "      <td>112688</td>\n",
       "      <td>2018-04-27 19:33:45</td>\n",
       "      <td>112688dc15248288255496sd</td>\n",
       "      <td>1</td>\n",
       "      <td>0.0</td>\n",
       "      <td>1.0</td>\n",
       "      <td>现金</td>\n",
       "      <td>出货失败</td>\n",
       "      <td>售货机自收</td>\n",
       "      <td>0.0</td>\n",
       "      <td>os-xL0i7ZfI356CEDjBBeanyqKwU</td>\n",
       "      <td>三利和 酱香鱼X1;</td>\n",
       "      <td>广东省广州市番禺区</td>\n",
       "      <td>V3.0.37.2;rk3288(Root);(900x1440)</td>\n",
       "    </tr>\n",
       "    <tr>\n",
       "      <th>2076</th>\n",
       "      <td>112077</td>\n",
       "      <td>2018-04-03 16:59:20</td>\n",
       "      <td>112077dc15227459603052</td>\n",
       "      <td>1</td>\n",
       "      <td>0.0</td>\n",
       "      <td>50.5</td>\n",
       "      <td>现金</td>\n",
       "      <td>出货成功</td>\n",
       "      <td>售货机自收</td>\n",
       "      <td>0.0</td>\n",
       "      <td>os-xL0uXe442H3oJrMw6ciY78BGM</td>\n",
       "      <td>15X1;</td>\n",
       "      <td>广东省广州市天河区</td>\n",
       "      <td>V3.0.37;rk3288(Root);(900x1440)</td>\n",
       "    </tr>\n",
       "    <tr>\n",
       "      <th>2077</th>\n",
       "      <td>112077</td>\n",
       "      <td>2018-04-03 16:55:35</td>\n",
       "      <td>112077dc15227457353503</td>\n",
       "      <td>1</td>\n",
       "      <td>0.0</td>\n",
       "      <td>50.5</td>\n",
       "      <td>现金</td>\n",
       "      <td>出货成功</td>\n",
       "      <td>售货机自收</td>\n",
       "      <td>0.0</td>\n",
       "      <td>os-xL0kg7opE8zl7xVTOVbbpbXFo</td>\n",
       "      <td>15X1;</td>\n",
       "      <td>广东省广州市天河区</td>\n",
       "      <td>V3.0.37;rk3288(Root);(900x1440)</td>\n",
       "    </tr>\n",
       "    <tr>\n",
       "      <th>...</th>\n",
       "      <td>...</td>\n",
       "      <td>...</td>\n",
       "      <td>...</td>\n",
       "      <td>...</td>\n",
       "      <td>...</td>\n",
       "      <td>...</td>\n",
       "      <td>...</td>\n",
       "      <td>...</td>\n",
       "      <td>...</td>\n",
       "      <td>...</td>\n",
       "      <td>...</td>\n",
       "      <td>...</td>\n",
       "      <td>...</td>\n",
       "      <td>...</td>\n",
       "    </tr>\n",
       "    <tr>\n",
       "      <th>305291</th>\n",
       "      <td>113595</td>\n",
       "      <td>2018-09-01 00:06:32</td>\n",
       "      <td>113595qr15357315927198</td>\n",
       "      <td>1</td>\n",
       "      <td>0.0</td>\n",
       "      <td>3.0</td>\n",
       "      <td>微信</td>\n",
       "      <td>出货成功</td>\n",
       "      <td>售货机自收</td>\n",
       "      <td>0.0</td>\n",
       "      <td>os-xL0vZR50zo54Ra4vflWZnakNE</td>\n",
       "      <td>维他奶X1</td>\n",
       "      <td>广东省广州市黄埔区</td>\n",
       "      <td>V3.0.33;rk3288(Root);(900x1440)</td>\n",
       "    </tr>\n",
       "    <tr>\n",
       "      <th>305292</th>\n",
       "      <td>113612</td>\n",
       "      <td>2018-09-01 00:05:07</td>\n",
       "      <td>113612dc15357315071312</td>\n",
       "      <td>2</td>\n",
       "      <td>0.0</td>\n",
       "      <td>7.0</td>\n",
       "      <td>现金</td>\n",
       "      <td>出货成功</td>\n",
       "      <td>售货机自收</td>\n",
       "      <td>0.0</td>\n",
       "      <td>os-xL0ruwb3He3YesRdWgKSYAY_U</td>\n",
       "      <td>伊利麦香味早餐奶X1,伊利麦香味早餐奶X1</td>\n",
       "      <td>广东省东莞市</td>\n",
       "      <td>V3.0.37.2;rk3288(Root);(900x1440)</td>\n",
       "    </tr>\n",
       "    <tr>\n",
       "      <th>305294</th>\n",
       "      <td>113595</td>\n",
       "      <td>2018-09-01 00:03:23</td>\n",
       "      <td>113595qr15357314037541</td>\n",
       "      <td>1</td>\n",
       "      <td>0.0</td>\n",
       "      <td>3.0</td>\n",
       "      <td>支付宝</td>\n",
       "      <td>出货成功</td>\n",
       "      <td>售货机自收</td>\n",
       "      <td>0.0</td>\n",
       "      <td>os-xL0k6uvMPCIFL8n9-bATPop2o</td>\n",
       "      <td>瓶装可口可乐X1</td>\n",
       "      <td>广东省广州市黄埔区</td>\n",
       "      <td>V3.0.33;rk3288(Root);(900x1440)</td>\n",
       "    </tr>\n",
       "    <tr>\n",
       "      <th>305298</th>\n",
       "      <td>113595</td>\n",
       "      <td>2018-09-01 00:01:56</td>\n",
       "      <td>113595qr15357313164791</td>\n",
       "      <td>1</td>\n",
       "      <td>0.0</td>\n",
       "      <td>2.5</td>\n",
       "      <td>微信</td>\n",
       "      <td>出货成功</td>\n",
       "      <td>售货机自收</td>\n",
       "      <td>0.0</td>\n",
       "      <td>os-xL0lmdMczOP1MGhwOXJJrPMgM</td>\n",
       "      <td>罐装康师傅冰红茶X1</td>\n",
       "      <td>广东省广州市黄埔区</td>\n",
       "      <td>V3.0.33;rk3288(Root);(900x1440)</td>\n",
       "    </tr>\n",
       "    <tr>\n",
       "      <th>305299</th>\n",
       "      <td>113595</td>\n",
       "      <td>2018-09-01 00:00:35</td>\n",
       "      <td>113595qr15357312353730</td>\n",
       "      <td>1</td>\n",
       "      <td>0.0</td>\n",
       "      <td>3.5</td>\n",
       "      <td>微信</td>\n",
       "      <td>出货成功</td>\n",
       "      <td>售货机自收</td>\n",
       "      <td>0.0</td>\n",
       "      <td>os-xL0vsg4z49fMSveG5KrmJOEHs</td>\n",
       "      <td>海苔味薯片饼干X1</td>\n",
       "      <td>广东省广州市黄埔区</td>\n",
       "      <td>V3.0.33;rk3288(Root);(900x1440)</td>\n",
       "    </tr>\n",
       "  </tbody>\n",
       "</table>\n",
       "<p>5128 rows × 14 columns</p>\n",
       "</div>"
      ],
      "text/plain": [
       "          设备编号                 下单时间                      订单编号  购买数量(个)  \\\n",
       "691     112688  2018-04-27 21:01:17  112688dc15248340775681sd        1   \n",
       "692     112688  2018-04-27 21:01:12  112688dc15248340725476sd        1   \n",
       "715     112688  2018-04-27 19:33:45  112688dc15248288255496sd        1   \n",
       "2076    112077  2018-04-03 16:59:20    112077dc15227459603052        1   \n",
       "2077    112077  2018-04-03 16:55:35    112077dc15227457353503        1   \n",
       "...        ...                  ...                       ...      ...   \n",
       "305291  113595  2018-09-01 00:06:32    113595qr15357315927198        1   \n",
       "305292  113612  2018-09-01 00:05:07    113612dc15357315071312        2   \n",
       "305294  113595  2018-09-01 00:03:23    113595qr15357314037541        1   \n",
       "305298  113595  2018-09-01 00:01:56    113595qr15357313164791        1   \n",
       "305299  113595  2018-09-01 00:00:35    113595qr15357312353730        1   \n",
       "\n",
       "        手续费(元)  总金额(元) 支付状态  出货状态    收款方  退款金额(元)  \\\n",
       "691        0.0     1.0   现金  出货成功  售货机自收      0.0   \n",
       "692        0.0     1.0   现金  出货成功  售货机自收      0.0   \n",
       "715        0.0     1.0   现金  出货失败  售货机自收      0.0   \n",
       "2076       0.0    50.5   现金  出货成功  售货机自收      0.0   \n",
       "2077       0.0    50.5   现金  出货成功  售货机自收      0.0   \n",
       "...        ...     ...  ...   ...    ...      ...   \n",
       "305291     0.0     3.0   微信  出货成功  售货机自收      0.0   \n",
       "305292     0.0     7.0   现金  出货成功  售货机自收      0.0   \n",
       "305294     0.0     3.0  支付宝  出货成功  售货机自收      0.0   \n",
       "305298     0.0     2.5   微信  出货成功  售货机自收      0.0   \n",
       "305299     0.0     3.5   微信  出货成功  售货机自收      0.0   \n",
       "\n",
       "                                购买用户                   商品详情        省市区  \\\n",
       "691     os-xL0r0norIHZIXR-b3IIsTlUeo             三利和 酱香鱼X1;  广东省广州市番禺区   \n",
       "692     os-xL0jUgsEyh2--jclioyLDLyAw             三利和 酱香鱼X1;  广东省广州市番禺区   \n",
       "715     os-xL0i7ZfI356CEDjBBeanyqKwU             三利和 酱香鱼X1;  广东省广州市番禺区   \n",
       "2076    os-xL0uXe442H3oJrMw6ciY78BGM                  15X1;  广东省广州市天河区   \n",
       "2077    os-xL0kg7opE8zl7xVTOVbbpbXFo                  15X1;  广东省广州市天河区   \n",
       "...                              ...                    ...        ...   \n",
       "305291  os-xL0vZR50zo54Ra4vflWZnakNE                  维他奶X1  广东省广州市黄埔区   \n",
       "305292  os-xL0ruwb3He3YesRdWgKSYAY_U  伊利麦香味早餐奶X1,伊利麦香味早餐奶X1     广东省东莞市   \n",
       "305294  os-xL0k6uvMPCIFL8n9-bATPop2o               瓶装可口可乐X1  广东省广州市黄埔区   \n",
       "305298  os-xL0lmdMczOP1MGhwOXJJrPMgM             罐装康师傅冰红茶X1  广东省广州市黄埔区   \n",
       "305299  os-xL0vsg4z49fMSveG5KrmJOEHs              海苔味薯片饼干X1  广东省广州市黄埔区   \n",
       "\n",
       "                                     软件版本  \n",
       "691       V3.0.37;rk3288(Root);(900x1440)  \n",
       "692       V3.0.37;rk3288(Root);(900x1440)  \n",
       "715     V3.0.37.2;rk3288(Root);(900x1440)  \n",
       "2076      V3.0.37;rk3288(Root);(900x1440)  \n",
       "2077      V3.0.37;rk3288(Root);(900x1440)  \n",
       "...                                   ...  \n",
       "305291    V3.0.33;rk3288(Root);(900x1440)  \n",
       "305292  V3.0.37.2;rk3288(Root);(900x1440)  \n",
       "305294    V3.0.33;rk3288(Root);(900x1440)  \n",
       "305298    V3.0.33;rk3288(Root);(900x1440)  \n",
       "305299    V3.0.33;rk3288(Root);(900x1440)  \n",
       "\n",
       "[5128 rows x 14 columns]"
      ]
     },
     "execution_count": 21,
     "metadata": {},
     "output_type": "execute_result"
    }
   ],
   "source": [
    "ind = data['收款方'] == '售货机自收'\n",
    "data.loc[ind, :]"
   ]
  },
  {
   "cell_type": "markdown",
   "metadata": {},
   "source": [
    "## 省市区"
   ]
  },
  {
   "cell_type": "code",
   "execution_count": 22,
   "metadata": {},
   "outputs": [
    {
     "data": {
      "text/plain": [
       "广东省中山市       73143\n",
       "广东省东莞市       69120\n",
       "广东省广州市番禺区    39630\n",
       "广东省广州市白云区    22704\n",
       "广东省广州市天河区    20499\n",
       "广东省广州市越秀区    18540\n",
       "广东省珠海市香洲区    11725\n",
       "广东省佛山市南海区     8915\n",
       "广东省深圳市龙岗区     8521\n",
       "广东省广州市海珠区     5110\n",
       "广东省韶关市武江区     4187\n",
       "广东省广州市从化区     3677\n",
       "广东省深圳市        3507\n",
       "广东省广州市花都区     3470\n",
       "广东省佛山市顺德区     2843\n",
       "广东省广州市荔湾区     2458\n",
       "广东省广州市黄埔区     1966\n",
       "广东省佛山市禅城区     1565\n",
       "广东省广州市增城区     1397\n",
       "广东省广州市         971\n",
       "广东省佛山市         711\n",
       "广东省广州市南沙区      505\n",
       "广东省清远市清城区      136\n",
       "Name: 省市区, dtype: int64"
      ]
     },
     "execution_count": 22,
     "metadata": {},
     "output_type": "execute_result"
    }
   ],
   "source": [
    "data['省市区'].value_counts()"
   ]
  },
  {
   "cell_type": "markdown",
   "metadata": {},
   "source": [
    "# 数据预处理"
   ]
  },
  {
   "cell_type": "markdown",
   "metadata": {},
   "source": [
    "## 下单时间修改为时间格式的数据"
   ]
  },
  {
   "cell_type": "code",
   "execution_count": 23,
   "metadata": {},
   "outputs": [
    {
     "data": {
      "text/plain": [
       "0         0\n",
       "1         0\n",
       "2         0\n",
       "3         0\n",
       "4         0\n",
       "         ..\n",
       "305295    5\n",
       "305296    5\n",
       "305297    5\n",
       "305298    5\n",
       "305299    5\n",
       "Name: 下单时间, Length: 305300, dtype: int64"
      ]
     },
     "execution_count": 23,
     "metadata": {},
     "output_type": "execute_result"
    }
   ],
   "source": [
    "data['下单时间'] = pd.to_datetime(data['下单时间'])\n",
    "data['下单时间'].dt.weekday"
   ]
  },
  {
   "cell_type": "markdown",
   "metadata": {},
   "source": [
    "## 出货状态只保留\"出货成功\"的数据"
   ]
  },
  {
   "cell_type": "code",
   "execution_count": 24,
   "metadata": {},
   "outputs": [
    {
     "data": {
      "text/plain": [
       "(297805, 14)"
      ]
     },
     "execution_count": 24,
     "metadata": {},
     "output_type": "execute_result"
    }
   ],
   "source": [
    "ind = data['出货状态'] == '出货成功'\n",
    "data2 = data.loc[ind, :]\n",
    "data2.shape"
   ]
  },
  {
   "cell_type": "markdown",
   "metadata": {},
   "source": [
    "## 提取城市信息"
   ]
  },
  {
   "cell_type": "code",
   "execution_count": 25,
   "metadata": {},
   "outputs": [],
   "source": [
    "data2['city'] = data2['省市区'].apply(lambda x: re.findall('.{2}市', x)[0])\n",
    "# data2['省市区'].apply(lambda x: re.findall('省(.+市)', x)[0])"
   ]
  },
  {
   "cell_type": "code",
   "execution_count": 26,
   "metadata": {},
   "outputs": [
    {
     "data": {
      "text/plain": [
       "广州市    118720\n",
       "中山市     69621\n",
       "东莞市     68124\n",
       "佛山市     13845\n",
       "深圳市     11937\n",
       "珠海市     11309\n",
       "韶关市      4122\n",
       "清远市       127\n",
       "Name: city, dtype: int64"
      ]
     },
     "execution_count": 26,
     "metadata": {},
     "output_type": "execute_result"
    }
   ],
   "source": [
    "data2['city'].value_counts()"
   ]
  },
  {
   "cell_type": "markdown",
   "metadata": {},
   "source": [
    "## 商品名称更新"
   ]
  },
  {
   "cell_type": "code",
   "execution_count": 27,
   "metadata": {},
   "outputs": [],
   "source": [
    "data2['商品详情'] = data2['商品详情'].str.replace('百事可以', '百事可乐')\n",
    "data2['商品详情'] = data2['商品详情'].str.replace('苿莉花茶', '茉莉花茶')\n",
    "data2['商品详情'] = data2['商品详情'].str.replace('茶TT', '茶π')\n",
    "data2['商品详情'] = data2['商品详情'].str.replace('nl', '')\n",
    "data2['商品详情'] = data2['商品详情'].str.replace('毫升', '')\n",
    "data2['商品详情'] = data2['商品详情'].str.replace('乐事薯片', '乐事')\n",
    "data2['商品详情'] = data2['商品详情'].apply(lambda x: re.sub('（[^;,xX]+）?|[罐瓶盒]装?|', '', x))\n",
    "data2['商品详情'] = data2['商品详情'].str.replace('马蒂爽', '马蹄爽')\n",
    "data2['商品详情'] = data2['商品详情'].str.replace('鲜蘑豆奶', '鲜磨豆奶')\n",
    "data2['商品详情'] = data2['商品详情'].apply(lambda x: re.sub('广氏菠萝啤|廣式菠萝啤|菠萝啤酒', '菠萝啤', x))\n",
    "data2['商品详情'] = data2['商品详情'].str.replace('威化瓶干', '威化饼干')\n",
    "data2['商品详情'] = data2['商品详情'].str.replace('康师父', '康师傅')\n",
    "data2['商品详情'] = data2['商品详情'].str.replace('张三疯', '张三丰')\n",
    "data2['商品详情'] = data2['商品详情'].str.replace('蓝莓味', '蓝莓')\n",
    "data2['商品详情'] = data2['商品详情'].str.replace('西柚味', '西柚')\n",
    "data2['商品详情'] = data2['商品详情'].str.replace('柠檬味', '柠檬')\n",
    "data2['商品详情'] = data2['商品详情'].apply(lambda x: re.sub('水蜜桃[^;,xX]+', '蜜桃', x))\n",
    "data2['商品详情'] = data2['商品详情'].apply(lambda x: re.sub('青柠[^;,xX]+', '青柠', x))\n",
    "data2['商品详情'] = data2['商品详情'].str.upper()\n",
    "data2['商品详情'] = data2['商品详情'].str.replace('ML', '')"
   ]
  },
  {
   "cell_type": "markdown",
   "metadata": {},
   "source": [
    "## 提取商品名称及数量"
   ]
  },
  {
   "cell_type": "code",
   "execution_count": 28,
   "metadata": {},
   "outputs": [
    {
     "data": {
      "text/html": [
       "<div>\n",
       "<style scoped>\n",
       "    .dataframe tbody tr th:only-of-type {\n",
       "        vertical-align: middle;\n",
       "    }\n",
       "\n",
       "    .dataframe tbody tr th {\n",
       "        vertical-align: top;\n",
       "    }\n",
       "\n",
       "    .dataframe thead th {\n",
       "        text-align: right;\n",
       "    }\n",
       "</style>\n",
       "<table border=\"1\" class=\"dataframe\">\n",
       "  <thead>\n",
       "    <tr style=\"text-align: right;\">\n",
       "      <th></th>\n",
       "      <th>goods</th>\n",
       "      <th>numbers</th>\n",
       "    </tr>\n",
       "  </thead>\n",
       "  <tbody>\n",
       "    <tr>\n",
       "      <th>0</th>\n",
       "      <td>[可口可乐]</td>\n",
       "      <td>[1]</td>\n",
       "    </tr>\n",
       "    <tr>\n",
       "      <th>1</th>\n",
       "      <td>[旺仔牛奶]</td>\n",
       "      <td>[1]</td>\n",
       "    </tr>\n",
       "    <tr>\n",
       "      <th>2</th>\n",
       "      <td>[雪碧330]</td>\n",
       "      <td>[1]</td>\n",
       "    </tr>\n",
       "    <tr>\n",
       "      <th>3</th>\n",
       "      <td>[阿萨姆奶茶]</td>\n",
       "      <td>[1]</td>\n",
       "    </tr>\n",
       "    <tr>\n",
       "      <th>4</th>\n",
       "      <td>[王老吉]</td>\n",
       "      <td>[1]</td>\n",
       "    </tr>\n",
       "  </tbody>\n",
       "</table>\n",
       "</div>"
      ],
      "text/plain": [
       "     goods numbers\n",
       "0   [可口可乐]     [1]\n",
       "1   [旺仔牛奶]     [1]\n",
       "2  [雪碧330]     [1]\n",
       "3  [阿萨姆奶茶]     [1]\n",
       "4    [王老吉]     [1]"
      ]
     },
     "execution_count": 28,
     "metadata": {},
     "output_type": "execute_result"
    }
   ],
   "source": [
    "t = data2['商品详情'].apply(lambda x: re.findall('([^,;xX]+) ?[Xx]([0-9]{1,2})', x))\n",
    "from tkinter import _flatten\n",
    "goods = t.apply(lambda x: list(_flatten(x))[::2])\n",
    "numbers = t.apply(lambda x: list(_flatten(x))[1::2])\n",
    "goods_data = pd.DataFrame({'goods': goods, 'numbers': numbers})\n",
    "goods_data.head()"
   ]
  },
  {
   "cell_type": "code",
   "execution_count": 29,
   "metadata": {},
   "outputs": [],
   "source": [
    " #goods_data.to_csv('./goods_data.csv')"
   ]
  },
  {
   "cell_type": "code",
   "execution_count": 30,
   "metadata": {},
   "outputs": [
    {
     "data": {
      "text/html": [
       "<div>\n",
       "<style scoped>\n",
       "    .dataframe tbody tr th:only-of-type {\n",
       "        vertical-align: middle;\n",
       "    }\n",
       "\n",
       "    .dataframe tbody tr th {\n",
       "        vertical-align: top;\n",
       "    }\n",
       "\n",
       "    .dataframe thead th {\n",
       "        text-align: right;\n",
       "    }\n",
       "</style>\n",
       "<table border=\"1\" class=\"dataframe\">\n",
       "  <thead>\n",
       "    <tr style=\"text-align: right;\">\n",
       "      <th></th>\n",
       "      <th>产品名称</th>\n",
       "      <th>购买数量</th>\n",
       "    </tr>\n",
       "  </thead>\n",
       "  <tbody>\n",
       "    <tr>\n",
       "      <th>0</th>\n",
       "      <td>可口可乐</td>\n",
       "      <td>1</td>\n",
       "    </tr>\n",
       "    <tr>\n",
       "      <th>1</th>\n",
       "      <td>旺仔牛奶</td>\n",
       "      <td>1</td>\n",
       "    </tr>\n",
       "    <tr>\n",
       "      <th>2</th>\n",
       "      <td>雪碧330</td>\n",
       "      <td>1</td>\n",
       "    </tr>\n",
       "    <tr>\n",
       "      <th>3</th>\n",
       "      <td>阿萨姆奶茶</td>\n",
       "      <td>1</td>\n",
       "    </tr>\n",
       "    <tr>\n",
       "      <th>4</th>\n",
       "      <td>王老吉</td>\n",
       "      <td>1</td>\n",
       "    </tr>\n",
       "  </tbody>\n",
       "</table>\n",
       "</div>"
      ],
      "text/plain": [
       "    产品名称 购买数量\n",
       "0   可口可乐    1\n",
       "1   旺仔牛奶    1\n",
       "2  雪碧330    1\n",
       "3  阿萨姆奶茶    1\n",
       "4    王老吉    1"
      ]
     },
     "execution_count": 30,
     "metadata": {},
     "output_type": "execute_result"
    }
   ],
   "source": [
    "names = _flatten(list(goods_data['goods']))\n",
    "num = _flatten(list(goods_data['numbers']))\n",
    "new_goods_data = pd.DataFrame({'产品名称': names, '购买数量': num})\n",
    "new_goods_data.head()"
   ]
  },
  {
   "cell_type": "code",
   "execution_count": 31,
   "metadata": {},
   "outputs": [],
   "source": [
    "new_goods_data['产品名称'].sort_values().drop_duplicates().to_csv('./goods.csv')"
   ]
  },
  {
   "cell_type": "markdown",
   "metadata": {},
   "source": [
    "# 数据分析"
   ]
  },
  {
   "cell_type": "markdown",
   "metadata": {},
   "source": [
    "## 分析商品销售排行榜：用户喜欢的商品有哪些？"
   ]
  },
  {
   "cell_type": "markdown",
   "metadata": {},
   "source": [
    "### 畅销品"
   ]
  },
  {
   "cell_type": "markdown",
   "metadata": {},
   "source": [
    "目的：为运营服务（方便推荐（二八法则）；商场摆设、采购、培训使得销售利润最大化）\n",
    "确认畅销品的方法：销售量排名、二八法则、ABC法则\n",
    "什么样的商品是畅销品？\n",
    "\n",
    "只看销售量、销售额（销售量、销售额等）\n",
    "销售不错且能持续提供库存支持的商品（销售量、销售额、库存量、库存天数、库存周数等）\n",
    "只有能够持续给公司创造销售和利润，且占用最优资金量的商品（销售量、销售额、库存量、库存天数、库存周数、毛利率等特征）"
   ]
  },
  {
   "cell_type": "code",
   "execution_count": 32,
   "metadata": {},
   "outputs": [
    {
     "data": {
      "text/plain": [
       "产品名称    object\n",
       "购买数量    object\n",
       "dtype: object"
      ]
     },
     "execution_count": 32,
     "metadata": {},
     "output_type": "execute_result"
    }
   ],
   "source": [
    "new_goods_data.dtypes"
   ]
  },
  {
   "cell_type": "code",
   "execution_count": 33,
   "metadata": {},
   "outputs": [],
   "source": [
    "new_goods_data['购买数量'] = new_goods_data['购买数量'].astype(int)\n",
    "num = new_goods_data.groupby('产品名称').agg(sum).sort_values('购买数量', ascending=False)"
   ]
  },
  {
   "cell_type": "code",
   "execution_count": 34,
   "metadata": {},
   "outputs": [
    {
     "data": {
      "image/png": "[encoded data removed]",
      "text/plain": [
       "<Figure size 432x288 with 1 Axes>"
      ]
     },
     "metadata": {
      "needs_background": "light"
     },
     "output_type": "display_data"
    }
   ],
   "source": [
    "plt.bar(range(20), num['购买数量'][:20])\n",
    "plt.xticks(range(20), num.index[:20], rotation=90)\n",
    "plt.show()"
   ]
  },
  {
   "cell_type": "code",
   "execution_count": 35,
   "metadata": {},
   "outputs": [
    {
     "data": {
      "image/png": "[encoded data removed]",
      "text/plain": [
       "<Figure size 432x288 with 1 Axes>"
      ]
     },
     "metadata": {},
     "output_type": "display_data"
    }
   ],
   "source": [
    "plt.style.use('ggplot')\n",
    "plt.barh(range(20), num['购买数量'][:20])\n",
    "plt.yticks(range(20), num.index[:20])\n",
    "plt.ylabel('产品名称')\n",
    "plt.xlabel('销售量')\n",
    "plt.title('销售量排行榜（前二十）')\n",
    "plt.show()"
   ]
  },
  {
   "cell_type": "markdown",
   "metadata": {},
   "source": [
    "# 分析某一台设备不同时间的销售情况"
   ]
  },
  {
   "cell_type": "code",
   "execution_count": 36,
   "metadata": {},
   "outputs": [],
   "source": [
    "ind = data2['设备编号'] == 112866\n",
    "data_112 = data2.loc[ind, :]"
   ]
  },
  {
   "cell_type": "code",
   "execution_count": 37,
   "metadata": {},
   "outputs": [
    {
     "data": {
      "text/plain": [
       "Index(['设备编号', '下单时间', '订单编号', '购买数量(个)', '手续费(元)', '总金额(元)', '支付状态', '出货状态',\n",
       "       '收款方', '退款金额(元)', '购买用户', '商品详情', '省市区', '软件版本', 'city'],\n",
       "      dtype='object')"
      ]
     },
     "execution_count": 37,
     "metadata": {},
     "output_type": "execute_result"
    }
   ],
   "source": [
    "data_112.shape\n",
    "data_112.columns"
   ]
  },
  {
   "cell_type": "code",
   "execution_count": 38,
   "metadata": {},
   "outputs": [
    {
     "data": {
      "image/png": "[encoded data removed]",
      "text/plain": [
       "<Figure size 432x288 with 1 Axes>"
      ]
     },
     "metadata": {},
     "output_type": "display_data"
    }
   ],
   "source": [
    "# 某一台设备不同日期的销售情况\n",
    "data_112['date'] = data_112['下单时间'].dt.date\n",
    "data_112['income'] = data_112['总金额(元)'] - data_112['退款金额(元)']\n",
    "num = data_112[['date', 'income']].groupby('date').sum().sort_index()\n",
    "\n",
    "plt.plot(num.index, num)\n",
    "plt.xticks(num.index[::8], num.index[::8], rotation=90)\n",
    "plt.show()"
   ]
  },
  {
   "cell_type": "code",
   "execution_count": 39,
   "metadata": {},
   "outputs": [
    {
     "data": {
      "image/png": "[encoded data removed]",
      "text/plain": [
       "<Figure size 432x288 with 1 Axes>"
      ]
     },
     "metadata": {},
     "output_type": "display_data"
    }
   ],
   "source": [
    "# 某一台设备不同星期的销售情况\n",
    "data_112['weekday'] = data_112['下单时间'].dt.weekday\n",
    "num = data_112[['weekday', 'income']].groupby('weekday').sum().sort_index()\n",
    "plt.plot(num.index, num)\n",
    "plt.xticks(num.index, num.index, rotation=90)\n",
    "plt.show()\n"
   ]
  },
  {
   "cell_type": "code",
   "execution_count": 40,
   "metadata": {},
   "outputs": [
    {
     "data": {
      "image/png": "[encoded data removed]",
      "text/plain": [
       "<Figure size 432x288 with 1 Axes>"
      ]
     },
     "metadata": {},
     "output_type": "display_data"
    }
   ],
   "source": [
    "data_112['month'] = data_112['下单时间'].dt.month\n",
    "num = data_112[['weekday', 'income', 'month']].groupby(['month', 'weekday']).sum()\n",
    "num = num.unstack()  #最内层的行索引还原成了列索引\n",
    "week = [0, 1, 2, 3, 4, 5, 6]\n",
    "num2 = num.loc[:, [('income', i) for i in week]]\n",
    "for i in range(5, 10):\n",
    "    plt.plot(week, num2.loc[i, :])\n",
    "plt.legend([f'{i}月' for i in range(5, 10)])\n",
    "plt.show()\n"
   ]
  },
  {
   "cell_type": "markdown",
   "metadata": {},
   "source": [
    "## 某一台设备不同时间的销售情况"
   ]
  },
  {
   "cell_type": "code",
   "execution_count": 41,
   "metadata": {},
   "outputs": [
    {
     "data": {
      "image/png": "[encoded data removed]",
      "text/plain": [
       "<Figure size 432x288 with 1 Axes>"
      ]
     },
     "metadata": {},
     "output_type": "display_data"
    }
   ],
   "source": [
    "data_112['hour'] = data_112['下单时间'].dt.hour\n",
    "num = data_112[['hour','income']].groupby('hour').sum().sort_index()\n",
    "plt.plot(num.index,num)\n",
    "plt.xticks(num.index,num.index,rotation=90)  #rotation旋转角度下标\n",
    "plt.show()\n"
   ]
  },
  {
   "cell_type": "code",
   "execution_count": 42,
   "metadata": {},
   "outputs": [
    {
     "data": {
      "image/png": "[encoded data removed]",
      "text/plain": [
       "<Figure size 432x288 with 1 Axes>"
      ]
     },
     "metadata": {},
     "output_type": "display_data"
    }
   ],
   "source": [
    "data_112['hour'] = data_112['下单时间'].dt.hour\n",
    "num = data_112[['hour','income','month']].groupby(['month','hour']).sum()\n",
    "num = num.unstack().fillna(0)  #fillna 缺失值填为0\n",
    "\n",
    "for i in range(5, 10):\n",
    "    plt.plot(range(24), num.loc[i, :])\n",
    "plt.legend([f'{i}月' for i in range(5, 10)])\n",
    "plt.show()\n"
   ]
  },
  {
   "cell_type": "code",
   "execution_count": 43,
   "metadata": {},
   "outputs": [
    {
     "data": {
      "image/png": "[encoded data removed]",
      "text/plain": [
       "<Figure size 432x288 with 1 Axes>"
      ]
     },
     "metadata": {},
     "output_type": "display_data"
    }
   ],
   "source": [
    "data_112['hour'] = data_112['下单时间'].dt.hour\n",
    "num = data_112[['hour', 'income', 'weekday']].groupby(['weekday', 'hour', ]).sum()\n",
    "num = num.unstack().fillna(0)\n",
    "\n",
    "for i in num.index:\n",
    "    plt.plot(range(24), num.loc[i, :])\n",
    "plt.legend(num.index)\n",
    "plt.show()"
   ]
  },
  {
   "cell_type": "markdown",
   "metadata": {},
   "source": [
    "## 不同时间的销售情况"
   ]
  },
  {
   "cell_type": "code",
   "execution_count": 44,
   "metadata": {},
   "outputs": [
    {
     "data": {
      "text/plain": [
       "Index(['设备编号', '下单时间', '订单编号', '购买数量(个)', '手续费(元)', '总金额(元)', '支付状态', '出货状态',\n",
       "       '收款方', '退款金额(元)', '购买用户', '商品详情', '省市区', '软件版本', 'city'],\n",
       "      dtype='object')"
      ]
     },
     "execution_count": 44,
     "metadata": {},
     "output_type": "execute_result"
    }
   ],
   "source": [
    "data2.columns"
   ]
  },
  {
   "cell_type": "code",
   "execution_count": 45,
   "metadata": {},
   "outputs": [
    {
     "data": {
      "image/png": "[encoded data removed]",
      "text/plain": [
       "<Figure size 432x288 with 1 Axes>"
      ]
     },
     "metadata": {},
     "output_type": "display_data"
    }
   ],
   "source": [
    "# 不同日期的销售情况\n",
    "data2['date'] = data2['下单时间'].dt.date\n",
    "data2['income'] = data2['总金额(元)'] - data2['退款金额(元)']\n",
    "num = data2[['date', 'income']].groupby('date').sum().sort_index()\n",
    "\n",
    "plt.plot(num.index, num)\n",
    "plt.xticks(num.index[::8], num.index[::8], rotation=90)\n",
    "plt.show()"
   ]
  },
  {
   "cell_type": "code",
   "execution_count": 46,
   "metadata": {},
   "outputs": [
    {
     "data": {
      "image/png": "[encoded data removed]",
      "text/plain": [
       "<Figure size 432x288 with 1 Axes>"
      ]
     },
     "metadata": {},
     "output_type": "display_data"
    }
   ],
   "source": [
    "# 不同星期的销售情况\n",
    "data2['weekday'] = data2['下单时间'].dt.weekday\n",
    "num = data2[['weekday', 'income']].groupby('weekday').sum().sort_index()\n",
    "plt.plot(num.index, num)\n",
    "plt.xticks(num.index, num.index, rotation=90)\n",
    "plt.show()"
   ]
  },
  {
   "cell_type": "markdown",
   "metadata": {},
   "source": [
    "## 分析城市销售情况"
   ]
  },
  {
   "cell_type": "code",
   "execution_count": 47,
   "metadata": {},
   "outputs": [
    {
     "data": {
      "image/png": "[encoded data removed]",
      "text/plain": [
       "<Figure size 432x288 with 1 Axes>"
      ]
     },
     "metadata": {},
     "output_type": "display_data"
    }
   ],
   "source": [
    "num = data2[['city', 'income']].groupby('city').sum().sort_values('income')\n",
    "plt.barh(num.index, num['income'])\n",
    "plt.show()"
   ]
  },
  {
   "cell_type": "code",
   "execution_count": 48,
   "metadata": {},
   "outputs": [
    {
     "data": {
      "text/plain": [
       "'D:\\\\jupyter_file\\\\all\\\\新零售销售\\\\各个城市销售量情况.html'"
      ]
     },
     "execution_count": 48,
     "metadata": {},
     "output_type": "execute_result"
    }
   ],
   "source": [
    "# 绘制地理图表展示城市之间的空间关系\n",
    "from pyecharts.charts import Geo, Map\n",
    "import pyecharts.options as opts\n",
    "from pyecharts.globals import ChartType\n",
    "\n",
    "(\n",
    "    Geo()\n",
    "    .add_schema(maptype='广东')\n",
    "    .add('', [(i, int(j)) for i,j in zip(num.index, num['income'])],\n",
    "         type_=ChartType.EFFECT_SCATTER)\n",
    "    .set_series_opts(label_opts=opts.LabelOpts(is_show=False))\n",
    "    .set_global_opts(\n",
    "        title_opts=opts.TitleOpts(title='各个城市销售量情况', subtitle='2018/4-2018/9'),\n",
    "        visualmap_opts=opts.VisualMapOpts(max_=max(num.max()), is_piecewise=True)\n",
    "    )\n",
    ").render('./各个城市销售量情况.html')"
   ]
  },
  {
   "cell_type": "code",
   "execution_count": 49,
   "metadata": {},
   "outputs": [
    {
     "data": {
      "text/html": [
       "<div>\n",
       "<style scoped>\n",
       "    .dataframe tbody tr th:only-of-type {\n",
       "        vertical-align: middle;\n",
       "    }\n",
       "\n",
       "    .dataframe tbody tr th {\n",
       "        vertical-align: top;\n",
       "    }\n",
       "\n",
       "    .dataframe thead tr th {\n",
       "        text-align: left;\n",
       "    }\n",
       "\n",
       "    .dataframe thead tr:last-of-type th {\n",
       "        text-align: right;\n",
       "    }\n",
       "</style>\n",
       "<table border=\"1\" class=\"dataframe\">\n",
       "  <thead>\n",
       "    <tr>\n",
       "      <th></th>\n",
       "      <th colspan=\"7\" halign=\"left\">income</th>\n",
       "    </tr>\n",
       "    <tr>\n",
       "      <th>weekday</th>\n",
       "      <th>0</th>\n",
       "      <th>1</th>\n",
       "      <th>2</th>\n",
       "      <th>3</th>\n",
       "      <th>4</th>\n",
       "      <th>5</th>\n",
       "      <th>6</th>\n",
       "    </tr>\n",
       "    <tr>\n",
       "      <th>month</th>\n",
       "      <th></th>\n",
       "      <th></th>\n",
       "      <th></th>\n",
       "      <th></th>\n",
       "      <th></th>\n",
       "      <th></th>\n",
       "      <th></th>\n",
       "    </tr>\n",
       "  </thead>\n",
       "  <tbody>\n",
       "    <tr>\n",
       "      <th>5</th>\n",
       "      <td>2235.0</td>\n",
       "      <td>2269.5</td>\n",
       "      <td>2727.5</td>\n",
       "      <td>2879.5</td>\n",
       "      <td>2155.5</td>\n",
       "      <td>2238.0</td>\n",
       "      <td>1745.0</td>\n",
       "    </tr>\n",
       "    <tr>\n",
       "      <th>6</th>\n",
       "      <td>1099.5</td>\n",
       "      <td>1161.0</td>\n",
       "      <td>1003.0</td>\n",
       "      <td>639.5</td>\n",
       "      <td>1969.0</td>\n",
       "      <td>1994.5</td>\n",
       "      <td>1510.5</td>\n",
       "    </tr>\n",
       "    <tr>\n",
       "      <th>7</th>\n",
       "      <td>2390.5</td>\n",
       "      <td>2717.5</td>\n",
       "      <td>1696.5</td>\n",
       "      <td>1552.5</td>\n",
       "      <td>1741.5</td>\n",
       "      <td>1921.0</td>\n",
       "      <td>1199.0</td>\n",
       "    </tr>\n",
       "    <tr>\n",
       "      <th>8</th>\n",
       "      <td>2031.0</td>\n",
       "      <td>1982.0</td>\n",
       "      <td>2238.5</td>\n",
       "      <td>2167.5</td>\n",
       "      <td>2435.5</td>\n",
       "      <td>2158.0</td>\n",
       "      <td>464.0</td>\n",
       "    </tr>\n",
       "    <tr>\n",
       "      <th>9</th>\n",
       "      <td>674.0</td>\n",
       "      <td>897.5</td>\n",
       "      <td>695.0</td>\n",
       "      <td>626.0</td>\n",
       "      <td>616.0</td>\n",
       "      <td>1140.0</td>\n",
       "      <td>181.5</td>\n",
       "    </tr>\n",
       "  </tbody>\n",
       "</table>\n",
       "</div>"
      ],
      "text/plain": [
       "         income                                                \n",
       "weekday       0       1       2       3       4       5       6\n",
       "month                                                          \n",
       "5        2235.0  2269.5  2727.5  2879.5  2155.5  2238.0  1745.0\n",
       "6        1099.5  1161.0  1003.0   639.5  1969.0  1994.5  1510.5\n",
       "7        2390.5  2717.5  1696.5  1552.5  1741.5  1921.0  1199.0\n",
       "8        2031.0  1982.0  2238.5  2167.5  2435.5  2158.0   464.0\n",
       "9         674.0   897.5   695.0   626.0   616.0  1140.0   181.5"
      ]
     },
     "execution_count": 49,
     "metadata": {},
     "output_type": "execute_result"
    }
   ],
   "source": [
    "num2"
   ]
  },
  {
   "cell_type": "code",
   "execution_count": 50,
   "metadata": {},
   "outputs": [
    {
     "data": {
      "text/plain": [
       "'D:\\\\jupyter_file\\\\all\\\\新零售销售\\\\各个城市销售量情况(含时间轴).html'"
      ]
     },
     "execution_count": 50,
     "metadata": {},
     "output_type": "execute_result"
    }
   ],
   "source": [
    "# 绘制地理图表展示不同月份不同城市之间的空间关系\n",
    "from pyecharts.charts import Geo, Timeline\n",
    "import pyecharts.options as opts\n",
    "from pyecharts.globals import ChartType\n",
    "\n",
    "data2['month'] = data2['下单时间'].dt.month\n",
    "num = data2[['month', 'income', 'city']].groupby(['month', 'city']).sum()\n",
    "num2 = num.unstack()\n",
    "num2 = num2.fillna(0)\n",
    "\n",
    "tmp = {}\n",
    "for i in range(4, 10):\n",
    "    num = num2.loc[i, :]\n",
    "    tmp[i] = (\n",
    "        Geo()\n",
    "        .add_schema(maptype='广东')\n",
    "        .add('', [(i[1], int(j)) for i,j in zip(num.index, list(num.values))],\n",
    "             type_=ChartType.EFFECT_SCATTER)\n",
    "        .set_series_opts(label_opts=opts.LabelOpts(is_show=False))\n",
    "        .set_global_opts(\n",
    "            title_opts=opts.TitleOpts(title='各个城市销售量情况', subtitle='2018/4-2018/9'),\n",
    "            visualmap_opts=opts.VisualMapOpts(max_=max(num2.max()), is_piecewise=True)\n",
    "        )\n",
    "    )\n",
    "    \n",
    "tl = Timeline()\n",
    "for i in range(4, 10):\n",
    "    tl.add(tmp[i], str(i)+'月')\n",
    "    \n",
    "tl.render('./各个城市销售量情况(含时间轴).html')"
   ]
  },
  {
   "cell_type": "markdown",
   "metadata": {},
   "source": [
    "# 销售环比"
   ]
  },
  {
   "cell_type": "code",
   "execution_count": 51,
   "metadata": {},
   "outputs": [],
   "source": [
    "# 计算周的销售额环比\n",
    "data2['week'] = data2['下单时间'].dt.week\n",
    "# 1、计算每一周的销售额\n",
    "tmp = data2[['week', 'income']].groupby('week').sum()\n",
    "# 2、计算销售额环比：（本期销售额-上期销售额）/上期销售额\n",
    "t2 = tmp.diff().iloc[1:, :]\n",
    "t2.index = tmp.index[:-1]\n",
    "num = t2/tmp  # 销售额的周环比"
   ]
  },
  {
   "cell_type": "code",
   "execution_count": 52,
   "metadata": {},
   "outputs": [
    {
     "data": {
      "image/png": "[encoded data removed]",
      "text/plain": [
       "<Figure size 432x288 with 2 Axes>"
      ]
     },
     "metadata": {},
     "output_type": "display_data"
    }
   ],
   "source": [
    "# 可视化:双Y轴图像\n",
    "fig = plt.figure(figsize=(6, 4))\n",
    "ax1 = fig.add_subplot(111)  # 添加子图\n",
    "ax1.bar(tmp.index, tmp['income'])\n",
    "ax1.set_ylabel('收入')\n",
    "ax1.set_xlabel('周数')\n",
    "ax1.set_title('自动售货机收入趋势图')\n",
    "\n",
    "ax2 = ax1.twinx()\n",
    "ax2.plot(tmp.index[1:], num.iloc[:-1, 0], 'b')\n",
    "ax2.set_ylabel('环比增长率')\n",
    "plt.show()"
   ]
  },
  {
   "cell_type": "markdown",
   "metadata": {},
   "source": [
    "## 月环比"
   ]
  },
  {
   "cell_type": "code",
   "execution_count": 53,
   "metadata": {},
   "outputs": [],
   "source": [
    "# 计算月的销售额环比\n",
    "# 1、计算每月的销售额\n",
    "tmp = data2[['month', 'income']].groupby('month').sum()\n",
    "# 2、计算销售额环比：（本期销售额-上期销售额）/上期销售额\n",
    "t2 = tmp.diff().iloc[1:, :]\n",
    "t2.index = tmp.index[:-1]\n",
    "num = t2/tmp  # 销售额的月环比"
   ]
  },
  {
   "cell_type": "code",
   "execution_count": 54,
   "metadata": {},
   "outputs": [
    {
     "data": {
      "image/png": "[encoded data removed]",
      "text/plain": [
       "<Figure size 432x288 with 2 Axes>"
      ]
     },
     "metadata": {},
     "output_type": "display_data"
    }
   ],
   "source": [
    "# 可视化:双Y轴图像\n",
    "fig = plt.figure(figsize=(6, 4))\n",
    "ax1 = fig.add_subplot(111)  # 添加子图\n",
    "ax1.bar(tmp.index, tmp['income'])\n",
    "ax1.set_ylabel('收入')\n",
    "ax1.set_xlabel('月份')\n",
    "ax1.set_title('自动售货机收入趋势图')\n",
    "\n",
    "ax2 = ax1.twinx()\n",
    "ax2.plot(tmp.index[1:], num.iloc[:-1, 0], 'b')\n",
    "ax2.set_ylabel('环比增长率')\n",
    "plt.show()"
   ]
  },
  {
   "cell_type": "markdown",
   "metadata": {},
   "source": [
    "## 广州地区的周环比"
   ]
  },
  {
   "cell_type": "code",
   "execution_count": 55,
   "metadata": {},
   "outputs": [
    {
     "data": {
      "text/html": [
       "<div>\n",
       "<style scoped>\n",
       "    .dataframe tbody tr th:only-of-type {\n",
       "        vertical-align: middle;\n",
       "    }\n",
       "\n",
       "    .dataframe tbody tr th {\n",
       "        vertical-align: top;\n",
       "    }\n",
       "\n",
       "    .dataframe thead th {\n",
       "        text-align: right;\n",
       "    }\n",
       "</style>\n",
       "<table border=\"1\" class=\"dataframe\">\n",
       "  <thead>\n",
       "    <tr style=\"text-align: right;\">\n",
       "      <th></th>\n",
       "      <th>income</th>\n",
       "    </tr>\n",
       "    <tr>\n",
       "      <th>week</th>\n",
       "      <th></th>\n",
       "    </tr>\n",
       "  </thead>\n",
       "  <tbody>\n",
       "    <tr>\n",
       "      <th>14</th>\n",
       "      <td>1.498269</td>\n",
       "    </tr>\n",
       "    <tr>\n",
       "      <th>15</th>\n",
       "      <td>12.324911</td>\n",
       "    </tr>\n",
       "    <tr>\n",
       "      <th>16</th>\n",
       "      <td>0.627117</td>\n",
       "    </tr>\n",
       "    <tr>\n",
       "      <th>17</th>\n",
       "      <td>0.491588</td>\n",
       "    </tr>\n",
       "    <tr>\n",
       "      <th>18</th>\n",
       "      <td>1.290459</td>\n",
       "    </tr>\n",
       "    <tr>\n",
       "      <th>19</th>\n",
       "      <td>0.202853</td>\n",
       "    </tr>\n",
       "    <tr>\n",
       "      <th>20</th>\n",
       "      <td>0.275102</td>\n",
       "    </tr>\n",
       "    <tr>\n",
       "      <th>21</th>\n",
       "      <td>-0.155177</td>\n",
       "    </tr>\n",
       "    <tr>\n",
       "      <th>22</th>\n",
       "      <td>-0.079144</td>\n",
       "    </tr>\n",
       "    <tr>\n",
       "      <th>23</th>\n",
       "      <td>0.025920</td>\n",
       "    </tr>\n",
       "    <tr>\n",
       "      <th>24</th>\n",
       "      <td>-0.066790</td>\n",
       "    </tr>\n",
       "    <tr>\n",
       "      <th>25</th>\n",
       "      <td>0.729559</td>\n",
       "    </tr>\n",
       "    <tr>\n",
       "      <th>26</th>\n",
       "      <td>0.092913</td>\n",
       "    </tr>\n",
       "    <tr>\n",
       "      <th>27</th>\n",
       "      <td>0.156073</td>\n",
       "    </tr>\n",
       "    <tr>\n",
       "      <th>28</th>\n",
       "      <td>-0.090903</td>\n",
       "    </tr>\n",
       "    <tr>\n",
       "      <th>29</th>\n",
       "      <td>-0.158380</td>\n",
       "    </tr>\n",
       "    <tr>\n",
       "      <th>30</th>\n",
       "      <td>0.353818</td>\n",
       "    </tr>\n",
       "    <tr>\n",
       "      <th>31</th>\n",
       "      <td>-0.200486</td>\n",
       "    </tr>\n",
       "    <tr>\n",
       "      <th>32</th>\n",
       "      <td>0.029307</td>\n",
       "    </tr>\n",
       "    <tr>\n",
       "      <th>33</th>\n",
       "      <td>-0.086193</td>\n",
       "    </tr>\n",
       "    <tr>\n",
       "      <th>34</th>\n",
       "      <td>-0.159185</td>\n",
       "    </tr>\n",
       "    <tr>\n",
       "      <th>35</th>\n",
       "      <td>0.165629</td>\n",
       "    </tr>\n",
       "    <tr>\n",
       "      <th>36</th>\n",
       "      <td>0.050168</td>\n",
       "    </tr>\n",
       "    <tr>\n",
       "      <th>37</th>\n",
       "      <td>-0.001802</td>\n",
       "    </tr>\n",
       "    <tr>\n",
       "      <th>38</th>\n",
       "      <td>-0.085561</td>\n",
       "    </tr>\n",
       "    <tr>\n",
       "      <th>39</th>\n",
       "      <td>NaN</td>\n",
       "    </tr>\n",
       "  </tbody>\n",
       "</table>\n",
       "</div>"
      ],
      "text/plain": [
       "         income\n",
       "week           \n",
       "14     1.498269\n",
       "15    12.324911\n",
       "16     0.627117\n",
       "17     0.491588\n",
       "18     1.290459\n",
       "19     0.202853\n",
       "20     0.275102\n",
       "21    -0.155177\n",
       "22    -0.079144\n",
       "23     0.025920\n",
       "24    -0.066790\n",
       "25     0.729559\n",
       "26     0.092913\n",
       "27     0.156073\n",
       "28    -0.090903\n",
       "29    -0.158380\n",
       "30     0.353818\n",
       "31    -0.200486\n",
       "32     0.029307\n",
       "33    -0.086193\n",
       "34    -0.159185\n",
       "35     0.165629\n",
       "36     0.050168\n",
       "37    -0.001802\n",
       "38    -0.085561\n",
       "39          NaN"
      ]
     },
     "execution_count": 55,
     "metadata": {},
     "output_type": "execute_result"
    }
   ],
   "source": [
    "# 计算周的销售额环比\n",
    "data_gz = data2.loc[data2['city'] == '广州市', :]\n",
    "data_gz['week'] = data_gz['下单时间'].dt.week\n",
    "# 1、计算每一周的销售额\n",
    "tmp = data_gz[['week', 'income']].groupby('week').sum()\n",
    "# 2、计算销售额环比：（本期销售额-上期销售额）/上期销售额\n",
    "t2 = tmp.diff().iloc[1:, :]\n",
    "t2.index = tmp.index[:-1]\n",
    "num = t2/tmp  # 销售额的周环比\n",
    "num"
   ]
  },
  {
   "cell_type": "code",
   "execution_count": 56,
   "metadata": {},
   "outputs": [
    {
     "data": {
      "image/png": "[encoded data removed]",
      "text/plain": [
       "<Figure size 432x288 with 2 Axes>"
      ]
     },
     "metadata": {},
     "output_type": "display_data"
    }
   ],
   "source": [
    "# 可视化:双Y轴图像\n",
    "fig = plt.figure(figsize=(6, 4))\n",
    "ax1 = fig.add_subplot(111)  # 添加子图\n",
    "ax1.bar(tmp.index, tmp['income'])\n",
    "ax1.set_ylabel('收入')\n",
    "ax1.set_xlabel('周数')\n",
    "ax1.set_title('自动售货机收入趋势图--广州地区')\n",
    "\n",
    "ax2 = ax1.twinx()\n",
    "ax2.plot(tmp.index[1:], num.iloc[:-1, 0], 'b')\n",
    "ax2.set_ylabel('环比增长率')\n",
    "plt.show()"
   ]
  },
  {
   "cell_type": "markdown",
   "metadata": {},
   "source": [
    "# 不同商品单价的销售情况"
   ]
  },
  {
   "cell_type": "code",
   "execution_count": 57,
   "metadata": {},
   "outputs": [],
   "source": [
    "# 1、获取商品单价\n",
    "# 2、获取商品购买数量\n",
    "# 3、划分单价区间\n",
    "# 4、不同单价区间的销售情况"
   ]
  },
  {
   "cell_type": "code",
   "execution_count": 58,
   "metadata": {},
   "outputs": [],
   "source": [
    "ind = data2['购买数量(个)'] == 1\n",
    "data2['goods'] = data2['商品详情'].apply(lambda x: re.sub('[Xx]1[;,]?', '', x))\n",
    "price_data = data2.loc[ind, ['goods', '总金额(元)']].drop_duplicates('goods')"
   ]
  },
  {
   "cell_type": "code",
   "execution_count": 59,
   "metadata": {},
   "outputs": [],
   "source": [
    "new_data = pd.merge(new_goods_data, price_data, how='left', left_on='产品名称', right_on='goods')"
   ]
  },
  {
   "cell_type": "code",
   "execution_count": 60,
   "metadata": {},
   "outputs": [],
   "source": [
    "ind = new_data['goods'].isnull()\n",
    "tmp_sets = new_data.loc[ind, '产品名称'].unique()\n",
    "ind = data2['商品详情'].apply(lambda x: sum([i in x for i in tmp_sets])!=0)\n",
    "tmp = data2.loc[ind, :].apply(lambda x: ([i for i in tmp_sets if i in x['商品详情']], x['购买数量(个)'], x['总金额(元)']), axis=1)\n",
    "tmp = pd.DataFrame({'name':[i[0][0] for i in tmp], 'num':[i[1] for i in tmp], 'total_price': [i[2] for i in tmp]})"
   ]
  },
  {
   "cell_type": "code",
   "execution_count": 61,
   "metadata": {},
   "outputs": [],
   "source": [
    "tmp['price'] = tmp['total_price']/tmp['num']\n",
    "tmp2 = tmp.drop_duplicates('name')[['name', 'price']]"
   ]
  },
  {
   "cell_type": "code",
   "execution_count": 62,
   "metadata": {},
   "outputs": [],
   "source": [
    "new_data = pd.merge(new_data, tmp2, how='left', left_on='产品名称', right_on='name')"
   ]
  },
  {
   "cell_type": "code",
   "execution_count": 63,
   "metadata": {},
   "outputs": [],
   "source": [
    "ind = new_data['总金额(元)'].isnull()\n",
    "new_data['单价'] = 0\n",
    "new_data.loc[ind, '单价'] = new_data.loc[ind, 'price'].copy()\n",
    "new_data.loc[~ind, '单价'] = new_data.loc[~ind, '总金额(元)'].copy()"
   ]
  },
  {
   "cell_type": "code",
   "execution_count": 64,
   "metadata": {},
   "outputs": [],
   "source": [
    "ind = new_data['单价'].notnull()\n",
    "new_data = new_data.loc[ind, ['产品名称', '购买数量', '单价']]"
   ]
  },
  {
   "cell_type": "code",
   "execution_count": 65,
   "metadata": {},
   "outputs": [
    {
     "data": {
      "image/png": "[encoded data removed]",
      "text/plain": [
       "<Figure size 432x288 with 1 Axes>"
      ]
     },
     "metadata": {},
     "output_type": "display_data"
    }
   ],
   "source": [
    "plt.hist(np.repeat(new_data['单价'], new_data['购买数量']), bins=50)\n",
    "plt.show()"
   ]
  },
  {
   "cell_type": "code",
   "execution_count": 66,
   "metadata": {},
   "outputs": [
    {
     "data": {
      "image/png": "[encoded data removed]",
      "text/plain": [
       "<Figure size 432x288 with 1 Axes>"
      ]
     },
     "metadata": {},
     "output_type": "display_data"
    }
   ],
   "source": [
    "# 指定单价区间\n",
    "bins = pd.IntervalIndex.from_tuples([(0, 2), (2, 5), (5, 10), (10, 20), (20, 52)])\n",
    "new_data['bins'] = pd.cut(new_data['单价'], bins)\n",
    "num = new_data[['bins', '购买数量']].groupby('bins').sum()\n",
    "\n",
    "plt.bar(range(5), num['购买数量'])\n",
    "plt.title('不同价格区间的销售情况')\n",
    "plt.xlabel('价格区间')\n",
    "plt.ylabel('购买数量')\n",
    "plt.xticks(range(5), num.index)\n",
    "plt.show()"
   ]
  },
  {
   "cell_type": "code",
   "execution_count": 67,
   "metadata": {},
   "outputs": [
    {
     "data": {
      "image/png": "[encoded data removed]",
      "text/plain": [
       "<Figure size 432x288 with 1 Axes>"
      ]
     },
     "metadata": {},
     "output_type": "display_data"
    }
   ],
   "source": [
    "plt.pie(num['购买数量'], labels=num.index, autopct='%.2f %%')\n",
    "plt.title('不同价格区间的销售数量占比情况')\n",
    "plt.show()"
   ]
  },
  {
   "cell_type": "raw",
   "metadata": {},
   "source": [
    "# 倾向量多价少的交易\n",
    "货道排放的商品应该以低价商品为主\n",
    "货道摆放的位置：人流量大、停留时间长的位置"
   ]
  },
  {
   "cell_type": "code",
   "execution_count": null,
   "metadata": {},
   "outputs": [],
   "source": []
  }
 ],
 "metadata": {
  "kernelspec": {
   "display_name": "Python 3",
   "language": "python",
   "name": "python3"
  },
  "language_info": {
   "codemirror_mode": {
    "name": "ipython",
    "version": 3
   },
   "file_extension": ".py",
   "mimetype": "text/x-python",
   "name": "python",
   "nbconvert_exporter": "python",
   "pygments_lexer": "ipython3",
   "version": "3.8.5"
  },
  "toc": {
   "base_numbering": 1,
   "nav_menu": {},
   "number_sections": true,
   "sideBar": true,
   "skip_h1_title": false,
   "title_cell": "Table of Contents",
   "title_sidebar": "Contents",
   "toc_cell": false,
   "toc_position": {
    "height": "calc(100% - 180px)",
    "left": "10px",
    "top": "150px",
    "width": "154.233px"
   },
   "toc_section_display": true,
   "toc_window_display": true
  },
  "varInspector": {
   "cols": {
    "lenName": 16,
    "lenType": 16,
    "lenVar": 40
   },
   "kernels_config": {
    "python": {
     "delete_cmd_postfix": "",
     "delete_cmd_prefix": "del ",
     "library": "var_list.py",
     "varRefreshCmd": "print(var_dic_list())"
    },
    "r": {
     "delete_cmd_postfix": ") ",
     "delete_cmd_prefix": "rm(",
     "library": "var_list.r",
     "varRefreshCmd": "cat(var_dic_list()) "
    }
   },
   "types_to_exclude": [
    "module",
    "function",
    "builtin_function_or_method",
    "instance",
    "_Feature"
   ],
   "window_display": false
  }
 },
 "nbformat": 4,
 "nbformat_minor": 4
}
