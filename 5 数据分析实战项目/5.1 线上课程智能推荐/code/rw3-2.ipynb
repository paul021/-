{
 "cells": [
  {
   "cell_type": "code",
   "execution_count": 82,
   "metadata": {},
   "outputs": [],
   "source": [
    "import pandas as pd\n",
    "from datetime import datetime\n",
    "# 读取数据保存为data\n",
    "data = pd.read_csv(\"./task1_1_3.csv\",encoding = 'gbk')"
   ]
  },
  {
   "cell_type": "code",
   "execution_count": 83,
   "metadata": {},
   "outputs": [],
   "source": [
    "data['learn_process'] = data['learn_process'].str.strip(\"%\").astype(float)/100"
   ]
  },
  {
   "cell_type": "code",
   "execution_count": 93,
   "metadata": {},
   "outputs": [],
   "source": [
    "num = data.groupby('user_id').mean()['learn_process']"
   ]
  },
  {
   "cell_type": "code",
   "execution_count": 89,
   "metadata": {},
   "outputs": [
    {
     "ename": "AttributeError",
     "evalue": "'DataFrame' object has no attribute 'get_group'",
     "output_type": "error",
     "traceback": [
      "\u001b[1;31m---------------------------------------------------------------------------\u001b[0m",
      "\u001b[1;31mAttributeError\u001b[0m                            Traceback (most recent call last)",
      "\u001b[1;32m<ipython-input-89-44c626a729c6>\u001b[0m in \u001b[0;36m<module>\u001b[1;34m\u001b[0m\n\u001b[0;32m      1\u001b[0m \u001b[1;31m#pd.set_option('max_rows', 10)\u001b[0m\u001b[1;33m\u001b[0m\u001b[1;33m\u001b[0m\u001b[1;33m\u001b[0m\u001b[0m\n\u001b[0;32m      2\u001b[0m \u001b[0mnum\u001b[0m \u001b[1;33m=\u001b[0m \u001b[0mdata\u001b[0m\u001b[1;33m[\u001b[0m\u001b[1;33m[\u001b[0m\u001b[1;34m'user_id'\u001b[0m\u001b[1;33m,\u001b[0m \u001b[1;34m'learn_process'\u001b[0m\u001b[1;33m]\u001b[0m\u001b[1;33m]\u001b[0m\u001b[1;33m.\u001b[0m\u001b[0mgroupby\u001b[0m\u001b[1;33m(\u001b[0m\u001b[1;33m[\u001b[0m\u001b[1;34m'user_id'\u001b[0m\u001b[1;33m]\u001b[0m\u001b[1;33m)\u001b[0m\u001b[1;33m.\u001b[0m\u001b[0msum\u001b[0m\u001b[1;33m(\u001b[0m\u001b[1;33m)\u001b[0m\u001b[1;33m\u001b[0m\u001b[1;33m\u001b[0m\u001b[0m\n\u001b[1;32m----> 3\u001b[1;33m \u001b[0mdf\u001b[0m \u001b[1;33m=\u001b[0m \u001b[0mnum\u001b[0m\u001b[1;33m.\u001b[0m\u001b[0mget_group\u001b[0m\u001b[1;33m(\u001b[0m\u001b[1;34m'user_id'\u001b[0m\u001b[1;33m)\u001b[0m\u001b[1;33m.\u001b[0m\u001b[0mreset_index\u001b[0m\u001b[1;33m(\u001b[0m\u001b[1;33m)\u001b[0m\u001b[1;33m\u001b[0m\u001b[1;33m\u001b[0m\u001b[0m\n\u001b[0m",
      "\u001b[1;32mD:\\Study\\anaconda\\lib\\site-packages\\pandas\\core\\generic.py\u001b[0m in \u001b[0;36m__getattr__\u001b[1;34m(self, name)\u001b[0m\n\u001b[0;32m   5272\u001b[0m             \u001b[1;32mif\u001b[0m \u001b[0mself\u001b[0m\u001b[1;33m.\u001b[0m\u001b[0m_info_axis\u001b[0m\u001b[1;33m.\u001b[0m\u001b[0m_can_hold_identifiers_and_holds_name\u001b[0m\u001b[1;33m(\u001b[0m\u001b[0mname\u001b[0m\u001b[1;33m)\u001b[0m\u001b[1;33m:\u001b[0m\u001b[1;33m\u001b[0m\u001b[1;33m\u001b[0m\u001b[0m\n\u001b[0;32m   5273\u001b[0m                 \u001b[1;32mreturn\u001b[0m \u001b[0mself\u001b[0m\u001b[1;33m[\u001b[0m\u001b[0mname\u001b[0m\u001b[1;33m]\u001b[0m\u001b[1;33m\u001b[0m\u001b[1;33m\u001b[0m\u001b[0m\n\u001b[1;32m-> 5274\u001b[1;33m             \u001b[1;32mreturn\u001b[0m \u001b[0mobject\u001b[0m\u001b[1;33m.\u001b[0m\u001b[0m__getattribute__\u001b[0m\u001b[1;33m(\u001b[0m\u001b[0mself\u001b[0m\u001b[1;33m,\u001b[0m \u001b[0mname\u001b[0m\u001b[1;33m)\u001b[0m\u001b[1;33m\u001b[0m\u001b[1;33m\u001b[0m\u001b[0m\n\u001b[0m\u001b[0;32m   5275\u001b[0m \u001b[1;33m\u001b[0m\u001b[0m\n\u001b[0;32m   5276\u001b[0m     \u001b[1;32mdef\u001b[0m \u001b[0m__setattr__\u001b[0m\u001b[1;33m(\u001b[0m\u001b[0mself\u001b[0m\u001b[1;33m,\u001b[0m \u001b[0mname\u001b[0m\u001b[1;33m:\u001b[0m \u001b[0mstr\u001b[0m\u001b[1;33m,\u001b[0m \u001b[0mvalue\u001b[0m\u001b[1;33m)\u001b[0m \u001b[1;33m->\u001b[0m \u001b[1;32mNone\u001b[0m\u001b[1;33m:\u001b[0m\u001b[1;33m\u001b[0m\u001b[1;33m\u001b[0m\u001b[0m\n",
      "\u001b[1;31mAttributeError\u001b[0m: 'DataFrame' object has no attribute 'get_group'"
     ]
    }
   ],
   "source": [
    "#pd.set_option('max_rows', 10)\n",
    "num = data[['user_id', 'learn_process']].groupby(['user_id']).sum()\n",
    "df = num.get_group('user_id').reset_index()"
   ]
  },
  {
   "cell_type": "code",
   "execution_count": 95,
   "metadata": {},
   "outputs": [
    {
     "data": {
      "text/plain": [
       "user_id\n",
       "用户9999     0.0\n",
       "用户35798    0.0\n",
       "用户18949    0.0\n",
       "用户35797    0.0\n",
       "用户35796    0.0\n",
       "          ... \n",
       "用户27953    1.0\n",
       "用户17520    1.0\n",
       "用户17548    1.0\n",
       "用户39420    1.0\n",
       "用户23200    1.0\n",
       "Name: learn_process, Length: 40807, dtype: float64"
      ]
     },
     "execution_count": 95,
     "metadata": {},
     "output_type": "execute_result"
    }
   ],
   "source": [
    "num.sort_values()"
   ]
  },
  {
   "cell_type": "code",
   "execution_count": 87,
   "metadata": {},
   "outputs": [
    {
     "data": {
      "text/html": [
       "<div>\n",
       "<style scoped>\n",
       "    .dataframe tbody tr th:only-of-type {\n",
       "        vertical-align: middle;\n",
       "    }\n",
       "\n",
       "    .dataframe tbody tr th {\n",
       "        vertical-align: top;\n",
       "    }\n",
       "\n",
       "    .dataframe thead th {\n",
       "        text-align: right;\n",
       "    }\n",
       "</style>\n",
       "<table border=\"1\" class=\"dataframe\">\n",
       "  <thead>\n",
       "    <tr style=\"text-align: right;\">\n",
       "      <th></th>\n",
       "      <th>learn_process</th>\n",
       "    </tr>\n",
       "    <tr>\n",
       "      <th>user_id</th>\n",
       "      <th></th>\n",
       "    </tr>\n",
       "  </thead>\n",
       "  <tbody>\n",
       "    <tr>\n",
       "      <th>用户10</th>\n",
       "      <td>0.04</td>\n",
       "    </tr>\n",
       "    <tr>\n",
       "      <th>用户100</th>\n",
       "      <td>0.19</td>\n",
       "    </tr>\n",
       "    <tr>\n",
       "      <th>用户10000</th>\n",
       "      <td>0.07</td>\n",
       "    </tr>\n",
       "    <tr>\n",
       "      <th>用户10001</th>\n",
       "      <td>0.04</td>\n",
       "    </tr>\n",
       "    <tr>\n",
       "      <th>用户10002</th>\n",
       "      <td>0.04</td>\n",
       "    </tr>\n",
       "    <tr>\n",
       "      <th>...</th>\n",
       "      <td>...</td>\n",
       "    </tr>\n",
       "    <tr>\n",
       "      <th>用户9993</th>\n",
       "      <td>0.33</td>\n",
       "    </tr>\n",
       "    <tr>\n",
       "      <th>用户9994</th>\n",
       "      <td>0.04</td>\n",
       "    </tr>\n",
       "    <tr>\n",
       "      <th>用户9995</th>\n",
       "      <td>0.07</td>\n",
       "    </tr>\n",
       "    <tr>\n",
       "      <th>用户9996</th>\n",
       "      <td>3.84</td>\n",
       "    </tr>\n",
       "    <tr>\n",
       "      <th>用户9999</th>\n",
       "      <td>0.00</td>\n",
       "    </tr>\n",
       "  </tbody>\n",
       "</table>\n",
       "<p>40807 rows × 1 columns</p>\n",
       "</div>"
      ],
      "text/plain": [
       "         learn_process\n",
       "user_id               \n",
       "用户10              0.04\n",
       "用户100             0.19\n",
       "用户10000           0.07\n",
       "用户10001           0.04\n",
       "用户10002           0.04\n",
       "...                ...\n",
       "用户9993            0.33\n",
       "用户9994            0.04\n",
       "用户9995            0.07\n",
       "用户9996            3.84\n",
       "用户9999            0.00\n",
       "\n",
       "[40807 rows x 1 columns]"
      ]
     },
     "execution_count": 87,
     "metadata": {},
     "output_type": "execute_result"
    }
   ],
   "source": [
    "#!/usr/bin/env python3\n",
    "# -*- coding: utf-8 -*-\n",
    "'''\n",
    "@Time    : 2018/9/17 9:32\n",
    "@Author  : Negen\n",
    "@Site    : \n",
    "@File    : recommend3.py\n",
    "@Software: PyCharm\n",
    "'''\n",
    "import numpy as np\n",
    "users = [\"小明\", \"小花\", \"小美\", \"小张\", \"小李\"]\n",
    "movies = [\"电影1\", \"电影2\", \"电影3\", \"电影4\", \"电影5\", \"电影6\", \"电影7\"]\n",
    "allUserMovieStarList=[\n",
    "            [1, 1, 1, 0, 1, 0, 0],\n",
    "            [0, 1, 1, 0, 0, 1, 0],\n",
    "            [1, 0, 1, 1, 1, 1, 1],\n",
    "            [1, 1, 1, 1, 1, 0, 0],\n",
    "            [1, 1, 0, 1, 0, 1, 1]]\n",
    " \n",
    " \n",
    "def converRow2Col():\n",
    "    \"\"\"\n",
    "    行转列\n",
    "    :return:\n",
    "    \"\"\"\n",
    "    return np.array(allUserMovieStarList).transpose().tolist()\n",
    " \n",
    " \n",
    "def cal_two_mv_sim(movie1Stars: list, movie2Stars:list):\n",
    "    \"\"\"\n",
    "    欧式距离计算两个电影之间的相似度\n",
    "    :param movie1Stars:\n",
    "    :param movie2Stars:\n",
    "    :return:\n",
    "    \"\"\"\n",
    "    return np.sqrt(((np.array(movie1Stars) - np.array(movie2Stars)) ** 2).sum())\n",
    " \n",
    "def cal_all_mv_sim():\n",
    "    \"\"\"\n",
    "    计算所有电影之间的相似度\n",
    "    :return:\n",
    "    \"\"\"\n",
    "    resDic = {}\n",
    "    tempList = converRow2Col()\n",
    "    for i in range(0, len(tempList)):\n",
    "        for j in range(i+1, len(tempList)):\n",
    "            resDic[str(i) + '-' + str(j)] = cal_two_mv_sim(tempList[i], tempList[j])\n",
    "    return resDic\n",
    " \n",
    " \n",
    "def calrecommendMoive(username: str) -> list:\n",
    "    \"\"\"\n",
    "    计算待推荐的电影\n",
    "    :return:list\n",
    "    \"\"\"\n",
    "    temp = {}\n",
    "    movies_sim_dic = cal_all_mv_sim()\n",
    "    userindex = users.index(username)\n",
    "    target_user_movie_list = allUserMovieStarList[userindex]\n",
    "    for i in range(0, len(target_user_movie_list)):\n",
    "        for j in range(i+1, len(target_user_movie_list)):\n",
    "            if target_user_movie_list[i] == 1 and target_user_movie_list[j] == 0 and\\\n",
    "                (movies_sim_dic.get(str(i) + '-' + str(j)) != None or\\\n",
    "                 movies_sim_dic.get(str(j) + '-' + str(i)) != None):\n",
    "                sim = movies_sim_dic.get(str(i) + '-' + str(j)) if(movies_sim_dic.get(str(i) + '-' + str(j)) != None) else movies_sim_dic.get(str(j) + '-' + str(i))\n",
    "                temp[j] = sim\n",
    "            elif target_user_movie_list[i] == 0 and target_user_movie_list[j] == 1 and \\\n",
    "                    (movies_sim_dic.get(str(i"
   ]
  },
  {
   "cell_type": "code",
   "execution_count": null,
   "metadata": {},
   "outputs": [],
   "source": []
  }
 ],
 "metadata": {
  "kernelspec": {
   "display_name": "Python 3",
   "language": "python",
   "name": "python3"
  },
  "language_info": {
   "codemirror_mode": {
    "name": "ipython",
    "version": 3
   },
   "file_extension": ".py",
   "mimetype": "text/x-python",
   "name": "python",
   "nbconvert_exporter": "python",
   "pygments_lexer": "ipython3",
   "version": "3.7.6"
  }
 },
 "nbformat": 4,
 "nbformat_minor": 4
}
