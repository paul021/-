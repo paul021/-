{
 "cells": [
  {
   "cell_type": "code",
   "execution_count": 1,
   "metadata": {},
   "outputs": [],
   "source": [
    "import pandas as pd\n",
    "import numpy as np\n",
    "from datetime import datetime\n",
    "from time import time\n",
    "import math\n",
    "from random import sample\n",
    "from dateutil.relativedelta import relativedelta\n",
    "from dateutil.parser import parse\n",
    "from tqdm import tqdm"
   ]
  },
  {
   "cell_type": "code",
   "execution_count": 2,
   "metadata": {},
   "outputs": [],
   "source": [
    "data = pd.read_csv('./study_information.csv',encoding = 'gbk')"
   ]
  },
  {
   "cell_type": "code",
   "execution_count": 3,
   "metadata": {},
   "outputs": [
    {
     "name": "stderr",
     "output_type": "stream",
     "text": [
      "D:\\Study\\anaconda\\lib\\site-packages\\ipykernel_launcher.py:5: SettingWithCopyWarning: \n",
      "A value is trying to be set on a copy of a slice from a DataFrame\n",
      "\n",
      "See the caveats in the documentation: https://pandas.pydata.org/pandas-docs/stable/user_guide/indexing.html#returning-a-view-versus-a-copy\n",
      "  \"\"\"\n"
     ]
    }
   ],
   "source": [
    "#对其将字符串改为数值类型\n",
    "n = len(data['learn_process'])\n",
    "for i in range(n):\n",
    "    int_value = int((data['learn_process'])[i][:-1])\n",
    "    data['learn_process'][i] = int_value"
   ]
  },
  {
   "cell_type": "code",
   "execution_count": 136,
   "metadata": {},
   "outputs": [
    {
     "data": {
      "text/plain": [
       "0           0\n",
       "1           1\n",
       "2          63\n",
       "3           0\n",
       "4           0\n",
       "         ... \n",
       "194969      0\n",
       "194970      4\n",
       "194971    100\n",
       "194972      0\n",
       "194973      4\n",
       "Name: learn_process, Length: 194974, dtype: int32"
      ]
     },
     "execution_count": 136,
     "metadata": {},
     "output_type": "execute_result"
    }
   ],
   "source": [
    "data['learn_process']"
   ]
  },
  {
   "cell_type": "code",
   "execution_count": 145,
   "metadata": {},
   "outputs": [],
   "source": [
    "data['learn_process'] = data['learn_process'].astype(int)\n",
    "learn_mean = data.groupby('user_id')['learn_process'].mean()\n",
    "learn_mean_top = learn_mean.sort_values(ascending=False)\n",
    "learn_ser = (learn_mean_top>=90)\n",
    "learn_100 = learn_ser.to_frame()"
   ]
  },
  {
   "cell_type": "code",
   "execution_count": 146,
   "metadata": {},
   "outputs": [
    {
     "data": {
      "text/plain": [
       "[Index(['用户31430', '用户33075', '用户33085', '用户33082', '用户14983', '用户33081',\n",
       "        '用户33080', '用户33079', '用户28890', '用户31942',\n",
       "        ...\n",
       "        '用户23978', '用户27308', '用户28908', '用户33995', '用户27060', '用户23545',\n",
       "        '用户23790', '用户23813', '用户24324', '用户24273'],\n",
       "       dtype='object', name='user_id', length=3818)]"
      ]
     },
     "execution_count": 146,
     "metadata": {},
     "output_type": "execute_result"
    }
   ],
   "source": [
    "learn_ser[learn_ser].axes"
   ]
  },
  {
   "cell_type": "code",
   "execution_count": 147,
   "metadata": {},
   "outputs": [],
   "source": [
    "study_100 = list(learn_ser[learn_ser].axes)\n",
    "study_list = []       #要提取的列表\n",
    "for i in range(len(study_100[0])):\n",
    "    study_list.append(study_100[0][i])"
   ]
  },
  {
   "cell_type": "code",
   "execution_count": 148,
   "metadata": {},
   "outputs": [
    {
     "data": {
      "text/plain": [
       "3818"
      ]
     },
     "execution_count": 148,
     "metadata": {},
     "output_type": "execute_result"
    }
   ],
   "source": [
    "len(study_list)"
   ]
  },
  {
   "cell_type": "code",
   "execution_count": 149,
   "metadata": {},
   "outputs": [],
   "source": [
    "# 选出学习进度为100的学习详细表数据\n",
    "loc_ = []\n",
    "for i in range(n):\n",
    "    if data['user_id'][i] in (study_list):\n",
    "        loc_.append(True)\n",
    "    else:\n",
    "        loc_.append(False)\n",
    "data_top = data[loc_]"
   ]
  },
  {
   "cell_type": "code",
   "execution_count": 150,
   "metadata": {},
   "outputs": [
    {
     "data": {
      "text/plain": [
       "用户1193     58\n",
       "用户31694    26\n",
       "用户31664    25\n",
       "用户31792    25\n",
       "用户31724    25\n",
       "用户31653    25\n",
       "用户40480    13\n",
       "用户40990    13\n",
       "用户35230    13\n",
       "用户40564    13\n",
       "用户21306    13\n",
       "用户40436    13\n",
       "用户40847    13\n",
       "用户40883    12\n",
       "用户40885    12\n",
       "用户39881    12\n",
       "用户40332    12\n",
       "用户40986    12\n",
       "用户40813    12\n",
       "用户40446    12\n",
       "用户40449    12\n",
       "用户40888    12\n",
       "用户40060    12\n",
       "用户39886    12\n",
       "用户40304    12\n",
       "用户40325    12\n",
       "用户40424    12\n",
       "用户40302    12\n",
       "用户40644    12\n",
       "用户40831    12\n",
       "Name: user_id, dtype: int64"
      ]
     },
     "execution_count": 150,
     "metadata": {},
     "output_type": "execute_result"
    }
   ],
   "source": [
    "data_top['user_id'].value_counts().head(30)"
   ]
  },
  {
   "cell_type": "code",
   "execution_count": 151,
   "metadata": {},
   "outputs": [
    {
     "name": "stdout",
     "output_type": "stream",
     "text": [
      "91.88\n",
      "92.96\n",
      "94.12\n",
      "91.88\n"
     ]
    }
   ],
   "source": [
    "print(learn_mean_top['用户31664'])\n",
    "print(learn_mean_top['用户31792'])\n",
    "print(learn_mean_top['用户31724'])\n",
    "print(learn_mean_top['用户31653'])"
   ]
  },
  {
   "cell_type": "code",
   "execution_count": 152,
   "metadata": {},
   "outputs": [
    {
     "data": {
      "text/plain": [
       "用户18436    105\n",
       "用户4         91\n",
       "用户24        90\n",
       "用户33203     82\n",
       "用户29672     78\n",
       "用户5836      77\n",
       "用户4177      74\n",
       "用户5         74\n",
       "用户1393      73\n",
       "用户791       71\n",
       "Name: user_id, dtype: int64"
      ]
     },
     "execution_count": 152,
     "metadata": {},
     "output_type": "execute_result"
    }
   ],
   "source": [
    "data['user_id'].value_counts().head(10)"
   ]
  },
  {
   "cell_type": "code",
   "execution_count": null,
   "metadata": {},
   "outputs": [],
   "source": []
  }
 ],
 "metadata": {
  "kernelspec": {
   "display_name": "Python 3",
   "language": "python",
   "name": "python3"
  },
  "language_info": {
   "codemirror_mode": {
    "name": "ipython",
    "version": 3
   },
   "file_extension": ".py",
   "mimetype": "text/x-python",
   "name": "python",
   "nbconvert_exporter": "python",
   "pygments_lexer": "ipython3",
   "version": "3.7.6"
  }
 },
 "nbformat": 4,
 "nbformat_minor": 4
}
