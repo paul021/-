{
 "cells": [
  {
   "cell_type": "code",
   "execution_count": null,
   "metadata": {},
   "outputs": [],
   "source": []
  },
  {
   "cell_type": "code",
   "execution_count": 9,
   "metadata": {},
   "outputs": [
    {
     "data": {
      "text/plain": [
       "True"
      ]
     },
     "execution_count": 9,
     "metadata": {},
     "output_type": "execute_result"
    }
   ],
   "source": [
    "import pandas as pd\n",
    "from pyecharts import Map\n",
    "# 读取数据保存为data\n",
    "data = pd.read_csv(\"./task1_1_2.csv\",encoding = 'gbk')\n",
    "'广东' in data['login_place'][0]"
   ]
  },
  {
   "cell_type": "code",
   "execution_count": 50,
   "metadata": {},
   "outputs": [],
   "source": [
    "#\n",
    "pro = {'河南':0,'北京':0,'河北':0,'辽宁': 0, '江西': 0, '上海': 0, '安徽': 0, \n",
    "            '江苏': 0, '湖南': 0,'浙江': 0, '海南': 0, '广东': 0, '湖北': 0, '黑龙江': 0, \n",
    "            '澳门': 0, '陕西': 0, '四川': 0, '内蒙古': 0,'重庆': 0,'云南': 0, '贵州': 0, '吉林': 0,\n",
    "            '山西': 0, '山东': 0, '福建': 0, '青海': 0, '天津': 0,'新疆':0,'广西':0,'甘肃':0,'西藏':0}"
   ]
  },
  {
   "cell_type": "code",
   "execution_count": 51,
   "metadata": {},
   "outputs": [],
   "source": [
    "for key, value in pro.items():\n",
    "    tem = 0\n",
    "    for i in range(len(data['login_place'])):\n",
    "        if key in data['login_place'][i]:\n",
    "            pro[key] = tem+1\n",
    "            tem +=1"
   ]
  },
  {
   "cell_type": "code",
   "execution_count": 52,
   "metadata": {},
   "outputs": [
    {
     "data": {
      "text/plain": [
       "{'河南': 18410,\n",
       " '北京': 4918,\n",
       " '河北': 14627,\n",
       " '辽宁': 2898,\n",
       " '江西': 5757,\n",
       " '上海': 5355,\n",
       " '安徽': 10263,\n",
       " '江苏': 11180,\n",
       " '湖南': 13004,\n",
       " '浙江': 13266,\n",
       " '海南': 2054,\n",
       " '广东': 120153,\n",
       " '湖北': 32882,\n",
       " '黑龙江': 3730,\n",
       " '澳门': 171,\n",
       " '陕西': 11989,\n",
       " '四川': 13008,\n",
       " '内蒙古': 1864,\n",
       " '重庆': 13152,\n",
       " '云南': 3715,\n",
       " '贵州': 18560,\n",
       " '吉林': 2270,\n",
       " '山西': 8829,\n",
       " '山东': 14778,\n",
       " '福建': 6525,\n",
       " '青海': 454,\n",
       " '天津': 1800,\n",
       " '新疆': 1196,\n",
       " '广西': 13944,\n",
       " '甘肃': 4116,\n",
       " '西藏': 102}"
      ]
     },
     "execution_count": 52,
     "metadata": {},
     "output_type": "execute_result"
    }
   ],
   "source": [
    "pro"
   ]
  },
  {
   "cell_type": "code",
   "execution_count": 88,
   "metadata": {},
   "outputs": [],
   "source": [
    "province_distribution = pro\n",
    "provice = list(province_distribution.keys())\n",
    "values = list(province_distribution.values())\n",
    "map = Map(\"中国地图\", '中国地图', width=1200, height=600)\n",
    "map.add(\"\", provice, values, visual_range=[0,125000],maptype='china', is_visualmap=True,\n",
    "        visual_text_color='#000')\n",
    "map.render(path=\"各省份平台登录次数热力地图.html\")"
   ]
  },
  {
   "cell_type": "code",
   "execution_count": 55,
   "metadata": {
    "collapsed": true
   },
   "outputs": [
    {
     "data": {
      "text/plain": [
       "{'河南': 18410,\n",
       " '北京': 4918,\n",
       " '河北': 14627,\n",
       " '辽宁': 2898,\n",
       " '江西': 5757,\n",
       " '上海': 5355,\n",
       " '安徽': 10263,\n",
       " '江苏': 11180,\n",
       " '湖南': 13004,\n",
       " '浙江': 13266,\n",
       " '海南': 2054,\n",
       " '广东': 120153,\n",
       " '湖北': 32882,\n",
       " '黑龙江': 3730,\n",
       " '澳门': 171,\n",
       " '陕西': 11989,\n",
       " '四川': 13008,\n",
       " '内蒙古': 1864,\n",
       " '重庆': 13152,\n",
       " '云南': 3715,\n",
       " '贵州': 18560,\n",
       " '吉林': 2270,\n",
       " '山西': 8829,\n",
       " '山东': 14778,\n",
       " '福建': 6525,\n",
       " '青海': 454,\n",
       " '天津': 1800,\n",
       " '新疆': 1196,\n",
       " '广西': 13944,\n",
       " '甘肃': 4116,\n",
       " '西藏': 102}"
      ]
     },
     "execution_count": 55,
     "metadata": {},
     "output_type": "execute_result"
    }
   ],
   "source": [
    "pro"
   ]
  },
  {
   "cell_type": "code",
   "execution_count": 72,
   "metadata": {},
   "outputs": [],
   "source": [
    "shi = {'广州':0,'深圳':0,'珠海':0,'汕头':0,'佛山':0,'韶关':0,'湛江':0,'肇庆':0,'江门':0,'茂名':0,'惠州':0,\n",
    "       '梅州':0,'汕尾':0,'河源':0,'阳江':0,'清远':0,'东莞':0,'中山':0,'潮州':0,'揭阳':0,'云浮':0}\n",
    "for key, value in shi.items():\n",
    "    tem = 0\n",
    "    for i in range(len(data['login_place'])):\n",
    "        if key in data['login_place'][i]:\n",
    "            shi[key] = tem+1\n",
    "            tem +=1"
   ]
  },
  {
   "cell_type": "code",
   "execution_count": 90,
   "metadata": {},
   "outputs": [],
   "source": [
    "#省市图\n",
    "city = list(shi.keys())\n",
    "values2 = list(shi.values())\n",
    "map2 = Map(\"广东地图\", '广东', width=1200, height=600)\n",
    "map2.add('广东', city1, values2, visual_range=[1, 27500], maptype='广东',is_visualmap=True, visual_text_color='#000')\n",
    "map2.render(path=\"广东各城市平台登录次数热力地图.html\")"
   ]
  },
  {
   "cell_type": "code",
   "execution_count": 83,
   "metadata": {},
   "outputs": [],
   "source": [
    "city1 =[]\n",
    "for i in city:\n",
    "    a = i + '市'\n",
    "    city1.append(a)"
   ]
  },
  {
   "cell_type": "code",
   "execution_count": 84,
   "metadata": {},
   "outputs": [
    {
     "data": {
      "text/plain": [
       "['广州市',\n",
       " '深圳市',\n",
       " '珠海市',\n",
       " '汕头市',\n",
       " '佛山市',\n",
       " '韶关市',\n",
       " '湛江市',\n",
       " '肇庆市',\n",
       " '江门市',\n",
       " '茂名市',\n",
       " '惠州市',\n",
       " '梅州市',\n",
       " '汕尾市',\n",
       " '河源市',\n",
       " '阳江市',\n",
       " '清远市',\n",
       " '东莞市',\n",
       " '中山市',\n",
       " '潮州市',\n",
       " '揭阳市',\n",
       " '云浮市']"
      ]
     },
     "execution_count": 84,
     "metadata": {},
     "output_type": "execute_result"
    }
   ],
   "source": [
    "city1"
   ]
  },
  {
   "cell_type": "code",
   "execution_count": null,
   "metadata": {},
   "outputs": [],
   "source": []
  }
 ],
 "metadata": {
  "kernelspec": {
   "display_name": "Python 3",
   "language": "python",
   "name": "python3"
  },
  "language_info": {
   "codemirror_mode": {
    "name": "ipython",
    "version": 3
   },
   "file_extension": ".py",
   "mimetype": "text/x-python",
   "name": "python",
   "nbconvert_exporter": "python",
   "pygments_lexer": "ipython3",
   "version": "3.7.6"
  }
 },
 "nbformat": 4,
 "nbformat_minor": 4
}
