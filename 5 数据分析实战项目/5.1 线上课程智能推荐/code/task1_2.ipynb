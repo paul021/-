{
 "cells": [
  {
   "cell_type": "code",
   "execution_count": 1,
   "metadata": {},
   "outputs": [],
   "source": [
    "import pandas as pd\n",
    "from datetime import datetime\n",
    "# 读取数据保存为data\n",
    "data = pd.read_csv(\"./users.csv\",encoding = 'gbk')"
   ]
  },
  {
   "cell_type": "markdown",
   "metadata": {},
   "source": [
    "# 数据探索"
   ]
  },
  {
   "cell_type": "code",
   "execution_count": 2,
   "metadata": {},
   "outputs": [
    {
     "name": "stdout",
     "output_type": "stream",
     "text": [
      "<class 'pandas.core.frame.DataFrame'>\n",
      "RangeIndex: 43983 entries, 0 to 43982\n",
      "Data columns (total 7 columns):\n",
      " #   Column                  Non-Null Count  Dtype \n",
      "---  ------                  --------------  ----- \n",
      " 0   user_id                 43916 non-null  object\n",
      " 1   register_time           43983 non-null  object\n",
      " 2   recently_logged         43983 non-null  object\n",
      " 3   number_of_classes_join  43983 non-null  int64 \n",
      " 4   number_of_classes_out   43983 non-null  int64 \n",
      " 5   learn_time              43983 non-null  object\n",
      " 6   school                  10571 non-null  object\n",
      "dtypes: int64(2), object(5)\n",
      "memory usage: 2.3+ MB\n"
     ]
    }
   ],
   "source": [
    "data.info()"
   ]
  },
  {
   "cell_type": "markdown",
   "metadata": {},
   "source": [
    "## 删除user_id为空的数据"
   ]
  },
  {
   "cell_type": "code",
   "execution_count": 6,
   "metadata": {},
   "outputs": [],
   "source": [
    "#删除一行用户id为空的数据\n",
    "data = data[data['user_id'].notnull()]\n"
   ]
  },
  {
   "cell_type": "markdown",
   "metadata": {},
   "source": [
    "## 删除重复值\n",
    "### 用duplicates()方法对表user.csv中的重复出现的user_id用户ID进行删除,只保留第一次出现的\n",
    "### 因为每个用户注册后的ID是唯一的,注册时间是是唯一的,不可能有同是时刻注册了两个相同的用户名\n",
    "### 删除后的数据存储为new_data"
   ]
  },
  {
   "cell_type": "code",
   "execution_count": 7,
   "metadata": {},
   "outputs": [
    {
     "data": {
      "text/plain": [
       "用户38350    3\n",
       "用户40732    2\n",
       "用户36488    2\n",
       "用户31807    2\n",
       "用户25993    2\n",
       "Name: user_id, dtype: int64"
      ]
     },
     "execution_count": 7,
     "metadata": {},
     "output_type": "execute_result"
    }
   ],
   "source": [
    "data['user_id'].value_counts().head(5)"
   ]
  },
  {
   "cell_type": "code",
   "execution_count": 3,
   "metadata": {},
   "outputs": [
    {
     "name": "stdout",
     "output_type": "stream",
     "text": [
      "<class 'pandas.core.frame.DataFrame'>\n",
      "Int64Index: 43908 entries, 0 to 43982\n",
      "Data columns (total 6 columns):\n",
      " #   Column                  Non-Null Count  Dtype \n",
      "---  ------                  --------------  ----- \n",
      " 0   user_id                 43908 non-null  object\n",
      " 1   register_time           43908 non-null  object\n",
      " 2   recently_logged         43908 non-null  object\n",
      " 3   number_of_classes_join  43908 non-null  int64 \n",
      " 4   number_of_classes_out   43908 non-null  int64 \n",
      " 5   learn_time              43908 non-null  object\n",
      "dtypes: int64(2), object(4)\n",
      "memory usage: 2.3+ MB\n"
     ]
    }
   ],
   "source": [
    "data.duplicated(subset='user_id').value_counts()\n",
    "new_data = data.drop_duplicates(subset='user_id',keep = 'first',inplace = False)\n",
    "#删除学校这一列\n",
    "del new_data['school']"
   ]
  },
  {
   "cell_type": "code",
   "execution_count": 4,
   "metadata": {},
   "outputs": [
    {
     "data": {
      "text/plain": [
       "False    38533\n",
       "True      5375\n",
       "Name: recently_logged, dtype: int64"
      ]
     },
     "execution_count": 4,
     "metadata": {},
     "output_type": "execute_result"
    }
   ],
   "source": [
    "(new_data['recently_logged'] == '--').value_counts()"
   ]
  },
  {
   "cell_type": "code",
   "execution_count": 5,
   "metadata": {},
   "outputs": [],
   "source": [
    "#任务 1.2 对用户信息表中 recently_logged 字段的“--”值进行必要的处理，\n",
    "#将处理结果保存为“task1_2.csv”，并在报告中描述处理过程。\n",
    "new_data1 = new_data[new_data['recently_logged'] != '--']\n",
    "rg_data = new_data1['register_time'].apply(lambda x:datetime.strptime(x,'%Y/%m/%d %H:%M'))\n",
    "rc_data = new_data1['recently_logged'].apply(lambda x:datetime.strptime(x,'%Y/%m/%d %H:%M'))"
   ]
  },
  {
   "cell_type": "code",
   "execution_count": 6,
   "metadata": {},
   "outputs": [],
   "source": [
    "#pd.set_option('display.max_rows', None)\n",
    "a=(rc_data - rg_data).value_counts()"
   ]
  },
  {
   "cell_type": "code",
   "execution_count": 189,
   "metadata": {
    "scrolled": true
   },
   "outputs": [
    {
     "data": {
      "text/html": [
       "<div>\n",
       "<style scoped>\n",
       "    .dataframe tbody tr th:only-of-type {\n",
       "        vertical-align: middle;\n",
       "    }\n",
       "\n",
       "    .dataframe tbody tr th {\n",
       "        vertical-align: top;\n",
       "    }\n",
       "\n",
       "    .dataframe thead th {\n",
       "        text-align: right;\n",
       "    }\n",
       "</style>\n",
       "<table border=\"1\" class=\"dataframe\">\n",
       "  <thead>\n",
       "    <tr style=\"text-align: right;\">\n",
       "      <th></th>\n",
       "      <th>user_id</th>\n",
       "      <th>register_time</th>\n",
       "      <th>recently_logged</th>\n",
       "      <th>number_of_classes_join</th>\n",
       "      <th>number_of_classes_out</th>\n",
       "      <th>learn_time</th>\n",
       "    </tr>\n",
       "  </thead>\n",
       "  <tbody>\n",
       "    <tr>\n",
       "      <th>0</th>\n",
       "      <td>用户44251</td>\n",
       "      <td>2020/6/18 9:49</td>\n",
       "      <td>2020/6/18 9:49</td>\n",
       "      <td>0</td>\n",
       "      <td>0</td>\n",
       "      <td>41.25</td>\n",
       "    </tr>\n",
       "    <tr>\n",
       "      <th>1</th>\n",
       "      <td>用户44250</td>\n",
       "      <td>2020/6/18 9:47</td>\n",
       "      <td>2020/6/18 9:48</td>\n",
       "      <td>0</td>\n",
       "      <td>0</td>\n",
       "      <td>0</td>\n",
       "    </tr>\n",
       "    <tr>\n",
       "      <th>2</th>\n",
       "      <td>用户44249</td>\n",
       "      <td>2020/6/18 9:43</td>\n",
       "      <td>2020/6/18 9:43</td>\n",
       "      <td>0</td>\n",
       "      <td>0</td>\n",
       "      <td>16.22</td>\n",
       "    </tr>\n",
       "    <tr>\n",
       "      <th>3</th>\n",
       "      <td>用户44248</td>\n",
       "      <td>2020/6/18 9:09</td>\n",
       "      <td>2020/6/18 9:09</td>\n",
       "      <td>0</td>\n",
       "      <td>0</td>\n",
       "      <td>0</td>\n",
       "    </tr>\n",
       "    <tr>\n",
       "      <th>4</th>\n",
       "      <td>用户44247</td>\n",
       "      <td>2020/6/18 7:41</td>\n",
       "      <td>2020/6/18 8:15</td>\n",
       "      <td>0</td>\n",
       "      <td>0</td>\n",
       "      <td>1.8</td>\n",
       "    </tr>\n",
       "    <tr>\n",
       "      <th>...</th>\n",
       "      <td>...</td>\n",
       "      <td>...</td>\n",
       "      <td>...</td>\n",
       "      <td>...</td>\n",
       "      <td>...</td>\n",
       "      <td>...</td>\n",
       "    </tr>\n",
       "    <tr>\n",
       "      <th>43978</th>\n",
       "      <td>用户6</td>\n",
       "      <td>2018/9/11 16:13</td>\n",
       "      <td>2018/9/11 16:14</td>\n",
       "      <td>0</td>\n",
       "      <td>0</td>\n",
       "      <td>0</td>\n",
       "    </tr>\n",
       "    <tr>\n",
       "      <th>43979</th>\n",
       "      <td>用户5</td>\n",
       "      <td>2018/9/10 15:48</td>\n",
       "      <td>2020/6/15 17:13</td>\n",
       "      <td>9</td>\n",
       "      <td>5</td>\n",
       "      <td>2,116.15</td>\n",
       "    </tr>\n",
       "    <tr>\n",
       "      <th>43980</th>\n",
       "      <td>用户4</td>\n",
       "      <td>2018/9/10 14:15</td>\n",
       "      <td>2020/6/5 9:50</td>\n",
       "      <td>4</td>\n",
       "      <td>0</td>\n",
       "      <td>341.2</td>\n",
       "    </tr>\n",
       "    <tr>\n",
       "      <th>43981</th>\n",
       "      <td>用户3</td>\n",
       "      <td>2018/9/4 13:32</td>\n",
       "      <td>2020/6/18 9:18</td>\n",
       "      <td>2</td>\n",
       "      <td>1</td>\n",
       "      <td>370.35</td>\n",
       "    </tr>\n",
       "    <tr>\n",
       "      <th>43982</th>\n",
       "      <td>用户1</td>\n",
       "      <td>2018/9/3 10:00</td>\n",
       "      <td>2018/11/4 11:20</td>\n",
       "      <td>0</td>\n",
       "      <td>0</td>\n",
       "      <td>0</td>\n",
       "    </tr>\n",
       "  </tbody>\n",
       "</table>\n",
       "<p>43908 rows × 6 columns</p>\n",
       "</div>"
      ],
      "text/plain": [
       "       user_id    register_time  recently_logged  number_of_classes_join  \\\n",
       "0      用户44251   2020/6/18 9:49   2020/6/18 9:49                       0   \n",
       "1      用户44250   2020/6/18 9:47   2020/6/18 9:48                       0   \n",
       "2      用户44249   2020/6/18 9:43   2020/6/18 9:43                       0   \n",
       "3      用户44248   2020/6/18 9:09   2020/6/18 9:09                       0   \n",
       "4      用户44247   2020/6/18 7:41   2020/6/18 8:15                       0   \n",
       "...        ...              ...              ...                     ...   \n",
       "43978      用户6  2018/9/11 16:13  2018/9/11 16:14                       0   \n",
       "43979      用户5  2018/9/10 15:48  2020/6/15 17:13                       9   \n",
       "43980      用户4  2018/9/10 14:15    2020/6/5 9:50                       4   \n",
       "43981      用户3   2018/9/4 13:32   2020/6/18 9:18                       2   \n",
       "43982      用户1   2018/9/3 10:00  2018/11/4 11:20                       0   \n",
       "\n",
       "       number_of_classes_out learn_time  \n",
       "0                          0      41.25  \n",
       "1                          0          0  \n",
       "2                          0      16.22  \n",
       "3                          0          0  \n",
       "4                          0        1.8  \n",
       "...                      ...        ...  \n",
       "43978                      0          0  \n",
       "43979                      5   2,116.15  \n",
       "43980                      0      341.2  \n",
       "43981                      1     370.35  \n",
       "43982                      0          0  \n",
       "\n",
       "[43908 rows x 6 columns]"
      ]
     },
     "execution_count": 189,
     "metadata": {},
     "output_type": "execute_result"
    }
   ],
   "source": [
    "#保存表格输出\n",
    "new_data.to_excel('./task1_2.xlsx',index = False)\n",
    "new_data"
   ]
  },
  {
   "cell_type": "code",
   "execution_count": 7,
   "metadata": {},
   "outputs": [
    {
     "data": {
      "text/plain": [
       "0 days 00:00:00      8124\n",
       "0 days 00:01:00      4568\n",
       "0 days 00:02:00      1078\n",
       "0 days 00:03:00       415\n",
       "0 days 00:04:00       253\n",
       "                     ... \n",
       "45 days 19:08:00        1\n",
       "13 days 05:16:00        1\n",
       "25 days 00:42:00        1\n",
       "56 days 09:13:00        1\n",
       "161 days 16:53:00       1\n",
       "Length: 20312, dtype: int64"
      ]
     },
     "execution_count": 7,
     "metadata": {},
     "output_type": "execute_result"
    }
   ],
   "source": [
    "a"
   ]
  },
  {
   "cell_type": "code",
   "execution_count": 157,
   "metadata": {},
   "outputs": [
    {
     "name": "stderr",
     "output_type": "stream",
     "text": [
      "D:\\Study\\anaconda\\lib\\site-packages\\ipykernel_launcher.py:1: SettingWithCopyWarning: \n",
      "A value is trying to be set on a copy of a slice from a DataFrame\n",
      "\n",
      "See the caveats in the documentation: https://pandas.pydata.org/pandas-docs/stable/user_guide/indexing.html#returning-a-view-versus-a-copy\n",
      "  \"\"\"Entry point for launching an IPython kernel.\n"
     ]
    }
   ],
   "source": [
    "new_data['recently_logged'][0]=1"
   ]
  },
  {
   "cell_type": "code",
   "execution_count": 8,
   "metadata": {},
   "outputs": [
    {
     "data": {
      "text/plain": [
       "0.39996061441512404"
      ]
     },
     "execution_count": 8,
     "metadata": {},
     "output_type": "execute_result"
    }
   ],
   "source": [
    "8124/20312"
   ]
  },
  {
   "cell_type": "code",
   "execution_count": null,
   "metadata": {},
   "outputs": [],
   "source": []
  }
 ],
 "metadata": {
  "kernelspec": {
   "display_name": "Python 3",
   "language": "python",
   "name": "python3"
  },
  "language_info": {
   "codemirror_mode": {
    "name": "ipython",
    "version": 3
   },
   "file_extension": ".py",
   "mimetype": "text/x-python",
   "name": "python",
   "nbconvert_exporter": "python",
   "pygments_lexer": "ipython3",
   "version": "3.7.6"
  }
 },
 "nbformat": 4,
 "nbformat_minor": 4
}
